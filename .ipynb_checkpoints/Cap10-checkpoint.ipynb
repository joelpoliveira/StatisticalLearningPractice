{
 "cells": [
  {
   "cell_type": "code",
   "execution_count": 1,
   "id": "6ee9d182",
   "metadata": {},
   "outputs": [],
   "source": [
    "import pandas as pd\n",
    "import numpy as np\n",
    "import seaborn as sns\n",
    "import matplotlib.pyplot as plt\n",
    "\n",
    "from statsmodels.datasets import get_rdataset\n",
    "\n",
    "from sklearn.decomposition import PCA\n",
    "from sklearn.preprocessing import StandardScaler\n",
    "from sklearn.cluster import KMeans, DBSCAN, k_means, AgglomerativeClustering\n",
    "from sklearn.pipeline import Pipeline, make_pipeline\n",
    "from sklearn.datasets import make_classification\n",
    "from sklearn.metrics.pairwise import euclidean_distances\n",
    "\n",
    "from scipy.cluster.hierarchy import dendrogram, linkage, cut_tree\n",
    "from scipy.spatial.distance import euclidean\n",
    "\n",
    "#from sklearn.datasets import get_data_home"
   ]
  },
  {
   "cell_type": "markdown",
   "id": "8188149d",
   "metadata": {},
   "source": [
    "## Labs - 1\n",
    "### PCA"
   ]
  },
  {
   "cell_type": "code",
   "execution_count": 10,
   "id": "bd55b269",
   "metadata": {},
   "outputs": [],
   "source": [
    "df = get_rdataset(\"USArrests\", cache=True).data"
   ]
  },
  {
   "cell_type": "code",
   "execution_count": 12,
   "id": "a78bed5c",
   "metadata": {},
   "outputs": [
    {
     "data": {
      "text/html": [
       "<div>\n",
       "<style scoped>\n",
       "    .dataframe tbody tr th:only-of-type {\n",
       "        vertical-align: middle;\n",
       "    }\n",
       "\n",
       "    .dataframe tbody tr th {\n",
       "        vertical-align: top;\n",
       "    }\n",
       "\n",
       "    .dataframe thead th {\n",
       "        text-align: right;\n",
       "    }\n",
       "</style>\n",
       "<table border=\"1\" class=\"dataframe\">\n",
       "  <thead>\n",
       "    <tr style=\"text-align: right;\">\n",
       "      <th></th>\n",
       "      <th>Murder</th>\n",
       "      <th>Assault</th>\n",
       "      <th>UrbanPop</th>\n",
       "      <th>Rape</th>\n",
       "    </tr>\n",
       "  </thead>\n",
       "  <tbody>\n",
       "    <tr>\n",
       "      <th>Alabama</th>\n",
       "      <td>13.2</td>\n",
       "      <td>236</td>\n",
       "      <td>58</td>\n",
       "      <td>21.2</td>\n",
       "    </tr>\n",
       "    <tr>\n",
       "      <th>Alaska</th>\n",
       "      <td>10.0</td>\n",
       "      <td>263</td>\n",
       "      <td>48</td>\n",
       "      <td>44.5</td>\n",
       "    </tr>\n",
       "    <tr>\n",
       "      <th>Arizona</th>\n",
       "      <td>8.1</td>\n",
       "      <td>294</td>\n",
       "      <td>80</td>\n",
       "      <td>31.0</td>\n",
       "    </tr>\n",
       "    <tr>\n",
       "      <th>Arkansas</th>\n",
       "      <td>8.8</td>\n",
       "      <td>190</td>\n",
       "      <td>50</td>\n",
       "      <td>19.5</td>\n",
       "    </tr>\n",
       "    <tr>\n",
       "      <th>California</th>\n",
       "      <td>9.0</td>\n",
       "      <td>276</td>\n",
       "      <td>91</td>\n",
       "      <td>40.6</td>\n",
       "    </tr>\n",
       "  </tbody>\n",
       "</table>\n",
       "</div>"
      ],
      "text/plain": [
       "            Murder  Assault  UrbanPop  Rape\n",
       "Alabama       13.2      236        58  21.2\n",
       "Alaska        10.0      263        48  44.5\n",
       "Arizona        8.1      294        80  31.0\n",
       "Arkansas       8.8      190        50  19.5\n",
       "California     9.0      276        91  40.6"
      ]
     },
     "execution_count": 12,
     "metadata": {},
     "output_type": "execute_result"
    }
   ],
   "source": [
    "df.head()"
   ]
  },
  {
   "cell_type": "code",
   "execution_count": 14,
   "id": "3e91e28d",
   "metadata": {},
   "outputs": [
    {
     "data": {
      "text/plain": [
       "Murder        7.788\n",
       "Assault     170.760\n",
       "UrbanPop     65.540\n",
       "Rape         21.232\n",
       "dtype: float64"
      ]
     },
     "execution_count": 14,
     "metadata": {},
     "output_type": "execute_result"
    }
   ],
   "source": [
    "df.mean()"
   ]
  },
  {
   "cell_type": "code",
   "execution_count": 18,
   "id": "b543972c",
   "metadata": {},
   "outputs": [
    {
     "data": {
      "text/plain": [
       "Murder       4.355510\n",
       "Assault     83.337661\n",
       "UrbanPop    14.474763\n",
       "Rape         9.366385\n",
       "dtype: float64"
      ]
     },
     "execution_count": 18,
     "metadata": {},
     "output_type": "execute_result"
    }
   ],
   "source": [
    "df.std()"
   ]
  },
  {
   "cell_type": "code",
   "execution_count": 38,
   "id": "f9176ff8",
   "metadata": {},
   "outputs": [],
   "source": [
    "scaler = StandardScaler()\n",
    "std_df = scaler.fit_transform(df)\n",
    "std_df = pd.DataFrame(data = std_df,\n",
    "                     index=df.index,\n",
    "                     columns=df.columns)"
   ]
  },
  {
   "cell_type": "code",
   "execution_count": 39,
   "id": "997d72ab",
   "metadata": {},
   "outputs": [
    {
     "data": {
      "text/html": [
       "<div>\n",
       "<style scoped>\n",
       "    .dataframe tbody tr th:only-of-type {\n",
       "        vertical-align: middle;\n",
       "    }\n",
       "\n",
       "    .dataframe tbody tr th {\n",
       "        vertical-align: top;\n",
       "    }\n",
       "\n",
       "    .dataframe thead th {\n",
       "        text-align: right;\n",
       "    }\n",
       "</style>\n",
       "<table border=\"1\" class=\"dataframe\">\n",
       "  <thead>\n",
       "    <tr style=\"text-align: right;\">\n",
       "      <th></th>\n",
       "      <th>Murder</th>\n",
       "      <th>Assault</th>\n",
       "      <th>UrbanPop</th>\n",
       "      <th>Rape</th>\n",
       "    </tr>\n",
       "  </thead>\n",
       "  <tbody>\n",
       "    <tr>\n",
       "      <th>Alabama</th>\n",
       "      <td>1.255179</td>\n",
       "      <td>0.790787</td>\n",
       "      <td>-0.526195</td>\n",
       "      <td>-0.003451</td>\n",
       "    </tr>\n",
       "    <tr>\n",
       "      <th>Alaska</th>\n",
       "      <td>0.513019</td>\n",
       "      <td>1.118060</td>\n",
       "      <td>-1.224067</td>\n",
       "      <td>2.509424</td>\n",
       "    </tr>\n",
       "    <tr>\n",
       "      <th>Arizona</th>\n",
       "      <td>0.072361</td>\n",
       "      <td>1.493817</td>\n",
       "      <td>1.009122</td>\n",
       "      <td>1.053466</td>\n",
       "    </tr>\n",
       "    <tr>\n",
       "      <th>Arkansas</th>\n",
       "      <td>0.234708</td>\n",
       "      <td>0.233212</td>\n",
       "      <td>-1.084492</td>\n",
       "      <td>-0.186794</td>\n",
       "    </tr>\n",
       "    <tr>\n",
       "      <th>California</th>\n",
       "      <td>0.281093</td>\n",
       "      <td>1.275635</td>\n",
       "      <td>1.776781</td>\n",
       "      <td>2.088814</td>\n",
       "    </tr>\n",
       "  </tbody>\n",
       "</table>\n",
       "</div>"
      ],
      "text/plain": [
       "              Murder   Assault  UrbanPop      Rape\n",
       "Alabama     1.255179  0.790787 -0.526195 -0.003451\n",
       "Alaska      0.513019  1.118060 -1.224067  2.509424\n",
       "Arizona     0.072361  1.493817  1.009122  1.053466\n",
       "Arkansas    0.234708  0.233212 -1.084492 -0.186794\n",
       "California  0.281093  1.275635  1.776781  2.088814"
      ]
     },
     "execution_count": 39,
     "metadata": {},
     "output_type": "execute_result"
    }
   ],
   "source": [
    "std_df.head()"
   ]
  },
  {
   "cell_type": "code",
   "execution_count": 40,
   "id": "43d12f82",
   "metadata": {},
   "outputs": [
    {
     "data": {
      "text/plain": [
       "Murder     -7.105427e-17\n",
       "Assault     1.387779e-16\n",
       "UrbanPop   -4.396483e-16\n",
       "Rape        8.593126e-16\n",
       "dtype: float64"
      ]
     },
     "execution_count": 40,
     "metadata": {},
     "output_type": "execute_result"
    }
   ],
   "source": [
    "std_df.mean()"
   ]
  },
  {
   "cell_type": "code",
   "execution_count": 41,
   "id": "9570b541",
   "metadata": {},
   "outputs": [
    {
     "data": {
      "text/plain": [
       "Murder      1.010153\n",
       "Assault     1.010153\n",
       "UrbanPop    1.010153\n",
       "Rape        1.010153\n",
       "dtype: float64"
      ]
     },
     "execution_count": 41,
     "metadata": {},
     "output_type": "execute_result"
    }
   ],
   "source": [
    "std_df.std()"
   ]
  },
  {
   "cell_type": "code",
   "execution_count": 46,
   "id": "727c738c",
   "metadata": {},
   "outputs": [
    {
     "data": {
      "text/plain": [
       "array([ 4.31173469, 82.50007515, 14.3292847 ,  9.27224762])"
      ]
     },
     "execution_count": 46,
     "metadata": {},
     "output_type": "execute_result"
    }
   ],
   "source": [
    "scaler.scale_"
   ]
  },
  {
   "cell_type": "code",
   "execution_count": 58,
   "id": "683e2fb3",
   "metadata": {},
   "outputs": [
    {
     "data": {
      "text/plain": [
       "array([  7.788, 170.76 ,  65.54 ,  21.232])"
      ]
     },
     "execution_count": 58,
     "metadata": {},
     "output_type": "execute_result"
    }
   ],
   "source": [
    "scaler.mean_"
   ]
  },
  {
   "cell_type": "code",
   "execution_count": 59,
   "id": "76213d56",
   "metadata": {},
   "outputs": [
    {
     "data": {
      "text/plain": [
       "array([  18.591056, 6806.2624  ,  205.3284  ,   85.974576])"
      ]
     },
     "execution_count": 59,
     "metadata": {},
     "output_type": "execute_result"
    }
   ],
   "source": [
    "scaler.var_"
   ]
  },
  {
   "cell_type": "code",
   "execution_count": 49,
   "id": "5180cb38",
   "metadata": {},
   "outputs": [
    {
     "data": {
      "text/plain": [
       "PCA()"
      ]
     },
     "execution_count": 49,
     "metadata": {},
     "output_type": "execute_result"
    }
   ],
   "source": [
    "pca = PCA()\n",
    "pca.fit(std_df)"
   ]
  },
  {
   "cell_type": "code",
   "execution_count": 51,
   "id": "254d03e2",
   "metadata": {},
   "outputs": [
    {
     "data": {
      "text/html": [
       "<div>\n",
       "<style scoped>\n",
       "    .dataframe tbody tr th:only-of-type {\n",
       "        vertical-align: middle;\n",
       "    }\n",
       "\n",
       "    .dataframe tbody tr th {\n",
       "        vertical-align: top;\n",
       "    }\n",
       "\n",
       "    .dataframe thead th {\n",
       "        text-align: right;\n",
       "    }\n",
       "</style>\n",
       "<table border=\"1\" class=\"dataframe\">\n",
       "  <thead>\n",
       "    <tr style=\"text-align: right;\">\n",
       "      <th></th>\n",
       "      <th>0</th>\n",
       "      <th>1</th>\n",
       "      <th>2</th>\n",
       "      <th>3</th>\n",
       "    </tr>\n",
       "  </thead>\n",
       "  <tbody>\n",
       "    <tr>\n",
       "      <th>Murder</th>\n",
       "      <td>0.535899</td>\n",
       "      <td>0.583184</td>\n",
       "      <td>0.278191</td>\n",
       "      <td>0.543432</td>\n",
       "    </tr>\n",
       "    <tr>\n",
       "      <th>Assault</th>\n",
       "      <td>0.418181</td>\n",
       "      <td>0.187986</td>\n",
       "      <td>-0.872806</td>\n",
       "      <td>-0.167319</td>\n",
       "    </tr>\n",
       "    <tr>\n",
       "      <th>UrbanPop</th>\n",
       "      <td>-0.341233</td>\n",
       "      <td>-0.268148</td>\n",
       "      <td>-0.378016</td>\n",
       "      <td>0.817778</td>\n",
       "    </tr>\n",
       "    <tr>\n",
       "      <th>Rape</th>\n",
       "      <td>0.649228</td>\n",
       "      <td>-0.743407</td>\n",
       "      <td>0.133878</td>\n",
       "      <td>0.089024</td>\n",
       "    </tr>\n",
       "  </tbody>\n",
       "</table>\n",
       "</div>"
      ],
      "text/plain": [
       "                 0         1         2         3\n",
       "Murder    0.535899  0.583184  0.278191  0.543432\n",
       "Assault   0.418181  0.187986 -0.872806 -0.167319\n",
       "UrbanPop -0.341233 -0.268148 -0.378016  0.817778\n",
       "Rape      0.649228 -0.743407  0.133878  0.089024"
      ]
     },
     "execution_count": 51,
     "metadata": {},
     "output_type": "execute_result"
    }
   ],
   "source": [
    "pd.DataFrame(data = pca.components_,\n",
    "             index = pca.feature_names_in_)"
   ]
  },
  {
   "cell_type": "code",
   "execution_count": 55,
   "id": "bddca9d7",
   "metadata": {},
   "outputs": [],
   "source": [
    "components = pca.transform(std_df)"
   ]
  },
  {
   "cell_type": "code",
   "execution_count": 57,
   "id": "bd8c93c9",
   "metadata": {},
   "outputs": [
    {
     "data": {
      "text/plain": [
       "[<matplotlib.lines.Line2D at 0x1c5be83c340>]"
      ]
     },
     "execution_count": 57,
     "metadata": {},
     "output_type": "execute_result"
    },
    {
     "data": {
      "image/png": "[encoded data removed]",
      "text/plain": [
       "<Figure size 432x288 with 1 Axes>"
      ]
     },
     "metadata": {
      "needs_background": "light"
     },
     "output_type": "display_data"
    }
   ],
   "source": [
    "plt.plot(components.T[0], components.T[1], \"*\")"
   ]
  },
  {
   "cell_type": "code",
   "execution_count": 61,
   "id": "1878dd5e",
   "metadata": {},
   "outputs": [
    {
     "data": {
      "text/plain": [
       "array([1.57487827, 0.99486941, 0.59712912, 0.41644938])"
      ]
     },
     "execution_count": 61,
     "metadata": {},
     "output_type": "execute_result"
    }
   ],
   "source": [
    "components.std(axis=0)"
   ]
  },
  {
   "cell_type": "code",
   "execution_count": 63,
   "id": "221d6bc9",
   "metadata": {},
   "outputs": [
    {
     "data": {
      "text/plain": [
       "array([0.62006039, 0.24744129, 0.0891408 , 0.04335752])"
      ]
     },
     "execution_count": 63,
     "metadata": {},
     "output_type": "execute_result"
    }
   ],
   "source": [
    "pca.explained_variance_ratio_"
   ]
  },
  {
   "cell_type": "code",
   "execution_count": 66,
   "id": "07f97637",
   "metadata": {},
   "outputs": [
    {
     "data": {
      "text/plain": [
       "array([0.62006039, 0.24744129, 0.0891408 , 0.04335752])"
      ]
     },
     "execution_count": 66,
     "metadata": {},
     "output_type": "execute_result"
    }
   ],
   "source": [
    "components.std(axis=0)**2/(components.std(axis=0)**2).sum()"
   ]
  },
  {
   "cell_type": "code",
   "execution_count": 70,
   "id": "a09ae107",
   "metadata": {},
   "outputs": [
    {
     "data": {
      "image/png": "[encoded data removed]",
      "text/plain": [
       "<Figure size 864x288 with 2 Axes>"
      ]
     },
     "metadata": {
      "needs_background": "light"
     },
     "output_type": "display_data"
    }
   ],
   "source": [
    "f, ax = plt.subplots(1,2,figsize=(12,4))\n",
    "\n",
    "ax[0].plot(pca.explained_variance_ratio_, \"--*\")\n",
    "ax[0].set_xlabel(\"Principal Component\")\n",
    "ax[0].set_ylabel(\"Proportion of Variance Explained\")\n",
    "\n",
    "ax[1].plot(np.cumsum(pca.explained_variance_ratio_), \"--*\")\n",
    "ax[1].set_xlabel(\"Principal Component\")\n",
    "ax[1].set_ylabel(\"Cumulative Proportion of Variance Explained\")\n",
    "\n",
    "f.tight_layout()"
   ]
  },
  {
   "cell_type": "markdown",
   "id": "3243efde",
   "metadata": {},
   "source": [
    "## Labs - 2\n",
    "### Clustering"
   ]
  },
  {
   "cell_type": "code",
   "execution_count": 74,
   "id": "c32a9598",
   "metadata": {},
   "outputs": [
    {
     "data": {
      "text/plain": [
       "<matplotlib.collections.PathCollection at 0x1c5c112e070>"
      ]
     },
     "execution_count": 74,
     "metadata": {},
     "output_type": "execute_result"
    },
    {
     "data": {
      "image/png": "[encoded data removed]",
      "text/plain": [
       "<Figure size 432x288 with 1 Axes>"
      ]
     },
     "metadata": {
      "needs_background": "light"
     },
     "output_type": "display_data"
    }
   ],
   "source": [
    "x = np.random.randn(50,2)\n",
    "x[:25,0]+=3\n",
    "x[:25,1]-=4\n",
    "\n",
    "plt.scatter(x.T[0], x.T[1])"
   ]
  },
  {
   "cell_type": "code",
   "execution_count": 76,
   "id": "c2830072",
   "metadata": {},
   "outputs": [],
   "source": [
    "centroids, y_pred, _ = k_means(x, 2)"
   ]
  },
  {
   "cell_type": "code",
   "execution_count": 86,
   "id": "9441495c",
   "metadata": {},
   "outputs": [
    {
     "data": {
      "text/plain": [
       "[<matplotlib.lines.Line2D at 0x1c5c5fbeaf0>]"
      ]
     },
     "execution_count": 86,
     "metadata": {},
     "output_type": "execute_result"
    },
    {
     "data": {
      "image/png": "[encoded data removed]",
      "text/plain": [
       "<Figure size 432x288 with 1 Axes>"
      ]
     },
     "metadata": {
      "needs_background": "light"
     },
     "output_type": "display_data"
    }
   ],
   "source": [
    "plt.scatter(x.T[0], x.T[1], c=y_pred)\n",
    "plt.plot(centroids[0,0], centroids[0,1], marker=\"*\", markersize=10)\n",
    "plt.plot(centroids[1,0], centroids[1,1], marker=\"*\", markersize=10)"
   ]
  },
  {
   "cell_type": "code",
   "execution_count": 98,
   "id": "a1b5a118",
   "metadata": {},
   "outputs": [],
   "source": [
    "centroids, y_pred, _ = k_means(x, 2, n_init=20)"
   ]
  },
  {
   "cell_type": "code",
   "execution_count": 99,
   "id": "e6fd18f2",
   "metadata": {},
   "outputs": [
    {
     "data": {
      "image/png": "[encoded data removed]",
      "text/plain": [
       "<Figure size 432x288 with 1 Axes>"
      ]
     },
     "metadata": {
      "needs_background": "light"
     },
     "output_type": "display_data"
    }
   ],
   "source": [
    "plt.scatter(x.T[0], x.T[1], c=y_pred)\n",
    "for centroid in centroids:\n",
    "    plt.plot(centroid[0], centroid[1], marker=\"*\", markersize=10)"
   ]
  },
  {
   "cell_type": "code",
   "execution_count": 102,
   "id": "96b93607",
   "metadata": {},
   "outputs": [],
   "source": [
    "centroids, y_pred, _ = k_means(x, 3, n_init=20)"
   ]
  },
  {
   "cell_type": "code",
   "execution_count": 103,
   "id": "b0189cc5",
   "metadata": {},
   "outputs": [
    {
     "data": {
      "image/png": "[encoded data removed]",
      "text/plain": [
       "<Figure size 432x288 with 1 Axes>"
      ]
     },
     "metadata": {
      "needs_background": "light"
     },
     "output_type": "display_data"
    }
   ],
   "source": [
    "plt.scatter(x.T[0], x.T[1], c=y_pred)\n",
    "for centroid in centroids:\n",
    "    plt.plot(centroid[0], centroid[1], marker=\"*\", markersize=10)"
   ]
  },
  {
   "cell_type": "code",
   "execution_count": 104,
   "id": "04377808",
   "metadata": {},
   "outputs": [
    {
     "data": {
      "text/plain": [
       "array([[-0.66748632, -0.22769588],\n",
       "       [ 2.97359573, -4.01180802],\n",
       "       [ 1.40178941,  0.42185945]])"
      ]
     },
     "execution_count": 104,
     "metadata": {},
     "output_type": "execute_result"
    }
   ],
   "source": [
    "centroids"
   ]
  },
  {
   "cell_type": "code",
   "execution_count": 105,
   "id": "722ed8c2",
   "metadata": {},
   "outputs": [
    {
     "data": {
      "text/plain": [
       "array([1, 1, 1, 1, 1, 1, 1, 1, 1, 1, 1, 1, 1, 1, 1, 1, 1, 1, 1, 1, 1, 1,\n",
       "       1, 1, 1, 0, 0, 0, 0, 2, 2, 0, 2, 0, 0, 2, 0, 0, 0, 2, 2, 0, 2, 2,\n",
       "       0, 0, 2, 0, 0, 2])"
      ]
     },
     "execution_count": 105,
     "metadata": {},
     "output_type": "execute_result"
    }
   ],
   "source": [
    "y_pred"
   ]
  },
  {
   "cell_type": "code",
   "execution_count": 106,
   "id": "02a9162c",
   "metadata": {},
   "outputs": [],
   "source": [
    "kmeans = KMeans(n_clusters=3, n_init=20).fit(x)"
   ]
  },
  {
   "cell_type": "code",
   "execution_count": 110,
   "id": "d34a4023",
   "metadata": {},
   "outputs": [
    {
     "data": {
      "text/plain": [
       "-94.53163087051705"
      ]
     },
     "execution_count": 110,
     "metadata": {},
     "output_type": "execute_result"
    }
   ],
   "source": [
    "kmeans.cluster_centers_"
   ]
  },
  {
   "cell_type": "code",
   "execution_count": 123,
   "id": "31ae0b83",
   "metadata": {},
   "outputs": [],
   "source": [
    "def euc(a,b):\n",
    "    return sum( (x-y)**2 for x,y in zip(a,b) ) \n",
    "\n",
    "cluster_dist = [[],[],[]]\n",
    "for point, cluster in zip(x, kmeans.labels_):\n",
    "    cluster_dist[cluster].append( euc(point, kmeans.cluster_centers_[cluster]) )\n",
    "for i, cluster in enumerate(cluster_dist):\n",
    "    cluster_dist[i] = sum(cluster)"
   ]
  },
  {
   "cell_type": "code",
   "execution_count": 127,
   "id": "c4613065",
   "metadata": {},
   "outputs": [
    {
     "data": {
      "text/plain": [
       "[12.191739365712303, 54.38681641980535, 27.953075084999405]"
      ]
     },
     "execution_count": 127,
     "metadata": {},
     "output_type": "execute_result"
    }
   ],
   "source": [
    "cluster_dist"
   ]
  },
  {
   "cell_type": "code",
   "execution_count": 124,
   "id": "ab7b21b8",
   "metadata": {},
   "outputs": [
    {
     "data": {
      "text/plain": [
       "94.53163087051706"
      ]
     },
     "execution_count": 124,
     "metadata": {},
     "output_type": "execute_result"
    }
   ],
   "source": [
    "sum(cluster_dist)"
   ]
  },
  {
   "cell_type": "code",
   "execution_count": 128,
   "id": "2f483bf3",
   "metadata": {},
   "outputs": [
    {
     "data": {
      "text/plain": [
       "103.72255571332414"
      ]
     },
     "execution_count": 128,
     "metadata": {},
     "output_type": "execute_result"
    }
   ],
   "source": [
    "k_means(x, n_clusters=3, n_init=1)[2]"
   ]
  },
  {
   "cell_type": "code",
   "execution_count": 129,
   "id": "2c76412d",
   "metadata": {},
   "outputs": [
    {
     "data": {
      "text/plain": [
       "94.53163087051706"
      ]
     },
     "execution_count": 129,
     "metadata": {},
     "output_type": "execute_result"
    }
   ],
   "source": [
    "k_means(x, n_clusters=3, n_init=20)[2]"
   ]
  },
  {
   "cell_type": "markdown",
   "id": "e9fb27f1",
   "metadata": {},
   "source": [
    "### Hierarchical Clustering"
   ]
  },
  {
   "cell_type": "code",
   "execution_count": 131,
   "id": "bdc33910",
   "metadata": {},
   "outputs": [
    {
     "data": {
      "text/plain": [
       "<matplotlib.collections.PathCollection at 0x1c5c7bf9df0>"
      ]
     },
     "execution_count": 131,
     "metadata": {},
     "output_type": "execute_result"
    },
    {
     "data": {
      "image/png": "[encoded data removed]",
      "text/plain": [
       "<Figure size 432x288 with 1 Axes>"
      ]
     },
     "metadata": {
      "needs_background": "light"
     },
     "output_type": "display_data"
    }
   ],
   "source": [
    "x = np.random.randn(50,2)\n",
    "x[:25,0]+=3\n",
    "x[:25,1]-=4\n",
    "\n",
    "plt.scatter(x.T[0], x.T[1])"
   ]
  },
  {
   "cell_type": "code",
   "execution_count": 144,
   "id": "0a712085",
   "metadata": {},
   "outputs": [
    {
     "data": {
      "image/png": "[encoded data removed]",
      "text/plain": [
       "<Figure size 432x288 with 1 Axes>"
      ]
     },
     "metadata": {
      "needs_background": "light"
     },
     "output_type": "display_data"
    }
   ],
   "source": [
    "hcomp=linkage(x, \"complete\")\n",
    "dendrogram(hcomp)\n",
    "plt.show()"
   ]
  },
  {
   "cell_type": "code",
   "execution_count": 145,
   "id": "7097a1b5",
   "metadata": {},
   "outputs": [
    {
     "data": {
      "image/png": "[encoded data removed]",
      "text/plain": [
       "<Figure size 432x288 with 1 Axes>"
      ]
     },
     "metadata": {
      "needs_background": "light"
     },
     "output_type": "display_data"
    }
   ],
   "source": [
    "havg=linkage(x, \"average\")\n",
    "dendrogram(havg)\n",
    "plt.show()"
   ]
  },
  {
   "cell_type": "code",
   "execution_count": 146,
   "id": "1fae774b",
   "metadata": {},
   "outputs": [
    {
     "data": {
      "image/png": "[encoded data removed]",
      "text/plain": [
       "<Figure size 432x288 with 1 Axes>"
      ]
     },
     "metadata": {
      "needs_background": "light"
     },
     "output_type": "display_data"
    }
   ],
   "source": [
    "htree=linkage(x, \"single\")\n",
    "dendrogram(htree)\n",
    "plt.show()"
   ]
  },
  {
   "cell_type": "code",
   "execution_count": 148,
   "id": "5248dbee",
   "metadata": {},
   "outputs": [
    {
     "data": {
      "text/plain": [
       "array([0, 0, 0, 0, 0, 0, 0, 0, 0, 0, 0, 0, 0, 0, 0, 0, 0, 0, 0, 0, 0, 0,\n",
       "       0, 0, 0, 1, 1, 1, 1, 1, 1, 1, 1, 1, 1, 1, 1, 1, 1, 1, 1, 1, 1, 1,\n",
       "       1, 1, 1, 1, 1, 1])"
      ]
     },
     "execution_count": 148,
     "metadata": {},
     "output_type": "execute_result"
    }
   ],
   "source": [
    "cut_tree(hcomp, 2).flatten()"
   ]
  },
  {
   "cell_type": "code",
   "execution_count": 149,
   "id": "073601d2",
   "metadata": {},
   "outputs": [
    {
     "data": {
      "text/plain": [
       "array([0, 0, 0, 0, 0, 0, 0, 0, 0, 0, 0, 0, 0, 0, 0, 0, 0, 0, 0, 0, 0, 0,\n",
       "       0, 0, 0, 1, 1, 1, 1, 1, 1, 1, 1, 1, 1, 1, 1, 1, 1, 1, 1, 1, 1, 1,\n",
       "       1, 1, 1, 1, 1, 1])"
      ]
     },
     "execution_count": 149,
     "metadata": {},
     "output_type": "execute_result"
    }
   ],
   "source": [
    "cut_tree(havg, 2).flatten()"
   ]
  },
  {
   "cell_type": "code",
   "execution_count": 150,
   "id": "aaa0e8a5",
   "metadata": {},
   "outputs": [
    {
     "data": {
      "text/plain": [
       "array([0, 0, 0, 0, 0, 0, 0, 0, 0, 0, 0, 0, 0, 0, 0, 0, 0, 0, 0, 0, 0, 0,\n",
       "       0, 0, 0, 1, 1, 1, 1, 1, 1, 1, 1, 1, 1, 1, 1, 1, 1, 1, 1, 1, 1, 1,\n",
       "       1, 1, 1, 1, 1, 1])"
      ]
     },
     "execution_count": 150,
     "metadata": {},
     "output_type": "execute_result"
    }
   ],
   "source": [
    "cut_tree(htree, 2).flatten()"
   ]
  },
  {
   "cell_type": "code",
   "execution_count": 151,
   "id": "c5bdb358",
   "metadata": {},
   "outputs": [
    {
     "data": {
      "text/plain": [
       "array([0, 0, 0, 0, 0, 0, 0, 0, 0, 0, 0, 0, 0, 0, 0, 0, 0, 0, 0, 0, 0, 0,\n",
       "       0, 0, 0, 1, 1, 1, 1, 1, 1, 1, 1, 1, 1, 2, 3, 1, 1, 1, 1, 1, 1, 2,\n",
       "       1, 1, 1, 1, 1, 1])"
      ]
     },
     "execution_count": 151,
     "metadata": {},
     "output_type": "execute_result"
    }
   ],
   "source": [
    "cut_tree(htree, 4).flatten()"
   ]
  },
  {
   "cell_type": "code",
   "execution_count": 153,
   "id": "aa9c8cc2",
   "metadata": {},
   "outputs": [],
   "source": [
    "x = StandardScaler().fit_transform(x)"
   ]
  },
  {
   "cell_type": "code",
   "execution_count": 156,
   "id": "0b167060",
   "metadata": {},
   "outputs": [
    {
     "data": {
      "image/png": "[encoded data removed]",
      "text/plain": [
       "<Figure size 432x288 with 1 Axes>"
      ]
     },
     "metadata": {
      "needs_background": "light"
     },
     "output_type": "display_data"
    }
   ],
   "source": [
    "hcomp=linkage(x, \"complete\")\n",
    "dendrogram(hcomp)\n",
    "plt.show()"
   ]
  },
  {
   "cell_type": "code",
   "execution_count": 157,
   "id": "ee96a7c0",
   "metadata": {},
   "outputs": [
    {
     "data": {
      "image/png": "[encoded data removed]",
      "text/plain": [
       "<Figure size 432x288 with 1 Axes>"
      ]
     },
     "metadata": {
      "needs_background": "light"
     },
     "output_type": "display_data"
    }
   ],
   "source": [
    "havg=linkage(x, \"average\")\n",
    "dendrogram(havg)\n",
    "plt.show()"
   ]
  },
  {
   "cell_type": "code",
   "execution_count": 158,
   "id": "3ef9f501",
   "metadata": {},
   "outputs": [
    {
     "data": {
      "image/png": "[encoded data removed]",
      "text/plain": [
       "<Figure size 432x288 with 1 Axes>"
      ]
     },
     "metadata": {
      "needs_background": "light"
     },
     "output_type": "display_data"
    }
   ],
   "source": [
    "htree=linkage(x, \"single\")\n",
    "dendrogram(htree)\n",
    "plt.show()"
   ]
  },
  {
   "cell_type": "code",
   "execution_count": 160,
   "id": "1c0acf9b",
   "metadata": {},
   "outputs": [
    {
     "data": {
      "image/png": "[encoded data removed]",
      "text/plain": [
       "<Figure size 432x288 with 1 Axes>"
      ]
     },
     "metadata": {
      "needs_background": "light"
     },
     "output_type": "display_data"
    }
   ],
   "source": [
    "corr = linkage(x, metric=\"correlation\")\n",
    "dendrogram(corr)\n",
    "plt.show()"
   ]
  },
  {
   "cell_type": "markdown",
   "id": "9a6706e9",
   "metadata": {},
   "source": [
    "## Labs - 3\n",
    "\n",
    "### NCI60"
   ]
  },
  {
   "cell_type": "code",
   "execution_count": 188,
   "id": "9c801746",
   "metadata": {},
   "outputs": [],
   "source": [
    "df = get_rdataset(\"NCI60\", \"ISLR\", True).data"
   ]
  },
  {
   "cell_type": "code",
   "execution_count": 189,
   "id": "7035ce50",
   "metadata": {},
   "outputs": [],
   "source": [
    "labs = df.labs\n",
    "data = df.drop(columns=\"labs\")"
   ]
  },
  {
   "cell_type": "code",
   "execution_count": 190,
   "id": "c064a175",
   "metadata": {},
   "outputs": [
    {
     "data": {
      "text/plain": [
       "(64, 6830)"
      ]
     },
     "execution_count": 190,
     "metadata": {},
     "output_type": "execute_result"
    }
   ],
   "source": [
    "data.shape"
   ]
  },
  {
   "cell_type": "code",
   "execution_count": 191,
   "id": "71ec9cba",
   "metadata": {},
   "outputs": [
    {
     "data": {
      "text/plain": [
       "V1          CNS\n",
       "V2          CNS\n",
       "V3          CNS\n",
       "V4        RENAL\n",
       "V5       BREAST\n",
       "         ...   \n",
       "V60    MELANOMA\n",
       "V61    MELANOMA\n",
       "V62    MELANOMA\n",
       "V63    MELANOMA\n",
       "V64    MELANOMA\n",
       "Name: labs, Length: 64, dtype: object"
      ]
     },
     "execution_count": 191,
     "metadata": {},
     "output_type": "execute_result"
    }
   ],
   "source": [
    "labs"
   ]
  },
  {
   "cell_type": "code",
   "execution_count": 192,
   "id": "11f99520",
   "metadata": {},
   "outputs": [
    {
     "data": {
      "text/plain": [
       "RENAL          9\n",
       "NSCLC          9\n",
       "MELANOMA       8\n",
       "BREAST         7\n",
       "COLON          7\n",
       "OVARIAN        6\n",
       "LEUKEMIA       6\n",
       "CNS            5\n",
       "PROSTATE       2\n",
       "UNKNOWN        1\n",
       "K562B-repro    1\n",
       "K562A-repro    1\n",
       "MCF7A-repro    1\n",
       "MCF7D-repro    1\n",
       "Name: labs, dtype: int64"
      ]
     },
     "execution_count": 192,
     "metadata": {},
     "output_type": "execute_result"
    }
   ],
   "source": [
    "labs.value_counts()"
   ]
  },
  {
   "cell_type": "code",
   "execution_count": 193,
   "id": "7c165afb",
   "metadata": {},
   "outputs": [],
   "source": [
    "std_data = StandardScaler().fit(data)"
   ]
  },
  {
   "cell_type": "code",
   "execution_count": 194,
   "id": "a5d1977c",
   "metadata": {},
   "outputs": [],
   "source": [
    "std_data = pd.DataFrame(data = std_data.transform(data),\n",
    "                       index = data.index,\n",
    "                       columns=data.columns)"
   ]
  },
  {
   "cell_type": "code",
   "execution_count": 197,
   "id": "7c21ec15",
   "metadata": {},
   "outputs": [],
   "source": [
    "pca = PCA().fit(std_data)"
   ]
  },
  {
   "cell_type": "code",
   "execution_count": 208,
   "id": "c1e30d78",
   "metadata": {},
   "outputs": [],
   "source": [
    "components = pca.transform(std_data)"
   ]
  },
  {
   "cell_type": "code",
   "execution_count": 211,
   "id": "5893de9d",
   "metadata": {},
   "outputs": [],
   "source": [
    "y = pd.factorize(labs)[0]"
   ]
  },
  {
   "cell_type": "code",
   "execution_count": 218,
   "id": "43533f1f",
   "metadata": {},
   "outputs": [
    {
     "data": {
      "text/plain": [
       "Text(0, 0.5, 'Z3')"
      ]
     },
     "execution_count": 218,
     "metadata": {},
     "output_type": "execute_result"
    },
    {
     "data": {
      "image/png": "[encoded data removed]",
      "text/plain": [
       "<Figure size 864x360 with 2 Axes>"
      ]
     },
     "metadata": {
      "needs_background": "light"
     },
     "output_type": "display_data"
    }
   ],
   "source": [
    "f, ax = plt.subplots(1, 2, figsize=(12,5))\n",
    "\n",
    "ax[0].scatter(components[:, 0], components[:, 1], c = y)\n",
    "ax[0].set_xlabel(\"Z1\")\n",
    "ax[0].set_ylabel(\"Z2\")\n",
    "\n",
    "ax[1].scatter(components[:, 0], components[:, 2], c = y)\n",
    "ax[1].set_xlabel(\"Z1\")\n",
    "ax[1].set_ylabel(\"Z3\")"
   ]
  },
  {
   "cell_type": "code",
   "execution_count": 222,
   "id": "aee50fac",
   "metadata": {},
   "outputs": [
    {
     "data": {
      "text/plain": [
       "array([27.85346888, 21.48135547, 19.82046479, 17.03255621, 15.97180678])"
      ]
     },
     "execution_count": 222,
     "metadata": {},
     "output_type": "execute_result"
    }
   ],
   "source": [
    "components.std(axis=0)[:5]"
   ]
  },
  {
   "cell_type": "code",
   "execution_count": 231,
   "id": "a121e4f3",
   "metadata": {},
   "outputs": [
    {
     "data": {
      "image/png": "[encoded data removed]",
      "text/plain": [
       "<Figure size 864x360 with 2 Axes>"
      ]
     },
     "metadata": {
      "needs_background": "light"
     },
     "output_type": "display_data"
    }
   ],
   "source": [
    "f, ax = plt.subplots(1, 2, figsize=(12,5))\n",
    "\n",
    "ax[0].plot(pca.explained_variance_ratio_, \"--*\")\n",
    "ax[0].set_xlabel(\"Component\")\n",
    "ax[0].set_ylabel(\"Proportion of variance\")\n",
    "\n",
    "ax[1].plot( np.cumsum(pca.explained_variance_ratio_ ), \"--*\")\n",
    "ax[1].set_xlabel(\"Component\")\n",
    "ax[1].set_ylabel(\"Cumulative proportion of variance\")\n",
    "f.tight_layout()"
   ]
  },
  {
   "cell_type": "code",
   "execution_count": 234,
   "id": "b4bfbc84",
   "metadata": {},
   "outputs": [
    {
     "data": {
      "text/plain": [
       "27"
      ]
     },
     "execution_count": 234,
     "metadata": {},
     "output_type": "execute_result"
    }
   ],
   "source": [
    "sum(np.cumsum(pca.explained_variance_ratio_)<0.75)"
   ]
  },
  {
   "cell_type": "code",
   "execution_count": 236,
   "id": "c02fa3e0",
   "metadata": {},
   "outputs": [
    {
     "data": {
      "text/html": [
       "<div>\n",
       "<style scoped>\n",
       "    .dataframe tbody tr th:only-of-type {\n",
       "        vertical-align: middle;\n",
       "    }\n",
       "\n",
       "    .dataframe tbody tr th {\n",
       "        vertical-align: top;\n",
       "    }\n",
       "\n",
       "    .dataframe thead th {\n",
       "        text-align: right;\n",
       "    }\n",
       "</style>\n",
       "<table border=\"1\" class=\"dataframe\">\n",
       "  <thead>\n",
       "    <tr style=\"text-align: right;\">\n",
       "      <th></th>\n",
       "      <th>data.1</th>\n",
       "      <th>data.2</th>\n",
       "      <th>data.3</th>\n",
       "      <th>data.4</th>\n",
       "      <th>data.5</th>\n",
       "      <th>data.6</th>\n",
       "      <th>data.7</th>\n",
       "      <th>data.8</th>\n",
       "      <th>data.9</th>\n",
       "      <th>data.10</th>\n",
       "      <th>data.11</th>\n",
       "      <th>data.12</th>\n",
       "      <th>data.13</th>\n",
       "      <th>data.14</th>\n",
       "      <th>data.15</th>\n",
       "      <th>data.16</th>\n",
       "      <th>data.17</th>\n",
       "      <th>data.18</th>\n",
       "      <th>data.19</th>\n",
       "      <th>data.20</th>\n",
       "      <th>data.21</th>\n",
       "      <th>data.22</th>\n",
       "      <th>data.23</th>\n",
       "      <th>data.24</th>\n",
       "      <th>data.25</th>\n",
       "      <th>data.26</th>\n",
       "      <th>data.27</th>\n",
       "      <th>data.28</th>\n",
       "      <th>data.29</th>\n",
       "      <th>data.30</th>\n",
       "      <th>data.31</th>\n",
       "      <th>data.32</th>\n",
       "      <th>data.33</th>\n",
       "      <th>data.34</th>\n",
       "      <th>data.35</th>\n",
       "      <th>data.36</th>\n",
       "      <th>data.37</th>\n",
       "      <th>data.38</th>\n",
       "      <th>data.39</th>\n",
       "      <th>data.40</th>\n",
       "      <th>data.41</th>\n",
       "      <th>data.42</th>\n",
       "      <th>data.43</th>\n",
       "      <th>data.44</th>\n",
       "      <th>data.45</th>\n",
       "      <th>data.46</th>\n",
       "      <th>data.47</th>\n",
       "      <th>data.48</th>\n",
       "      <th>data.49</th>\n",
       "      <th>data.50</th>\n",
       "      <th>data.51</th>\n",
       "      <th>data.52</th>\n",
       "      <th>data.53</th>\n",
       "      <th>data.54</th>\n",
       "      <th>data.55</th>\n",
       "      <th>data.56</th>\n",
       "      <th>data.57</th>\n",
       "      <th>data.58</th>\n",
       "      <th>data.59</th>\n",
       "      <th>data.60</th>\n",
       "      <th>data.61</th>\n",
       "      <th>data.62</th>\n",
       "      <th>data.63</th>\n",
       "      <th>data.64</th>\n",
       "      <th>data.65</th>\n",
       "      <th>data.66</th>\n",
       "      <th>data.67</th>\n",
       "      <th>data.68</th>\n",
       "      <th>data.69</th>\n",
       "      <th>data.70</th>\n",
       "      <th>data.71</th>\n",
       "      <th>data.72</th>\n",
       "      <th>data.73</th>\n",
       "      <th>data.74</th>\n",
       "      <th>data.75</th>\n",
       "      <th>data.76</th>\n",
       "      <th>data.77</th>\n",
       "      <th>data.78</th>\n",
       "      <th>data.79</th>\n",
       "      <th>data.80</th>\n",
       "      <th>data.81</th>\n",
       "      <th>data.82</th>\n",
       "      <th>data.83</th>\n",
       "      <th>data.84</th>\n",
       "      <th>data.85</th>\n",
       "      <th>data.86</th>\n",
       "      <th>data.87</th>\n",
       "      <th>data.88</th>\n",
       "      <th>data.89</th>\n",
       "      <th>data.90</th>\n",
       "      <th>data.91</th>\n",
       "      <th>data.92</th>\n",
       "      <th>data.93</th>\n",
       "      <th>data.94</th>\n",
       "      <th>data.95</th>\n",
       "      <th>data.96</th>\n",
       "      <th>data.97</th>\n",
       "      <th>data.98</th>\n",
       "      <th>data.99</th>\n",
       "      <th>data.100</th>\n",
       "      <th>data.101</th>\n",
       "      <th>data.102</th>\n",
       "      <th>data.103</th>\n",
       "      <th>data.104</th>\n",
       "      <th>data.105</th>\n",
       "      <th>...</th>\n",
       "      <th>data.6726</th>\n",
       "      <th>data.6727</th>\n",
       "      <th>data.6728</th>\n",
       "      <th>data.6729</th>\n",
       "      <th>data.6730</th>\n",
       "      <th>data.6731</th>\n",
       "      <th>data.6732</th>\n",
       "      <th>data.6733</th>\n",
       "      <th>data.6734</th>\n",
       "      <th>data.6735</th>\n",
       "      <th>data.6736</th>\n",
       "      <th>data.6737</th>\n",
       "      <th>data.6738</th>\n",
       "      <th>data.6739</th>\n",
       "      <th>data.6740</th>\n",
       "      <th>data.6741</th>\n",
       "      <th>data.6742</th>\n",
       "      <th>data.6743</th>\n",
       "      <th>data.6744</th>\n",
       "      <th>data.6745</th>\n",
       "      <th>data.6746</th>\n",
       "      <th>data.6747</th>\n",
       "      <th>data.6748</th>\n",
       "      <th>data.6749</th>\n",
       "      <th>data.6750</th>\n",
       "      <th>data.6751</th>\n",
       "      <th>data.6752</th>\n",
       "      <th>data.6753</th>\n",
       "      <th>data.6754</th>\n",
       "      <th>data.6755</th>\n",
       "      <th>data.6756</th>\n",
       "      <th>data.6757</th>\n",
       "      <th>data.6758</th>\n",
       "      <th>data.6759</th>\n",
       "      <th>data.6760</th>\n",
       "      <th>data.6761</th>\n",
       "      <th>data.6762</th>\n",
       "      <th>data.6763</th>\n",
       "      <th>data.6764</th>\n",
       "      <th>data.6765</th>\n",
       "      <th>data.6766</th>\n",
       "      <th>data.6767</th>\n",
       "      <th>data.6768</th>\n",
       "      <th>data.6769</th>\n",
       "      <th>data.6770</th>\n",
       "      <th>data.6771</th>\n",
       "      <th>data.6772</th>\n",
       "      <th>data.6773</th>\n",
       "      <th>data.6774</th>\n",
       "      <th>data.6775</th>\n",
       "      <th>data.6776</th>\n",
       "      <th>data.6777</th>\n",
       "      <th>data.6778</th>\n",
       "      <th>data.6779</th>\n",
       "      <th>data.6780</th>\n",
       "      <th>data.6781</th>\n",
       "      <th>data.6782</th>\n",
       "      <th>data.6783</th>\n",
       "      <th>data.6784</th>\n",
       "      <th>data.6785</th>\n",
       "      <th>data.6786</th>\n",
       "      <th>data.6787</th>\n",
       "      <th>data.6788</th>\n",
       "      <th>data.6789</th>\n",
       "      <th>data.6790</th>\n",
       "      <th>data.6791</th>\n",
       "      <th>data.6792</th>\n",
       "      <th>data.6793</th>\n",
       "      <th>data.6794</th>\n",
       "      <th>data.6795</th>\n",
       "      <th>data.6796</th>\n",
       "      <th>data.6797</th>\n",
       "      <th>data.6798</th>\n",
       "      <th>data.6799</th>\n",
       "      <th>data.6800</th>\n",
       "      <th>data.6801</th>\n",
       "      <th>data.6802</th>\n",
       "      <th>data.6803</th>\n",
       "      <th>data.6804</th>\n",
       "      <th>data.6805</th>\n",
       "      <th>data.6806</th>\n",
       "      <th>data.6807</th>\n",
       "      <th>data.6808</th>\n",
       "      <th>data.6809</th>\n",
       "      <th>data.6810</th>\n",
       "      <th>data.6811</th>\n",
       "      <th>data.6812</th>\n",
       "      <th>data.6813</th>\n",
       "      <th>data.6814</th>\n",
       "      <th>data.6815</th>\n",
       "      <th>data.6816</th>\n",
       "      <th>data.6817</th>\n",
       "      <th>data.6818</th>\n",
       "      <th>data.6819</th>\n",
       "      <th>data.6820</th>\n",
       "      <th>data.6821</th>\n",
       "      <th>data.6822</th>\n",
       "      <th>data.6823</th>\n",
       "      <th>data.6824</th>\n",
       "      <th>data.6825</th>\n",
       "      <th>data.6826</th>\n",
       "      <th>data.6827</th>\n",
       "      <th>data.6828</th>\n",
       "      <th>data.6829</th>\n",
       "      <th>data.6830</th>\n",
       "    </tr>\n",
       "  </thead>\n",
       "  <tbody>\n",
       "    <tr>\n",
       "      <th>V1</th>\n",
       "      <td>0.728671</td>\n",
       "      <td>1.607220</td>\n",
       "      <td>1.325688</td>\n",
       "      <td>1.355688</td>\n",
       "      <td>-0.604845</td>\n",
       "      <td>-0.220654</td>\n",
       "      <td>0.898137</td>\n",
       "      <td>-0.868741</td>\n",
       "      <td>-1.058612</td>\n",
       "      <td>-1.059174</td>\n",
       "      <td>-1.131964</td>\n",
       "      <td>-1.415571</td>\n",
       "      <td>0.820233</td>\n",
       "      <td>0.048805</td>\n",
       "      <td>-0.320710</td>\n",
       "      <td>-1.218518</td>\n",
       "      <td>-0.785648</td>\n",
       "      <td>-1.023926</td>\n",
       "      <td>-0.043347</td>\n",
       "      <td>-1.154356</td>\n",
       "      <td>-0.894659</td>\n",
       "      <td>-1.023372</td>\n",
       "      <td>-0.633867</td>\n",
       "      <td>0.254350</td>\n",
       "      <td>-0.145046</td>\n",
       "      <td>0.008030</td>\n",
       "      <td>-1.154356</td>\n",
       "      <td>-0.607235</td>\n",
       "      <td>-1.093944</td>\n",
       "      <td>-1.668168</td>\n",
       "      <td>0.115280</td>\n",
       "      <td>-1.406479</td>\n",
       "      <td>-0.949803</td>\n",
       "      <td>0.006209</td>\n",
       "      <td>-0.548805</td>\n",
       "      <td>-0.312554</td>\n",
       "      <td>0.603921</td>\n",
       "      <td>1.250810</td>\n",
       "      <td>0.197769</td>\n",
       "      <td>-0.005578</td>\n",
       "      <td>0.397713</td>\n",
       "      <td>-0.494776</td>\n",
       "      <td>-0.176347</td>\n",
       "      <td>-0.453668</td>\n",
       "      <td>-0.742184</td>\n",
       "      <td>-2.883374</td>\n",
       "      <td>-0.007358</td>\n",
       "      <td>0.228193</td>\n",
       "      <td>0.362270</td>\n",
       "      <td>0.273051</td>\n",
       "      <td>-0.777139</td>\n",
       "      <td>-0.777130</td>\n",
       "      <td>-1.262633</td>\n",
       "      <td>-0.789714</td>\n",
       "      <td>-0.753170</td>\n",
       "      <td>-0.410038</td>\n",
       "      <td>-0.798532</td>\n",
       "      <td>1.512198</td>\n",
       "      <td>0.604932</td>\n",
       "      <td>-0.387186</td>\n",
       "      <td>-0.621650</td>\n",
       "      <td>1.063058</td>\n",
       "      <td>0.041993</td>\n",
       "      <td>1.719312</td>\n",
       "      <td>1.203900</td>\n",
       "      <td>0.419007</td>\n",
       "      <td>0.465703</td>\n",
       "      <td>0.313666</td>\n",
       "      <td>-0.597346</td>\n",
       "      <td>0.348378</td>\n",
       "      <td>-1.420169</td>\n",
       "      <td>0.288840</td>\n",
       "      <td>0.277741</td>\n",
       "      <td>-0.155126</td>\n",
       "      <td>-0.712379</td>\n",
       "      <td>-0.363590</td>\n",
       "      <td>0.711746</td>\n",
       "      <td>1.242222</td>\n",
       "      <td>1.896667</td>\n",
       "      <td>0.220709</td>\n",
       "      <td>-0.853307</td>\n",
       "      <td>1.183046</td>\n",
       "      <td>-0.071667</td>\n",
       "      <td>-0.426140</td>\n",
       "      <td>0.638751</td>\n",
       "      <td>-0.077826</td>\n",
       "      <td>0.137157</td>\n",
       "      <td>0.366124</td>\n",
       "      <td>0.661623</td>\n",
       "      <td>0.275038</td>\n",
       "      <td>1.120008</td>\n",
       "      <td>1.165106</td>\n",
       "      <td>-0.601883</td>\n",
       "      <td>1.020360</td>\n",
       "      <td>0.811100</td>\n",
       "      <td>1.186532</td>\n",
       "      <td>-0.547944</td>\n",
       "      <td>-1.689808</td>\n",
       "      <td>-0.016586</td>\n",
       "      <td>0.078654</td>\n",
       "      <td>1.318805</td>\n",
       "      <td>0.079567</td>\n",
       "      <td>-0.148609</td>\n",
       "      <td>-0.279811</td>\n",
       "      <td>-0.249510</td>\n",
       "      <td>...</td>\n",
       "      <td>2.792820</td>\n",
       "      <td>0.113344</td>\n",
       "      <td>-0.263986</td>\n",
       "      <td>0.252405</td>\n",
       "      <td>-0.947384</td>\n",
       "      <td>0.009509</td>\n",
       "      <td>-0.457313</td>\n",
       "      <td>-1.372553</td>\n",
       "      <td>-2.648255</td>\n",
       "      <td>-0.637703</td>\n",
       "      <td>-0.586976</td>\n",
       "      <td>-0.715226</td>\n",
       "      <td>0.415179</td>\n",
       "      <td>0.319022</td>\n",
       "      <td>0.240944</td>\n",
       "      <td>-0.387635</td>\n",
       "      <td>-1.263904</td>\n",
       "      <td>-0.742442</td>\n",
       "      <td>0.660675</td>\n",
       "      <td>-0.152510</td>\n",
       "      <td>-0.434045</td>\n",
       "      <td>2.040308</td>\n",
       "      <td>0.603983</td>\n",
       "      <td>1.354091</td>\n",
       "      <td>0.405542</td>\n",
       "      <td>1.064605</td>\n",
       "      <td>-0.329684</td>\n",
       "      <td>-0.077809</td>\n",
       "      <td>0.530766</td>\n",
       "      <td>-0.014605</td>\n",
       "      <td>0.586624</td>\n",
       "      <td>0.764021</td>\n",
       "      <td>0.922681</td>\n",
       "      <td>0.847113</td>\n",
       "      <td>0.055860</td>\n",
       "      <td>1.058017</td>\n",
       "      <td>1.068058</td>\n",
       "      <td>-0.663408</td>\n",
       "      <td>-0.161822</td>\n",
       "      <td>-0.102248</td>\n",
       "      <td>-0.787451</td>\n",
       "      <td>0.276014</td>\n",
       "      <td>0.015832</td>\n",
       "      <td>0.472005</td>\n",
       "      <td>0.186816</td>\n",
       "      <td>0.531772</td>\n",
       "      <td>0.376902</td>\n",
       "      <td>1.097587</td>\n",
       "      <td>1.404263</td>\n",
       "      <td>0.544575</td>\n",
       "      <td>1.589557</td>\n",
       "      <td>1.667278</td>\n",
       "      <td>1.760977</td>\n",
       "      <td>1.546466</td>\n",
       "      <td>2.603927</td>\n",
       "      <td>0.466776</td>\n",
       "      <td>1.941342</td>\n",
       "      <td>1.898867</td>\n",
       "      <td>2.456414</td>\n",
       "      <td>2.449054</td>\n",
       "      <td>1.576004</td>\n",
       "      <td>3.287443</td>\n",
       "      <td>3.472810</td>\n",
       "      <td>1.127245</td>\n",
       "      <td>0.361055</td>\n",
       "      <td>0.584818</td>\n",
       "      <td>1.141914</td>\n",
       "      <td>0.319927</td>\n",
       "      <td>0.034355</td>\n",
       "      <td>-0.231433</td>\n",
       "      <td>-0.506252</td>\n",
       "      <td>0.186955</td>\n",
       "      <td>0.844695</td>\n",
       "      <td>-0.052459</td>\n",
       "      <td>-0.072773</td>\n",
       "      <td>-0.131760</td>\n",
       "      <td>0.526308</td>\n",
       "      <td>0.246085</td>\n",
       "      <td>0.553272</td>\n",
       "      <td>-0.315848</td>\n",
       "      <td>0.128300</td>\n",
       "      <td>0.334997</td>\n",
       "      <td>0.073429</td>\n",
       "      <td>0.653259</td>\n",
       "      <td>1.036575</td>\n",
       "      <td>0.217023</td>\n",
       "      <td>0.775551</td>\n",
       "      <td>0.513161</td>\n",
       "      <td>1.100785</td>\n",
       "      <td>1.033403</td>\n",
       "      <td>-1.242515</td>\n",
       "      <td>0.647740</td>\n",
       "      <td>0.348278</td>\n",
       "      <td>0.006261</td>\n",
       "      <td>-1.016781</td>\n",
       "      <td>-1.030663</td>\n",
       "      <td>-0.358518</td>\n",
       "      <td>-0.238245</td>\n",
       "      <td>-0.392487</td>\n",
       "      <td>0.831370</td>\n",
       "      <td>-0.200286</td>\n",
       "      <td>-0.075668</td>\n",
       "      <td>0.520893</td>\n",
       "      <td>-0.836365</td>\n",
       "      <td>-1.384675</td>\n",
       "    </tr>\n",
       "    <tr>\n",
       "      <th>V2</th>\n",
       "      <td>1.596418</td>\n",
       "      <td>1.753544</td>\n",
       "      <td>0.441686</td>\n",
       "      <td>0.654119</td>\n",
       "      <td>0.911898</td>\n",
       "      <td>1.648748</td>\n",
       "      <td>1.849697</td>\n",
       "      <td>2.226625</td>\n",
       "      <td>-0.095860</td>\n",
       "      <td>-0.477977</td>\n",
       "      <td>-0.616503</td>\n",
       "      <td>-1.116670</td>\n",
       "      <td>0.106235</td>\n",
       "      <td>0.018852</td>\n",
       "      <td>-0.816927</td>\n",
       "      <td>-0.348119</td>\n",
       "      <td>-0.722910</td>\n",
       "      <td>-0.538650</td>\n",
       "      <td>-0.034081</td>\n",
       "      <td>-1.058206</td>\n",
       "      <td>-0.344881</td>\n",
       "      <td>-0.375344</td>\n",
       "      <td>-0.035457</td>\n",
       "      <td>-0.818675</td>\n",
       "      <td>-0.926621</td>\n",
       "      <td>-0.049067</td>\n",
       "      <td>-0.518181</td>\n",
       "      <td>0.294210</td>\n",
       "      <td>0.318325</td>\n",
       "      <td>-0.452540</td>\n",
       "      <td>-0.837786</td>\n",
       "      <td>0.727043</td>\n",
       "      <td>0.821324</td>\n",
       "      <td>0.079718</td>\n",
       "      <td>0.763312</td>\n",
       "      <td>0.337186</td>\n",
       "      <td>0.017189</td>\n",
       "      <td>-0.129503</td>\n",
       "      <td>0.806305</td>\n",
       "      <td>0.031940</td>\n",
       "      <td>0.182923</td>\n",
       "      <td>-0.697840</td>\n",
       "      <td>-0.581715</td>\n",
       "      <td>-0.167925</td>\n",
       "      <td>-0.588121</td>\n",
       "      <td>-0.458162</td>\n",
       "      <td>0.611695</td>\n",
       "      <td>-0.639140</td>\n",
       "      <td>-1.048766</td>\n",
       "      <td>-1.249802</td>\n",
       "      <td>-0.163700</td>\n",
       "      <td>-0.419845</td>\n",
       "      <td>-1.215648</td>\n",
       "      <td>0.650131</td>\n",
       "      <td>0.281515</td>\n",
       "      <td>1.292352</td>\n",
       "      <td>0.462191</td>\n",
       "      <td>0.334295</td>\n",
       "      <td>-0.194301</td>\n",
       "      <td>2.172565</td>\n",
       "      <td>1.698357</td>\n",
       "      <td>0.734412</td>\n",
       "      <td>3.009028</td>\n",
       "      <td>1.220469</td>\n",
       "      <td>0.931390</td>\n",
       "      <td>1.683688</td>\n",
       "      <td>1.789678</td>\n",
       "      <td>0.149376</td>\n",
       "      <td>0.669304</td>\n",
       "      <td>0.665965</td>\n",
       "      <td>0.083578</td>\n",
       "      <td>-0.218451</td>\n",
       "      <td>-0.057939</td>\n",
       "      <td>0.048660</td>\n",
       "      <td>2.128929</td>\n",
       "      <td>0.924508</td>\n",
       "      <td>0.047889</td>\n",
       "      <td>0.379304</td>\n",
       "      <td>-0.350289</td>\n",
       "      <td>1.191300</td>\n",
       "      <td>1.307544</td>\n",
       "      <td>0.733049</td>\n",
       "      <td>-0.208447</td>\n",
       "      <td>-0.305704</td>\n",
       "      <td>-0.307915</td>\n",
       "      <td>-0.077907</td>\n",
       "      <td>0.568405</td>\n",
       "      <td>0.658955</td>\n",
       "      <td>0.196050</td>\n",
       "      <td>0.198975</td>\n",
       "      <td>0.130954</td>\n",
       "      <td>0.290808</td>\n",
       "      <td>-0.483166</td>\n",
       "      <td>-0.276590</td>\n",
       "      <td>-0.425059</td>\n",
       "      <td>-0.463805</td>\n",
       "      <td>0.005298</td>\n",
       "      <td>-1.504958</td>\n",
       "      <td>-1.763073</td>\n",
       "      <td>0.078654</td>\n",
       "      <td>1.583234</td>\n",
       "      <td>0.742236</td>\n",
       "      <td>0.346696</td>\n",
       "      <td>0.302752</td>\n",
       "      <td>0.317459</td>\n",
       "      <td>...</td>\n",
       "      <td>0.589756</td>\n",
       "      <td>-1.182560</td>\n",
       "      <td>-0.204010</td>\n",
       "      <td>-0.074372</td>\n",
       "      <td>-0.388805</td>\n",
       "      <td>-0.312687</td>\n",
       "      <td>-1.544797</td>\n",
       "      <td>-2.880306</td>\n",
       "      <td>-2.387415</td>\n",
       "      <td>-0.460807</td>\n",
       "      <td>-1.605390</td>\n",
       "      <td>-1.430820</td>\n",
       "      <td>-0.739756</td>\n",
       "      <td>-0.951902</td>\n",
       "      <td>-4.154026</td>\n",
       "      <td>-1.076469</td>\n",
       "      <td>-0.470215</td>\n",
       "      <td>-0.815859</td>\n",
       "      <td>-1.354157</td>\n",
       "      <td>-0.089680</td>\n",
       "      <td>0.072713</td>\n",
       "      <td>1.054225</td>\n",
       "      <td>-0.181923</td>\n",
       "      <td>0.025637</td>\n",
       "      <td>0.354351</td>\n",
       "      <td>-0.229029</td>\n",
       "      <td>-0.745428</td>\n",
       "      <td>-0.373706</td>\n",
       "      <td>-0.934955</td>\n",
       "      <td>0.920098</td>\n",
       "      <td>1.399402</td>\n",
       "      <td>1.148983</td>\n",
       "      <td>1.494829</td>\n",
       "      <td>1.171282</td>\n",
       "      <td>0.438001</td>\n",
       "      <td>0.670138</td>\n",
       "      <td>0.673293</td>\n",
       "      <td>0.108087</td>\n",
       "      <td>-1.152554</td>\n",
       "      <td>1.129984</td>\n",
       "      <td>-0.089284</td>\n",
       "      <td>0.384865</td>\n",
       "      <td>0.867665</td>\n",
       "      <td>0.392615</td>\n",
       "      <td>0.475632</td>\n",
       "      <td>1.056368</td>\n",
       "      <td>0.943503</td>\n",
       "      <td>1.075056</td>\n",
       "      <td>1.349771</td>\n",
       "      <td>0.522103</td>\n",
       "      <td>-0.310401</td>\n",
       "      <td>-0.284990</td>\n",
       "      <td>-0.628839</td>\n",
       "      <td>0.181954</td>\n",
       "      <td>-0.219087</td>\n",
       "      <td>0.466677</td>\n",
       "      <td>0.757177</td>\n",
       "      <td>1.703645</td>\n",
       "      <td>0.662548</td>\n",
       "      <td>-0.338752</td>\n",
       "      <td>1.023400</td>\n",
       "      <td>0.576180</td>\n",
       "      <td>1.234266</td>\n",
       "      <td>0.887819</td>\n",
       "      <td>0.925751</td>\n",
       "      <td>1.889008</td>\n",
       "      <td>0.776651</td>\n",
       "      <td>1.056650</td>\n",
       "      <td>-0.806397</td>\n",
       "      <td>0.320726</td>\n",
       "      <td>-0.004365</td>\n",
       "      <td>-0.114827</td>\n",
       "      <td>1.167423</td>\n",
       "      <td>0.015336</td>\n",
       "      <td>1.433329</td>\n",
       "      <td>1.034830</td>\n",
       "      <td>1.073271</td>\n",
       "      <td>-0.095061</td>\n",
       "      <td>0.068145</td>\n",
       "      <td>-0.394579</td>\n",
       "      <td>0.785834</td>\n",
       "      <td>-0.285866</td>\n",
       "      <td>1.055120</td>\n",
       "      <td>-0.169164</td>\n",
       "      <td>1.058743</td>\n",
       "      <td>-0.092504</td>\n",
       "      <td>0.133869</td>\n",
       "      <td>0.319360</td>\n",
       "      <td>0.639431</td>\n",
       "      <td>-0.892143</td>\n",
       "      <td>0.139625</td>\n",
       "      <td>0.291903</td>\n",
       "      <td>1.132102</td>\n",
       "      <td>1.153295</td>\n",
       "      <td>-0.542697</td>\n",
       "      <td>-0.215657</td>\n",
       "      <td>-0.625720</td>\n",
       "      <td>-0.489938</td>\n",
       "      <td>-0.800791</td>\n",
       "      <td>0.013818</td>\n",
       "      <td>-1.105413</td>\n",
       "      <td>-1.117676</td>\n",
       "      <td>-0.823652</td>\n",
       "      <td>-0.925425</td>\n",
       "      <td>-1.431446</td>\n",
       "    </tr>\n",
       "    <tr>\n",
       "      <th>V3</th>\n",
       "      <td>2.190290</td>\n",
       "      <td>-0.016217</td>\n",
       "      <td>-0.349092</td>\n",
       "      <td>0.266465</td>\n",
       "      <td>-1.311310</td>\n",
       "      <td>-0.019322</td>\n",
       "      <td>0.191185</td>\n",
       "      <td>1.988627</td>\n",
       "      <td>1.007979</td>\n",
       "      <td>0.716019</td>\n",
       "      <td>0.475247</td>\n",
       "      <td>0.038432</td>\n",
       "      <td>-0.652209</td>\n",
       "      <td>0.018852</td>\n",
       "      <td>-0.239702</td>\n",
       "      <td>-0.348119</td>\n",
       "      <td>-1.018807</td>\n",
       "      <td>0.124110</td>\n",
       "      <td>-0.052613</td>\n",
       "      <td>0.096790</td>\n",
       "      <td>-0.344788</td>\n",
       "      <td>0.078490</td>\n",
       "      <td>-0.268093</td>\n",
       "      <td>-0.226597</td>\n",
       "      <td>0.636437</td>\n",
       "      <td>1.583903</td>\n",
       "      <td>-0.139411</td>\n",
       "      <td>-0.057883</td>\n",
       "      <td>-0.780087</td>\n",
       "      <td>1.341201</td>\n",
       "      <td>-0.901258</td>\n",
       "      <td>0.442653</td>\n",
       "      <td>-0.046493</td>\n",
       "      <td>-1.450420</td>\n",
       "      <td>-1.128603</td>\n",
       "      <td>-0.698926</td>\n",
       "      <td>-0.637057</td>\n",
       "      <td>0.244413</td>\n",
       "      <td>-0.861686</td>\n",
       "      <td>0.313946</td>\n",
       "      <td>-1.987809</td>\n",
       "      <td>-0.413581</td>\n",
       "      <td>-1.189617</td>\n",
       "      <td>-1.697780</td>\n",
       "      <td>-1.160589</td>\n",
       "      <td>0.103337</td>\n",
       "      <td>-0.168878</td>\n",
       "      <td>-1.227586</td>\n",
       "      <td>-1.675795</td>\n",
       "      <td>0.775722</td>\n",
       "      <td>0.946493</td>\n",
       "      <td>0.993369</td>\n",
       "      <td>-1.576270</td>\n",
       "      <td>-0.765715</td>\n",
       "      <td>-0.925631</td>\n",
       "      <td>-0.604608</td>\n",
       "      <td>-0.102914</td>\n",
       "      <td>0.660168</td>\n",
       "      <td>0.604932</td>\n",
       "      <td>0.326210</td>\n",
       "      <td>0.212128</td>\n",
       "      <td>1.690252</td>\n",
       "      <td>0.896392</td>\n",
       "      <td>-0.101111</td>\n",
       "      <td>0.495651</td>\n",
       "      <td>-0.094226</td>\n",
       "      <td>0.622309</td>\n",
       "      <td>0.149376</td>\n",
       "      <td>-0.047929</td>\n",
       "      <td>0.646188</td>\n",
       "      <td>0.265950</td>\n",
       "      <td>0.021900</td>\n",
       "      <td>0.054012</td>\n",
       "      <td>-0.603632</td>\n",
       "      <td>0.350432</td>\n",
       "      <td>0.458669</td>\n",
       "      <td>-0.449863</td>\n",
       "      <td>1.027946</td>\n",
       "      <td>0.044040</td>\n",
       "      <td>0.765204</td>\n",
       "      <td>-0.008604</td>\n",
       "      <td>0.698471</td>\n",
       "      <td>-0.071667</td>\n",
       "      <td>-1.093370</td>\n",
       "      <td>-0.448110</td>\n",
       "      <td>1.348280</td>\n",
       "      <td>0.600416</td>\n",
       "      <td>1.399882</td>\n",
       "      <td>0.437491</td>\n",
       "      <td>-0.180981</td>\n",
       "      <td>0.014659</td>\n",
       "      <td>-0.314412</td>\n",
       "      <td>-0.509508</td>\n",
       "      <td>0.618217</td>\n",
       "      <td>0.489563</td>\n",
       "      <td>1.118480</td>\n",
       "      <td>1.859126</td>\n",
       "      <td>-0.118142</td>\n",
       "      <td>-0.016586</td>\n",
       "      <td>0.078654</td>\n",
       "      <td>0.416427</td>\n",
       "      <td>-0.273902</td>\n",
       "      <td>-0.099072</td>\n",
       "      <td>-0.203150</td>\n",
       "      <td>-0.310811</td>\n",
       "      <td>...</td>\n",
       "      <td>-0.170298</td>\n",
       "      <td>1.254254</td>\n",
       "      <td>-0.344059</td>\n",
       "      <td>-0.600661</td>\n",
       "      <td>1.241287</td>\n",
       "      <td>1.957009</td>\n",
       "      <td>0.358264</td>\n",
       "      <td>-0.393869</td>\n",
       "      <td>-0.039561</td>\n",
       "      <td>0.021870</td>\n",
       "      <td>-0.270707</td>\n",
       "      <td>-0.144219</td>\n",
       "      <td>-0.861291</td>\n",
       "      <td>-0.136559</td>\n",
       "      <td>-0.033738</td>\n",
       "      <td>-1.176607</td>\n",
       "      <td>-0.369704</td>\n",
       "      <td>-0.962570</td>\n",
       "      <td>-0.231734</td>\n",
       "      <td>1.083943</td>\n",
       "      <td>1.128586</td>\n",
       "      <td>0.570200</td>\n",
       "      <td>-0.363141</td>\n",
       "      <td>0.530514</td>\n",
       "      <td>-1.816931</td>\n",
       "      <td>-1.323464</td>\n",
       "      <td>-0.662227</td>\n",
       "      <td>-0.653040</td>\n",
       "      <td>-0.912319</td>\n",
       "      <td>-0.803356</td>\n",
       "      <td>-0.486934</td>\n",
       "      <td>-0.476592</td>\n",
       "      <td>-0.236033</td>\n",
       "      <td>1.041665</td>\n",
       "      <td>0.707898</td>\n",
       "      <td>-0.202436</td>\n",
       "      <td>0.594463</td>\n",
       "      <td>0.815450</td>\n",
       "      <td>0.085839</td>\n",
       "      <td>-0.250976</td>\n",
       "      <td>-0.212424</td>\n",
       "      <td>0.112578</td>\n",
       "      <td>0.361206</td>\n",
       "      <td>-0.030143</td>\n",
       "      <td>1.231309</td>\n",
       "      <td>0.937213</td>\n",
       "      <td>0.598653</td>\n",
       "      <td>0.491636</td>\n",
       "      <td>-0.499243</td>\n",
       "      <td>0.969881</td>\n",
       "      <td>-0.001034</td>\n",
       "      <td>-0.097998</td>\n",
       "      <td>0.161069</td>\n",
       "      <td>0.182035</td>\n",
       "      <td>0.053396</td>\n",
       "      <td>0.263728</td>\n",
       "      <td>0.653391</td>\n",
       "      <td>1.053271</td>\n",
       "      <td>-0.710382</td>\n",
       "      <td>-0.199276</td>\n",
       "      <td>-1.293607</td>\n",
       "      <td>0.105732</td>\n",
       "      <td>0.628110</td>\n",
       "      <td>-0.368682</td>\n",
       "      <td>-0.154625</td>\n",
       "      <td>0.049131</td>\n",
       "      <td>-0.343104</td>\n",
       "      <td>0.940389</td>\n",
       "      <td>0.454669</td>\n",
       "      <td>-0.231433</td>\n",
       "      <td>0.109809</td>\n",
       "      <td>-0.776282</td>\n",
       "      <td>-0.295910</td>\n",
       "      <td>-0.059980</td>\n",
       "      <td>0.830942</td>\n",
       "      <td>1.219121</td>\n",
       "      <td>1.177576</td>\n",
       "      <td>0.740651</td>\n",
       "      <td>0.397360</td>\n",
       "      <td>0.057764</td>\n",
       "      <td>0.128300</td>\n",
       "      <td>0.610897</td>\n",
       "      <td>0.766427</td>\n",
       "      <td>1.378059</td>\n",
       "      <td>0.480212</td>\n",
       "      <td>0.439848</td>\n",
       "      <td>0.878671</td>\n",
       "      <td>0.922209</td>\n",
       "      <td>0.761593</td>\n",
       "      <td>-0.048010</td>\n",
       "      <td>0.377279</td>\n",
       "      <td>0.030105</td>\n",
       "      <td>1.503505</td>\n",
       "      <td>0.698165</td>\n",
       "      <td>-0.091093</td>\n",
       "      <td>0.452274</td>\n",
       "      <td>-0.251651</td>\n",
       "      <td>-0.930304</td>\n",
       "      <td>-0.868790</td>\n",
       "      <td>-0.583517</td>\n",
       "      <td>-0.331142</td>\n",
       "      <td>-0.075668</td>\n",
       "      <td>0.008704</td>\n",
       "      <td>-0.960951</td>\n",
       "      <td>-0.095838</td>\n",
       "    </tr>\n",
       "    <tr>\n",
       "      <th>V4</th>\n",
       "      <td>0.682995</td>\n",
       "      <td>-0.375502</td>\n",
       "      <td>1.628079</td>\n",
       "      <td>-0.444299</td>\n",
       "      <td>1.244434</td>\n",
       "      <td>-0.019322</td>\n",
       "      <td>0.408709</td>\n",
       "      <td>0.798057</td>\n",
       "      <td>0.045135</td>\n",
       "      <td>0.119051</td>\n",
       "      <td>-0.161573</td>\n",
       "      <td>-0.301288</td>\n",
       "      <td>-0.339873</td>\n",
       "      <td>0.018852</td>\n",
       "      <td>0.377988</td>\n",
       "      <td>-0.722721</td>\n",
       "      <td>-0.722875</td>\n",
       "      <td>0.124110</td>\n",
       "      <td>-1.466576</td>\n",
       "      <td>0.096790</td>\n",
       "      <td>-0.751215</td>\n",
       "      <td>-2.092826</td>\n",
       "      <td>-0.999641</td>\n",
       "      <td>-2.002400</td>\n",
       "      <td>-1.281748</td>\n",
       "      <td>-0.357390</td>\n",
       "      <td>-1.381582</td>\n",
       "      <td>-0.311430</td>\n",
       "      <td>-1.968260</td>\n",
       "      <td>-0.273096</td>\n",
       "      <td>0.369414</td>\n",
       "      <td>-0.102604</td>\n",
       "      <td>0.219187</td>\n",
       "      <td>0.594745</td>\n",
       "      <td>-0.503031</td>\n",
       "      <td>-1.594607</td>\n",
       "      <td>-2.306737</td>\n",
       "      <td>-1.337067</td>\n",
       "      <td>0.130145</td>\n",
       "      <td>-0.249920</td>\n",
       "      <td>-1.224442</td>\n",
       "      <td>-2.544930</td>\n",
       "      <td>-2.046999</td>\n",
       "      <td>-2.454335</td>\n",
       "      <td>-0.566014</td>\n",
       "      <td>-1.468616</td>\n",
       "      <td>-0.599597</td>\n",
       "      <td>-0.886872</td>\n",
       "      <td>-0.142892</td>\n",
       "      <td>-0.140913</td>\n",
       "      <td>-0.309714</td>\n",
       "      <td>-0.565969</td>\n",
       "      <td>-0.447176</td>\n",
       "      <td>-1.725673</td>\n",
       "      <td>-1.680150</td>\n",
       "      <td>0.489847</td>\n",
       "      <td>-1.711530</td>\n",
       "      <td>-1.394726</td>\n",
       "      <td>-0.431802</td>\n",
       "      <td>0.536032</td>\n",
       "      <td>-0.386017</td>\n",
       "      <td>-1.684646</td>\n",
       "      <td>0.306080</td>\n",
       "      <td>-0.500108</td>\n",
       "      <td>-0.021968</td>\n",
       "      <td>-0.075896</td>\n",
       "      <td>0.038597</td>\n",
       "      <td>-0.826829</td>\n",
       "      <td>-1.085715</td>\n",
       "      <td>-0.465637</td>\n",
       "      <td>-1.534096</td>\n",
       "      <td>-1.179332</td>\n",
       "      <td>-1.310733</td>\n",
       "      <td>-1.602575</td>\n",
       "      <td>-3.185040</td>\n",
       "      <td>-2.665913</td>\n",
       "      <td>0.130942</td>\n",
       "      <td>1.960336</td>\n",
       "      <td>0.044040</td>\n",
       "      <td>0.749422</td>\n",
       "      <td>-0.263970</td>\n",
       "      <td>-0.988890</td>\n",
       "      <td>1.196209</td>\n",
       "      <td>0.630307</td>\n",
       "      <td>0.849111</td>\n",
       "      <td>-0.532527</td>\n",
       "      <td>-0.342076</td>\n",
       "      <td>-0.667634</td>\n",
       "      <td>-1.407291</td>\n",
       "      <td>-1.290627</td>\n",
       "      <td>0.101923</td>\n",
       "      <td>-1.236709</td>\n",
       "      <td>0.783750</td>\n",
       "      <td>0.236181</td>\n",
       "      <td>0.139445</td>\n",
       "      <td>0.420943</td>\n",
       "      <td>-2.014319</td>\n",
       "      <td>-0.118142</td>\n",
       "      <td>-2.156847</td>\n",
       "      <td>0.078654</td>\n",
       "      <td>-0.828232</td>\n",
       "      <td>-0.715738</td>\n",
       "      <td>-0.313733</td>\n",
       "      <td>-0.187818</td>\n",
       "      <td>0.715971</td>\n",
       "      <td>...</td>\n",
       "      <td>0.448092</td>\n",
       "      <td>0.888036</td>\n",
       "      <td>-0.844510</td>\n",
       "      <td>-0.328406</td>\n",
       "      <td>0.380471</td>\n",
       "      <td>0.346026</td>\n",
       "      <td>0.704267</td>\n",
       "      <td>-0.208713</td>\n",
       "      <td>-0.062579</td>\n",
       "      <td>0.504485</td>\n",
       "      <td>0.766658</td>\n",
       "      <td>1.619397</td>\n",
       "      <td>1.500613</td>\n",
       "      <td>1.469963</td>\n",
       "      <td>0.363025</td>\n",
       "      <td>0.664326</td>\n",
       "      <td>-0.329515</td>\n",
       "      <td>0.578329</td>\n",
       "      <td>1.087722</td>\n",
       "      <td>0.287584</td>\n",
       "      <td>0.199454</td>\n",
       "      <td>1.359038</td>\n",
       "      <td>-0.181805</td>\n",
       "      <td>-0.585300</td>\n",
       "      <td>-1.254926</td>\n",
       "      <td>-0.303559</td>\n",
       "      <td>-0.429447</td>\n",
       "      <td>1.023347</td>\n",
       "      <td>1.410145</td>\n",
       "      <td>2.176371</td>\n",
       "      <td>-0.624963</td>\n",
       "      <td>-1.232367</td>\n",
       "      <td>-0.421999</td>\n",
       "      <td>-0.363432</td>\n",
       "      <td>-1.855287</td>\n",
       "      <td>-0.311514</td>\n",
       "      <td>0.252422</td>\n",
       "      <td>-0.599109</td>\n",
       "      <td>-2.053052</td>\n",
       "      <td>-0.888380</td>\n",
       "      <td>-1.239258</td>\n",
       "      <td>0.384971</td>\n",
       "      <td>-0.697941</td>\n",
       "      <td>-0.981581</td>\n",
       "      <td>0.342379</td>\n",
       "      <td>-0.517607</td>\n",
       "      <td>-0.239073</td>\n",
       "      <td>-1.079348</td>\n",
       "      <td>-0.254506</td>\n",
       "      <td>-0.932802</td>\n",
       "      <td>-1.061427</td>\n",
       "      <td>-1.489450</td>\n",
       "      <td>-0.284476</td>\n",
       "      <td>-0.237790</td>\n",
       "      <td>-2.175222</td>\n",
       "      <td>-0.497705</td>\n",
       "      <td>0.030188</td>\n",
       "      <td>-0.009145</td>\n",
       "      <td>-1.950525</td>\n",
       "      <td>-0.803281</td>\n",
       "      <td>-0.580660</td>\n",
       "      <td>1.360492</td>\n",
       "      <td>1.234357</td>\n",
       "      <td>-0.747650</td>\n",
       "      <td>-0.989535</td>\n",
       "      <td>-0.905789</td>\n",
       "      <td>-1.024751</td>\n",
       "      <td>0.552600</td>\n",
       "      <td>-1.614566</td>\n",
       "      <td>-0.961175</td>\n",
       "      <td>-1.122313</td>\n",
       "      <td>-0.996782</td>\n",
       "      <td>-0.941536</td>\n",
       "      <td>0.158549</td>\n",
       "      <td>-0.513045</td>\n",
       "      <td>-1.544045</td>\n",
       "      <td>-0.541772</td>\n",
       "      <td>0.297247</td>\n",
       "      <td>0.917066</td>\n",
       "      <td>-0.374839</td>\n",
       "      <td>0.128300</td>\n",
       "      <td>0.863805</td>\n",
       "      <td>1.156239</td>\n",
       "      <td>2.256182</td>\n",
       "      <td>1.526174</td>\n",
       "      <td>0.774085</td>\n",
       "      <td>0.328697</td>\n",
       "      <td>0.351695</td>\n",
       "      <td>0.042506</td>\n",
       "      <td>-0.048010</td>\n",
       "      <td>-0.054666</td>\n",
       "      <td>-0.755365</td>\n",
       "      <td>-1.260788</td>\n",
       "      <td>-1.031596</td>\n",
       "      <td>0.405601</td>\n",
       "      <td>-1.313667</td>\n",
       "      <td>-0.456479</td>\n",
       "      <td>-0.409013</td>\n",
       "      <td>-0.086293</td>\n",
       "      <td>-0.709285</td>\n",
       "      <td>-0.494711</td>\n",
       "      <td>-1.034286</td>\n",
       "      <td>1.558075</td>\n",
       "      <td>-0.693981</td>\n",
       "      <td>-0.830408</td>\n",
       "    </tr>\n",
       "    <tr>\n",
       "      <th>V5</th>\n",
       "      <td>1.151170</td>\n",
       "      <td>-0.581759</td>\n",
       "      <td>0.965145</td>\n",
       "      <td>1.138767</td>\n",
       "      <td>0.361351</td>\n",
       "      <td>-0.033703</td>\n",
       "      <td>0.177590</td>\n",
       "      <td>0.396239</td>\n",
       "      <td>0.550041</td>\n",
       "      <td>2.310550</td>\n",
       "      <td>0.892212</td>\n",
       "      <td>0.683901</td>\n",
       "      <td>0.920627</td>\n",
       "      <td>2.453466</td>\n",
       "      <td>2.215868</td>\n",
       "      <td>-0.348119</td>\n",
       "      <td>-0.583876</td>\n",
       "      <td>0.702795</td>\n",
       "      <td>-1.010759</td>\n",
       "      <td>-0.083644</td>\n",
       "      <td>-2.078078</td>\n",
       "      <td>-1.558099</td>\n",
       "      <td>-1.714563</td>\n",
       "      <td>-0.911021</td>\n",
       "      <td>-0.606831</td>\n",
       "      <td>-0.802746</td>\n",
       "      <td>-0.033372</td>\n",
       "      <td>0.090019</td>\n",
       "      <td>-0.320510</td>\n",
       "      <td>-0.263131</td>\n",
       "      <td>-0.305630</td>\n",
       "      <td>-0.754542</td>\n",
       "      <td>-0.994082</td>\n",
       "      <td>-0.736819</td>\n",
       "      <td>-0.693754</td>\n",
       "      <td>-0.707707</td>\n",
       "      <td>-2.114949</td>\n",
       "      <td>-1.121411</td>\n",
       "      <td>0.197769</td>\n",
       "      <td>-0.898367</td>\n",
       "      <td>-0.854686</td>\n",
       "      <td>-1.621346</td>\n",
       "      <td>-1.571542</td>\n",
       "      <td>-1.706186</td>\n",
       "      <td>-1.942344</td>\n",
       "      <td>-1.300193</td>\n",
       "      <td>-1.447575</td>\n",
       "      <td>-1.483122</td>\n",
       "      <td>-1.719343</td>\n",
       "      <td>-0.710113</td>\n",
       "      <td>-0.068697</td>\n",
       "      <td>0.205578</td>\n",
       "      <td>-0.329562</td>\n",
       "      <td>-0.945707</td>\n",
       "      <td>-0.440583</td>\n",
       "      <td>-1.638260</td>\n",
       "      <td>-0.526806</td>\n",
       "      <td>-0.906062</td>\n",
       "      <td>-0.485798</td>\n",
       "      <td>-0.187855</td>\n",
       "      <td>-1.428239</td>\n",
       "      <td>-0.833455</td>\n",
       "      <td>-0.556086</td>\n",
       "      <td>-0.213329</td>\n",
       "      <td>-0.580342</td>\n",
       "      <td>-0.561634</td>\n",
       "      <td>-0.637655</td>\n",
       "      <td>-0.527208</td>\n",
       "      <td>-0.253960</td>\n",
       "      <td>-0.197608</td>\n",
       "      <td>-1.226493</td>\n",
       "      <td>-1.619784</td>\n",
       "      <td>-1.500902</td>\n",
       "      <td>-1.245810</td>\n",
       "      <td>-2.219835</td>\n",
       "      <td>-2.569983</td>\n",
       "      <td>-0.563950</td>\n",
       "      <td>-0.926599</td>\n",
       "      <td>1.403947</td>\n",
       "      <td>0.721802</td>\n",
       "      <td>0.724806</td>\n",
       "      <td>-0.075985</td>\n",
       "      <td>-0.071667</td>\n",
       "      <td>-1.088736</td>\n",
       "      <td>-0.243593</td>\n",
       "      <td>-0.170833</td>\n",
       "      <td>0.049298</td>\n",
       "      <td>0.185217</td>\n",
       "      <td>-1.657285</td>\n",
       "      <td>-1.617440</td>\n",
       "      <td>-0.312583</td>\n",
       "      <td>-0.645863</td>\n",
       "      <td>0.130523</td>\n",
       "      <td>0.874583</td>\n",
       "      <td>1.071902</td>\n",
       "      <td>1.229065</td>\n",
       "      <td>0.185244</td>\n",
       "      <td>0.826178</td>\n",
       "      <td>0.775310</td>\n",
       "      <td>0.563396</td>\n",
       "      <td>-0.524847</td>\n",
       "      <td>-0.395407</td>\n",
       "      <td>-0.305477</td>\n",
       "      <td>-0.456131</td>\n",
       "      <td>-0.793552</td>\n",
       "      <td>...</td>\n",
       "      <td>-0.473051</td>\n",
       "      <td>0.852822</td>\n",
       "      <td>-0.193923</td>\n",
       "      <td>-0.137827</td>\n",
       "      <td>1.016926</td>\n",
       "      <td>2.304266</td>\n",
       "      <td>0.796946</td>\n",
       "      <td>0.895612</td>\n",
       "      <td>1.099824</td>\n",
       "      <td>-1.305319</td>\n",
       "      <td>0.200536</td>\n",
       "      <td>0.632784</td>\n",
       "      <td>0.263218</td>\n",
       "      <td>0.474878</td>\n",
       "      <td>1.621984</td>\n",
       "      <td>1.710027</td>\n",
       "      <td>-0.726379</td>\n",
       "      <td>-0.485625</td>\n",
       "      <td>0.961798</td>\n",
       "      <td>-1.153198</td>\n",
       "      <td>-0.903890</td>\n",
       "      <td>2.268892</td>\n",
       "      <td>1.646664</td>\n",
       "      <td>-1.183058</td>\n",
       "      <td>-3.158078</td>\n",
       "      <td>-3.226456</td>\n",
       "      <td>-1.052965</td>\n",
       "      <td>-0.973525</td>\n",
       "      <td>-0.495178</td>\n",
       "      <td>-0.029211</td>\n",
       "      <td>-1.460805</td>\n",
       "      <td>-1.382096</td>\n",
       "      <td>-1.244543</td>\n",
       "      <td>-0.957896</td>\n",
       "      <td>0.224490</td>\n",
       "      <td>0.082377</td>\n",
       "      <td>0.068246</td>\n",
       "      <td>0.633272</td>\n",
       "      <td>-0.488284</td>\n",
       "      <td>0.035856</td>\n",
       "      <td>-0.551280</td>\n",
       "      <td>-0.473066</td>\n",
       "      <td>-0.571304</td>\n",
       "      <td>-0.386932</td>\n",
       "      <td>-1.602156</td>\n",
       "      <td>-1.268866</td>\n",
       "      <td>-1.163036</td>\n",
       "      <td>-1.674077</td>\n",
       "      <td>-1.083891</td>\n",
       "      <td>-1.145455</td>\n",
       "      <td>-0.873649</td>\n",
       "      <td>-0.502973</td>\n",
       "      <td>-0.841406</td>\n",
       "      <td>-0.794057</td>\n",
       "      <td>-0.330421</td>\n",
       "      <td>0.961708</td>\n",
       "      <td>-0.167159</td>\n",
       "      <td>-0.106714</td>\n",
       "      <td>-0.987199</td>\n",
       "      <td>-0.605818</td>\n",
       "      <td>-0.482630</td>\n",
       "      <td>-1.115417</td>\n",
       "      <td>-1.132340</td>\n",
       "      <td>-1.834690</td>\n",
       "      <td>-0.780808</td>\n",
       "      <td>-0.381747</td>\n",
       "      <td>0.155960</td>\n",
       "      <td>2.966583</td>\n",
       "      <td>-0.208133</td>\n",
       "      <td>-1.819114</td>\n",
       "      <td>-1.681332</td>\n",
       "      <td>-2.430033</td>\n",
       "      <td>-1.640963</td>\n",
       "      <td>1.044029</td>\n",
       "      <td>-0.153876</td>\n",
       "      <td>0.308299</td>\n",
       "      <td>0.226724</td>\n",
       "      <td>-0.888005</td>\n",
       "      <td>-0.113684</td>\n",
       "      <td>-0.286352</td>\n",
       "      <td>-0.431551</td>\n",
       "      <td>0.093585</td>\n",
       "      <td>-0.453538</td>\n",
       "      <td>0.339644</td>\n",
       "      <td>-0.087277</td>\n",
       "      <td>0.173696</td>\n",
       "      <td>0.288594</td>\n",
       "      <td>0.357077</td>\n",
       "      <td>0.062858</td>\n",
       "      <td>0.941087</td>\n",
       "      <td>0.690439</td>\n",
       "      <td>-0.167941</td>\n",
       "      <td>-0.033359</td>\n",
       "      <td>-0.294172</td>\n",
       "      <td>1.630430</td>\n",
       "      <td>0.718297</td>\n",
       "      <td>-1.048700</td>\n",
       "      <td>-0.728079</td>\n",
       "      <td>-0.556925</td>\n",
       "      <td>0.839231</td>\n",
       "      <td>0.492157</td>\n",
       "      <td>-0.075668</td>\n",
       "      <td>1.116312</td>\n",
       "      <td>0.525182</td>\n",
       "      <td>0.000992</td>\n",
       "    </tr>\n",
       "  </tbody>\n",
       "</table>\n",
       "<p>5 rows × 6830 columns</p>\n",
       "</div>"
      ],
      "text/plain": [
       "      data.1    data.2    data.3    data.4    data.5    data.6    data.7    data.8    data.9  ...  data.6822  data.6823  data.6824  data.6825  data.6826  data.6827  data.6828  data.6829  data.6830\n",
       "V1  0.728671  1.607220  1.325688  1.355688 -0.604845 -0.220654  0.898137 -0.868741 -1.058612  ...  -0.358518  -0.238245  -0.392487   0.831370  -0.200286  -0.075668   0.520893  -0.836365  -1.384675\n",
       "V2  1.596418  1.753544  0.441686  0.654119  0.911898  1.648748  1.849697  2.226625 -0.095860  ...  -0.625720  -0.489938  -0.800791   0.013818  -1.105413  -1.117676  -0.823652  -0.925425  -1.431446\n",
       "V3  2.190290 -0.016217 -0.349092  0.266465 -1.311310 -0.019322  0.191185  1.988627  1.007979  ...  -0.251651  -0.930304  -0.868790  -0.583517  -0.331142  -0.075668   0.008704  -0.960951  -0.095838\n",
       "V4  0.682995 -0.375502  1.628079 -0.444299  1.244434 -0.019322  0.408709  0.798057  0.045135  ...  -0.456479  -0.409013  -0.086293  -0.709285  -0.494711  -1.034286   1.558075  -0.693981  -0.830408\n",
       "V5  1.151170 -0.581759  0.965145  1.138767  0.361351 -0.033703  0.177590  0.396239  0.550041  ...  -1.048700  -0.728079  -0.556925   0.839231   0.492157  -0.075668   1.116312   0.525182   0.000992\n",
       "\n",
       "[5 rows x 6830 columns]"
      ]
     },
     "execution_count": 236,
     "metadata": {},
     "output_type": "execute_result"
    }
   ],
   "source": [
    "std_data.head()"
   ]
  },
  {
   "cell_type": "code",
   "execution_count": 244,
   "id": "33975152",
   "metadata": {},
   "outputs": [
    {
     "data": {
      "image/png": "[encoded data removed]",
      "text/plain": [
       "<Figure size 1008x720 with 3 Axes>"
      ]
     },
     "metadata": {
      "needs_background": "light"
     },
     "output_type": "display_data"
    }
   ],
   "source": [
    "hcomp = linkage(std_data, method=\"complete\")\n",
    "havg = linkage(std_data, method=\"average\")\n",
    "hsing = linkage(std_data)\n",
    "\n",
    "f, ax = plt.subplots(3, 1, figsize=(14,10))\n",
    "dendrogram(hcomp, ax = ax[0])\n",
    "dendrogram(havg, ax = ax[1])\n",
    "dendrogram(hsing, ax = ax[2])\n",
    "plt.show()"
   ]
  },
  {
   "cell_type": "code",
   "execution_count": 246,
   "id": "8b733a11",
   "metadata": {},
   "outputs": [
    {
     "data": {
      "text/plain": [
       "array([0, 0, 0, 0, 1, 1, 1, 1, 0, 0, 0, 0, 0, 0, 0, 0, 0, 1, 1, 1, 0, 0,\n",
       "       0, 0, 0, 0, 0, 0, 0, 0, 0, 0, 0, 2, 2, 2, 2, 2, 2, 2, 2, 0, 3, 0,\n",
       "       3, 3, 3, 3, 3, 3, 3, 3, 0, 0, 0, 0, 0, 0, 0, 0, 0, 0, 0, 0])"
      ]
     },
     "execution_count": 246,
     "metadata": {},
     "output_type": "execute_result"
    }
   ],
   "source": [
    "cut_tree(hcomp, 4).flatten()"
   ]
  },
  {
   "cell_type": "code",
   "execution_count": 247,
   "id": "e3cc5ca7",
   "metadata": {},
   "outputs": [
    {
     "data": {
      "text/plain": [
       "array([ 0,  0,  0,  1,  2,  0,  0,  2,  3,  3,  1,  1,  1,  1,  1,  1,  1,\n",
       "        2,  3,  1,  4,  5,  6,  7,  5,  5,  5,  5,  5,  7,  3,  3,  3,  8,\n",
       "        9, 10,  8,  8,  8,  8,  8, 11, 11, 11, 11, 11, 11, 11, 12,  2, 13,\n",
       "        2,  3,  3,  3,  6,  2,  2,  6,  6,  6,  6,  6,  6], dtype=int64)"
      ]
     },
     "execution_count": 247,
     "metadata": {},
     "output_type": "execute_result"
    }
   ],
   "source": [
    "y"
   ]
  },
  {
   "cell_type": "code",
   "execution_count": 248,
   "id": "f54bc278",
   "metadata": {},
   "outputs": [
    {
     "data": {
      "text/plain": [
       "Text(0, 0.5, 'Z3')"
      ]
     },
     "execution_count": 248,
     "metadata": {},
     "output_type": "execute_result"
    },
    {
     "data": {
      "image/png": "[encoded data removed]",
      "text/plain": [
       "<Figure size 864x360 with 2 Axes>"
      ]
     },
     "metadata": {
      "needs_background": "light"
     },
     "output_type": "display_data"
    }
   ],
   "source": [
    "f, ax = plt.subplots(1, 2, figsize=(12,5))\n",
    "\n",
    "ax[0].scatter(components[:, 0], components[:, 1], c = cut_tree(hcomp, 4).flatten())\n",
    "ax[0].set_xlabel(\"Z1\")\n",
    "ax[0].set_ylabel(\"Z2\")\n",
    "\n",
    "ax[1].scatter(components[:, 0], components[:, 2], c = cut_tree(hcomp, 4).flatten())\n",
    "ax[1].set_xlabel(\"Z1\")\n",
    "ax[1].set_ylabel(\"Z3\")"
   ]
  },
  {
   "cell_type": "code",
   "execution_count": 262,
   "id": "2234ac12",
   "metadata": {},
   "outputs": [
    {
     "name": "stdout",
     "output_type": "stream",
     "text": [
      "labs\n",
      "CNS    0\n",
      "CNS    0\n",
      "CNS    0\n",
      "CNS    1\n",
      "CNS    1\n",
      "dtype: int32\n",
      "labs\n",
      "RENAL    0\n",
      "RENAL    0\n",
      "RENAL    0\n",
      "RENAL    0\n",
      "RENAL    0\n",
      "RENAL    0\n",
      "RENAL    0\n",
      "RENAL    0\n",
      "RENAL    1\n",
      "dtype: int32\n",
      "labs\n",
      "BREAST    1\n",
      "BREAST    1\n",
      "BREAST    1\n",
      "BREAST    3\n",
      "BREAST    3\n",
      "BREAST    0\n",
      "BREAST    0\n",
      "dtype: int32\n",
      "labs\n",
      "NSCLC    0\n",
      "NSCLC    0\n",
      "NSCLC    1\n",
      "NSCLC    0\n",
      "NSCLC    0\n",
      "NSCLC    0\n",
      "NSCLC    0\n",
      "NSCLC    0\n",
      "NSCLC    0\n",
      "dtype: int32\n",
      "0\n",
      "labs\n",
      "OVARIAN    0\n",
      "OVARIAN    0\n",
      "OVARIAN    0\n",
      "OVARIAN    0\n",
      "OVARIAN    0\n",
      "OVARIAN    0\n",
      "dtype: int32\n",
      "labs\n",
      "MELANOMA    0\n",
      "MELANOMA    0\n",
      "MELANOMA    0\n",
      "MELANOMA    0\n",
      "MELANOMA    0\n",
      "MELANOMA    0\n",
      "MELANOMA    0\n",
      "MELANOMA    0\n",
      "dtype: int32\n",
      "labs\n",
      "PROSTATE    0\n",
      "PROSTATE    0\n",
      "dtype: int32\n",
      "labs\n",
      "LEUKEMIA    2\n",
      "LEUKEMIA    2\n",
      "LEUKEMIA    2\n",
      "LEUKEMIA    2\n",
      "LEUKEMIA    2\n",
      "LEUKEMIA    2\n",
      "dtype: int32\n",
      "2\n",
      "2\n",
      "labs\n",
      "COLON    0\n",
      "COLON    3\n",
      "COLON    0\n",
      "COLON    3\n",
      "COLON    3\n",
      "COLON    3\n",
      "COLON    3\n",
      "dtype: int32\n",
      "3\n",
      "3\n"
     ]
    }
   ],
   "source": [
    "for i in labs.unique():\n",
    "    print(pd.Series(index = labs, data = cut_tree(hcomp, 4).flatten()).loc[i])"
   ]
  },
  {
   "cell_type": "code",
   "execution_count": 265,
   "id": "f13f95a0",
   "metadata": {},
   "outputs": [],
   "source": [
    "centroids, classes, _ = k_means(std_data, 4, n_init=20)"
   ]
  },
  {
   "cell_type": "code",
   "execution_count": 266,
   "id": "f4e79f4d",
   "metadata": {},
   "outputs": [
    {
     "data": {
      "text/plain": [
       "Text(0, 0.5, 'Z3')"
      ]
     },
     "execution_count": 266,
     "metadata": {},
     "output_type": "execute_result"
    },
    {
     "data": {
      "image/png": "[encoded data removed]",
      "text/plain": [
       "<Figure size 864x360 with 2 Axes>"
      ]
     },
     "metadata": {
      "needs_background": "light"
     },
     "output_type": "display_data"
    }
   ],
   "source": [
    "f, ax = plt.subplots(1, 2, figsize=(12,5))\n",
    "\n",
    "ax[0].scatter(components[:, 0], components[:, 1], c = classes)\n",
    "ax[0].set_xlabel(\"Z1\")\n",
    "ax[0].set_ylabel(\"Z2\")\n",
    "\n",
    "ax[1].scatter(components[:, 0], components[:, 2], c = classes)\n",
    "ax[1].set_xlabel(\"Z1\")\n",
    "ax[1].set_ylabel(\"Z3\")"
   ]
  },
  {
   "cell_type": "code",
   "execution_count": 267,
   "id": "dd3c20f5",
   "metadata": {},
   "outputs": [
    {
     "name": "stdout",
     "output_type": "stream",
     "text": [
      "labs\n",
      "CNS    2\n",
      "CNS    2\n",
      "CNS    2\n",
      "CNS    2\n",
      "CNS    2\n",
      "dtype: int32\n",
      "labs\n",
      "RENAL    2\n",
      "RENAL    2\n",
      "RENAL    2\n",
      "RENAL    2\n",
      "RENAL    2\n",
      "RENAL    2\n",
      "RENAL    2\n",
      "RENAL    2\n",
      "RENAL    2\n",
      "dtype: int32\n",
      "labs\n",
      "BREAST    2\n",
      "BREAST    2\n",
      "BREAST    2\n",
      "BREAST    0\n",
      "BREAST    0\n",
      "BREAST    1\n",
      "BREAST    1\n",
      "dtype: int32\n",
      "labs\n",
      "NSCLC    2\n",
      "NSCLC    2\n",
      "NSCLC    2\n",
      "NSCLC    2\n",
      "NSCLC    2\n",
      "NSCLC    2\n",
      "NSCLC    2\n",
      "NSCLC    2\n",
      "NSCLC    2\n",
      "dtype: int32\n",
      "2\n",
      "labs\n",
      "OVARIAN    2\n",
      "OVARIAN    2\n",
      "OVARIAN    2\n",
      "OVARIAN    2\n",
      "OVARIAN    2\n",
      "OVARIAN    2\n",
      "dtype: int32\n",
      "labs\n",
      "MELANOMA    2\n",
      "MELANOMA    1\n",
      "MELANOMA    1\n",
      "MELANOMA    1\n",
      "MELANOMA    1\n",
      "MELANOMA    1\n",
      "MELANOMA    1\n",
      "MELANOMA    1\n",
      "dtype: int32\n",
      "labs\n",
      "PROSTATE    2\n",
      "PROSTATE    2\n",
      "dtype: int32\n",
      "labs\n",
      "LEUKEMIA    3\n",
      "LEUKEMIA    3\n",
      "LEUKEMIA    3\n",
      "LEUKEMIA    3\n",
      "LEUKEMIA    3\n",
      "LEUKEMIA    2\n",
      "dtype: int32\n",
      "3\n",
      "3\n",
      "labs\n",
      "COLON    2\n",
      "COLON    0\n",
      "COLON    0\n",
      "COLON    0\n",
      "COLON    0\n",
      "COLON    0\n",
      "COLON    0\n",
      "dtype: int32\n",
      "0\n",
      "0\n"
     ]
    }
   ],
   "source": [
    "for i in labs.unique():\n",
    "    print(pd.Series(index = labs, data = classes).loc[i])"
   ]
  },
  {
   "cell_type": "code",
   "execution_count": 270,
   "id": "a1e709e3",
   "metadata": {},
   "outputs": [
    {
     "data": {
      "text/plain": [
       "array([0, 0, 0, 0, 1, 1, 1, 1, 0, 0, 0, 0, 0, 0, 0, 0, 0, 1, 1, 1, 0, 0,\n",
       "       0, 0, 0, 0, 0, 0, 0, 0, 0, 0, 0, 2, 2, 2, 2, 2, 2, 2, 2, 0, 3, 0,\n",
       "       3, 3, 3, 3, 3, 3, 3, 3, 0, 0, 0, 0, 0, 0, 0, 0, 0, 0, 0, 0])"
      ]
     },
     "execution_count": 270,
     "metadata": {},
     "output_type": "execute_result"
    }
   ],
   "source": [
    "cut_tree(hcomp, 4).flatten()"
   ]
  },
  {
   "cell_type": "code",
   "execution_count": 272,
   "id": "d8f9b903",
   "metadata": {},
   "outputs": [
    {
     "data": {
      "text/plain": [
       "array([2, 2, 2, 2, 2, 2, 2, 2, 2, 2, 2, 2, 2, 2, 2, 2, 2, 2, 2, 2, 2, 2,\n",
       "       2, 2, 2, 2, 2, 2, 2, 2, 2, 2, 2, 3, 3, 3, 3, 3, 3, 3, 2, 2, 0, 0,\n",
       "       0, 0, 0, 0, 0, 0, 0, 0, 2, 2, 2, 1, 1, 1, 1, 1, 1, 1, 1, 1])"
      ]
     },
     "execution_count": 272,
     "metadata": {},
     "output_type": "execute_result"
    }
   ],
   "source": [
    "classes"
   ]
  },
  {
   "cell_type": "markdown",
   "id": "f6b7b3a5",
   "metadata": {},
   "source": [
    "## Applied\n",
    "\n",
    "> 7"
   ]
  },
  {
   "cell_type": "code",
   "execution_count": 278,
   "id": "063805b2",
   "metadata": {},
   "outputs": [],
   "source": [
    "df = get_rdataset(\"USArrests\", cache=True).data"
   ]
  },
  {
   "cell_type": "code",
   "execution_count": 279,
   "id": "d3e67b8f",
   "metadata": {},
   "outputs": [
    {
     "data": {
      "text/html": [
       "<div>\n",
       "<style scoped>\n",
       "    .dataframe tbody tr th:only-of-type {\n",
       "        vertical-align: middle;\n",
       "    }\n",
       "\n",
       "    .dataframe tbody tr th {\n",
       "        vertical-align: top;\n",
       "    }\n",
       "\n",
       "    .dataframe thead th {\n",
       "        text-align: right;\n",
       "    }\n",
       "</style>\n",
       "<table border=\"1\" class=\"dataframe\">\n",
       "  <thead>\n",
       "    <tr style=\"text-align: right;\">\n",
       "      <th></th>\n",
       "      <th>Murder</th>\n",
       "      <th>Assault</th>\n",
       "      <th>UrbanPop</th>\n",
       "      <th>Rape</th>\n",
       "    </tr>\n",
       "  </thead>\n",
       "  <tbody>\n",
       "    <tr>\n",
       "      <th>Alabama</th>\n",
       "      <td>13.2</td>\n",
       "      <td>236</td>\n",
       "      <td>58</td>\n",
       "      <td>21.2</td>\n",
       "    </tr>\n",
       "    <tr>\n",
       "      <th>Alaska</th>\n",
       "      <td>10.0</td>\n",
       "      <td>263</td>\n",
       "      <td>48</td>\n",
       "      <td>44.5</td>\n",
       "    </tr>\n",
       "    <tr>\n",
       "      <th>Arizona</th>\n",
       "      <td>8.1</td>\n",
       "      <td>294</td>\n",
       "      <td>80</td>\n",
       "      <td>31.0</td>\n",
       "    </tr>\n",
       "    <tr>\n",
       "      <th>Arkansas</th>\n",
       "      <td>8.8</td>\n",
       "      <td>190</td>\n",
       "      <td>50</td>\n",
       "      <td>19.5</td>\n",
       "    </tr>\n",
       "    <tr>\n",
       "      <th>California</th>\n",
       "      <td>9.0</td>\n",
       "      <td>276</td>\n",
       "      <td>91</td>\n",
       "      <td>40.6</td>\n",
       "    </tr>\n",
       "  </tbody>\n",
       "</table>\n",
       "</div>"
      ],
      "text/plain": [
       "            Murder  Assault  UrbanPop  Rape\n",
       "Alabama       13.2      236        58  21.2\n",
       "Alaska        10.0      263        48  44.5\n",
       "Arizona        8.1      294        80  31.0\n",
       "Arkansas       8.8      190        50  19.5\n",
       "California     9.0      276        91  40.6"
      ]
     },
     "execution_count": 279,
     "metadata": {},
     "output_type": "execute_result"
    }
   ],
   "source": [
    "df.head()"
   ]
  },
  {
   "cell_type": "code",
   "execution_count": 280,
   "id": "908613cb",
   "metadata": {},
   "outputs": [
    {
     "data": {
      "text/html": [
       "<div>\n",
       "<style scoped>\n",
       "    .dataframe tbody tr th:only-of-type {\n",
       "        vertical-align: middle;\n",
       "    }\n",
       "\n",
       "    .dataframe tbody tr th {\n",
       "        vertical-align: top;\n",
       "    }\n",
       "\n",
       "    .dataframe thead th {\n",
       "        text-align: right;\n",
       "    }\n",
       "</style>\n",
       "<table border=\"1\" class=\"dataframe\">\n",
       "  <thead>\n",
       "    <tr style=\"text-align: right;\">\n",
       "      <th></th>\n",
       "      <th>Murder</th>\n",
       "      <th>Assault</th>\n",
       "      <th>UrbanPop</th>\n",
       "      <th>Rape</th>\n",
       "    </tr>\n",
       "  </thead>\n",
       "  <tbody>\n",
       "    <tr>\n",
       "      <th>Murder</th>\n",
       "      <td>1.000000</td>\n",
       "      <td>0.801873</td>\n",
       "      <td>0.069573</td>\n",
       "      <td>0.563579</td>\n",
       "    </tr>\n",
       "    <tr>\n",
       "      <th>Assault</th>\n",
       "      <td>0.801873</td>\n",
       "      <td>1.000000</td>\n",
       "      <td>0.258872</td>\n",
       "      <td>0.665241</td>\n",
       "    </tr>\n",
       "    <tr>\n",
       "      <th>UrbanPop</th>\n",
       "      <td>0.069573</td>\n",
       "      <td>0.258872</td>\n",
       "      <td>1.000000</td>\n",
       "      <td>0.411341</td>\n",
       "    </tr>\n",
       "    <tr>\n",
       "      <th>Rape</th>\n",
       "      <td>0.563579</td>\n",
       "      <td>0.665241</td>\n",
       "      <td>0.411341</td>\n",
       "      <td>1.000000</td>\n",
       "    </tr>\n",
       "  </tbody>\n",
       "</table>\n",
       "</div>"
      ],
      "text/plain": [
       "            Murder   Assault  UrbanPop      Rape\n",
       "Murder    1.000000  0.801873  0.069573  0.563579\n",
       "Assault   0.801873  1.000000  0.258872  0.665241\n",
       "UrbanPop  0.069573  0.258872  1.000000  0.411341\n",
       "Rape      0.563579  0.665241  0.411341  1.000000"
      ]
     },
     "execution_count": 280,
     "metadata": {},
     "output_type": "execute_result"
    }
   ],
   "source": [
    "df.corr()"
   ]
  },
  {
   "cell_type": "code",
   "execution_count": 283,
   "id": "df9721ff",
   "metadata": {},
   "outputs": [
    {
     "data": {
      "text/html": [
       "<div>\n",
       "<style scoped>\n",
       "    .dataframe tbody tr th:only-of-type {\n",
       "        vertical-align: middle;\n",
       "    }\n",
       "\n",
       "    .dataframe tbody tr th {\n",
       "        vertical-align: top;\n",
       "    }\n",
       "\n",
       "    .dataframe thead th {\n",
       "        text-align: right;\n",
       "    }\n",
       "</style>\n",
       "<table border=\"1\" class=\"dataframe\">\n",
       "  <thead>\n",
       "    <tr style=\"text-align: right;\">\n",
       "      <th></th>\n",
       "      <th>Murder</th>\n",
       "      <th>Assault</th>\n",
       "      <th>UrbanPop</th>\n",
       "      <th>Rape</th>\n",
       "    </tr>\n",
       "  </thead>\n",
       "  <tbody>\n",
       "    <tr>\n",
       "      <th>Murder</th>\n",
       "      <td>1.000000</td>\n",
       "      <td>1280.902885</td>\n",
       "      <td>421.344040</td>\n",
       "      <td>109.600091</td>\n",
       "    </tr>\n",
       "    <tr>\n",
       "      <th>Assault</th>\n",
       "      <td>1280.902885</td>\n",
       "      <td>1.000000</td>\n",
       "      <td>934.633083</td>\n",
       "      <td>1188.130725</td>\n",
       "    </tr>\n",
       "    <tr>\n",
       "      <th>UrbanPop</th>\n",
       "      <td>421.344040</td>\n",
       "      <td>934.633083</td>\n",
       "      <td>1.000000</td>\n",
       "      <td>327.505450</td>\n",
       "    </tr>\n",
       "    <tr>\n",
       "      <th>Rape</th>\n",
       "      <td>109.600091</td>\n",
       "      <td>1188.130725</td>\n",
       "      <td>327.505450</td>\n",
       "      <td>1.000000</td>\n",
       "    </tr>\n",
       "  </tbody>\n",
       "</table>\n",
       "</div>"
      ],
      "text/plain": [
       "               Murder      Assault    UrbanPop         Rape\n",
       "Murder       1.000000  1280.902885  421.344040   109.600091\n",
       "Assault   1280.902885     1.000000  934.633083  1188.130725\n",
       "UrbanPop   421.344040   934.633083    1.000000   327.505450\n",
       "Rape       109.600091  1188.130725  327.505450     1.000000"
      ]
     },
     "execution_count": 283,
     "metadata": {},
     "output_type": "execute_result"
    }
   ],
   "source": [
    "df.corr(method = euclidean)"
   ]
  },
  {
   "cell_type": "code",
   "execution_count": 287,
   "id": "f5c91e45",
   "metadata": {},
   "outputs": [
    {
     "data": {
      "text/html": [
       "<div>\n",
       "<style scoped>\n",
       "    .dataframe tbody tr th:only-of-type {\n",
       "        vertical-align: middle;\n",
       "    }\n",
       "\n",
       "    .dataframe tbody tr th {\n",
       "        vertical-align: top;\n",
       "    }\n",
       "\n",
       "    .dataframe thead th {\n",
       "        text-align: right;\n",
       "    }\n",
       "</style>\n",
       "<table border=\"1\" class=\"dataframe\">\n",
       "  <thead>\n",
       "    <tr style=\"text-align: right;\">\n",
       "      <th></th>\n",
       "      <th>Murder</th>\n",
       "      <th>Assault</th>\n",
       "      <th>UrbanPop</th>\n",
       "      <th>Rape</th>\n",
       "    </tr>\n",
       "  </thead>\n",
       "  <tbody>\n",
       "    <tr>\n",
       "      <th>Murder</th>\n",
       "      <td>1.000000</td>\n",
       "      <td>4.451142</td>\n",
       "      <td>9.645866</td>\n",
       "      <td>6.606218</td>\n",
       "    </tr>\n",
       "    <tr>\n",
       "      <th>Assault</th>\n",
       "      <td>4.451142</td>\n",
       "      <td>1.000000</td>\n",
       "      <td>8.608881</td>\n",
       "      <td>5.785834</td>\n",
       "    </tr>\n",
       "    <tr>\n",
       "      <th>UrbanPop</th>\n",
       "      <td>9.645866</td>\n",
       "      <td>8.608881</td>\n",
       "      <td>1.000000</td>\n",
       "      <td>7.672410</td>\n",
       "    </tr>\n",
       "    <tr>\n",
       "      <th>Rape</th>\n",
       "      <td>6.606218</td>\n",
       "      <td>5.785834</td>\n",
       "      <td>7.672410</td>\n",
       "      <td>1.000000</td>\n",
       "    </tr>\n",
       "  </tbody>\n",
       "</table>\n",
       "</div>"
      ],
      "text/plain": [
       "            Murder   Assault  UrbanPop      Rape\n",
       "Murder    1.000000  4.451142  9.645866  6.606218\n",
       "Assault   4.451142  1.000000  8.608881  5.785834\n",
       "UrbanPop  9.645866  8.608881  1.000000  7.672410\n",
       "Rape      6.606218  5.785834  7.672410  1.000000"
      ]
     },
     "execution_count": 287,
     "metadata": {},
     "output_type": "execute_result"
    }
   ],
   "source": [
    "pd.DataFrame( data = StandardScaler().fit_transform(df),\n",
    "                index = df.index,\n",
    "                columns= df.columns ).corr( method = euclidean )"
   ]
  },
  {
   "cell_type": "code",
   "execution_count": 294,
   "id": "4092bd00",
   "metadata": {},
   "outputs": [
    {
     "data": {
      "text/html": [
       "<div>\n",
       "<style scoped>\n",
       "    .dataframe tbody tr th:only-of-type {\n",
       "        vertical-align: middle;\n",
       "    }\n",
       "\n",
       "    .dataframe tbody tr th {\n",
       "        vertical-align: top;\n",
       "    }\n",
       "\n",
       "    .dataframe thead th {\n",
       "        text-align: right;\n",
       "    }\n",
       "</style>\n",
       "<table border=\"1\" class=\"dataframe\">\n",
       "  <thead>\n",
       "    <tr style=\"text-align: right;\">\n",
       "      <th></th>\n",
       "      <th>Murder</th>\n",
       "      <th>Assault</th>\n",
       "      <th>UrbanPop</th>\n",
       "      <th>Rape</th>\n",
       "    </tr>\n",
       "  </thead>\n",
       "  <tbody>\n",
       "    <tr>\n",
       "      <th>count</th>\n",
       "      <td>4.000000</td>\n",
       "      <td>4.000000</td>\n",
       "      <td>4.000000</td>\n",
       "      <td>4.000000</td>\n",
       "    </tr>\n",
       "    <tr>\n",
       "      <th>mean</th>\n",
       "      <td>0.051758</td>\n",
       "      <td>0.047115</td>\n",
       "      <td>0.064818</td>\n",
       "      <td>0.050161</td>\n",
       "    </tr>\n",
       "    <tr>\n",
       "      <th>std</th>\n",
       "      <td>0.040555</td>\n",
       "      <td>0.035875</td>\n",
       "      <td>0.043957</td>\n",
       "      <td>0.034321</td>\n",
       "    </tr>\n",
       "    <tr>\n",
       "      <th>min</th>\n",
       "      <td>0.000000</td>\n",
       "      <td>0.000000</td>\n",
       "      <td>0.000000</td>\n",
       "      <td>0.000000</td>\n",
       "    </tr>\n",
       "    <tr>\n",
       "      <th>25%</th>\n",
       "      <td>0.033384</td>\n",
       "      <td>0.033384</td>\n",
       "      <td>0.057543</td>\n",
       "      <td>0.043394</td>\n",
       "    </tr>\n",
       "    <tr>\n",
       "      <th>50%</th>\n",
       "      <td>0.055287</td>\n",
       "      <td>0.051185</td>\n",
       "      <td>0.081406</td>\n",
       "      <td>0.061960</td>\n",
       "    </tr>\n",
       "    <tr>\n",
       "      <th>75%</th>\n",
       "      <td>0.073661</td>\n",
       "      <td>0.064916</td>\n",
       "      <td>0.088681</td>\n",
       "      <td>0.068728</td>\n",
       "    </tr>\n",
       "    <tr>\n",
       "      <th>max</th>\n",
       "      <td>0.096459</td>\n",
       "      <td>0.086089</td>\n",
       "      <td>0.096459</td>\n",
       "      <td>0.076724</td>\n",
       "    </tr>\n",
       "  </tbody>\n",
       "</table>\n",
       "</div>"
      ],
      "text/plain": [
       "         Murder   Assault  UrbanPop      Rape\n",
       "count  4.000000  4.000000  4.000000  4.000000\n",
       "mean   0.051758  0.047115  0.064818  0.050161\n",
       "std    0.040555  0.035875  0.043957  0.034321\n",
       "min    0.000000  0.000000  0.000000  0.000000\n",
       "25%    0.033384  0.033384  0.057543  0.043394\n",
       "50%    0.055287  0.051185  0.081406  0.061960\n",
       "75%    0.073661  0.064916  0.088681  0.068728\n",
       "max    0.096459  0.086089  0.096459  0.076724"
      ]
     },
     "execution_count": 294,
     "metadata": {},
     "output_type": "execute_result"
    }
   ],
   "source": [
    "((1 - df.corr())/pd.DataFrame( data = StandardScaler().fit_transform(df),\n",
    "                index = df.index,\n",
    "                columns= df.columns ).corr( method = euclidean )).describe()"
   ]
  },
  {
   "cell_type": "code",
   "execution_count": 293,
   "id": "ad38ef0e",
   "metadata": {
    "scrolled": true
   },
   "outputs": [
    {
     "data": {
      "text/html": [
       "<div>\n",
       "<style scoped>\n",
       "    .dataframe tbody tr th:only-of-type {\n",
       "        vertical-align: middle;\n",
       "    }\n",
       "\n",
       "    .dataframe tbody tr th {\n",
       "        vertical-align: top;\n",
       "    }\n",
       "\n",
       "    .dataframe thead th {\n",
       "        text-align: right;\n",
       "    }\n",
       "</style>\n",
       "<table border=\"1\" class=\"dataframe\">\n",
       "  <thead>\n",
       "    <tr style=\"text-align: right;\">\n",
       "      <th></th>\n",
       "      <th>Murder</th>\n",
       "      <th>Assault</th>\n",
       "      <th>UrbanPop</th>\n",
       "      <th>Rape</th>\n",
       "    </tr>\n",
       "  </thead>\n",
       "  <tbody>\n",
       "    <tr>\n",
       "      <th>count</th>\n",
       "      <td>4.000000</td>\n",
       "      <td>4.000000</td>\n",
       "      <td>4.000000</td>\n",
       "      <td>4.000000</td>\n",
       "    </tr>\n",
       "    <tr>\n",
       "      <th>mean</th>\n",
       "      <td>0.001586</td>\n",
       "      <td>0.000307</td>\n",
       "      <td>0.001200</td>\n",
       "      <td>0.001515</td>\n",
       "    </tr>\n",
       "    <tr>\n",
       "      <th>std</th>\n",
       "      <td>0.001888</td>\n",
       "      <td>0.000344</td>\n",
       "      <td>0.000997</td>\n",
       "      <td>0.001824</td>\n",
       "    </tr>\n",
       "    <tr>\n",
       "      <th>min</th>\n",
       "      <td>0.000000</td>\n",
       "      <td>0.000000</td>\n",
       "      <td>0.000000</td>\n",
       "      <td>0.000000</td>\n",
       "    </tr>\n",
       "    <tr>\n",
       "      <th>25%</th>\n",
       "      <td>0.000116</td>\n",
       "      <td>0.000116</td>\n",
       "      <td>0.000595</td>\n",
       "      <td>0.000211</td>\n",
       "    </tr>\n",
       "    <tr>\n",
       "      <th>50%</th>\n",
       "      <td>0.001181</td>\n",
       "      <td>0.000218</td>\n",
       "      <td>0.001295</td>\n",
       "      <td>0.001040</td>\n",
       "    </tr>\n",
       "    <tr>\n",
       "      <th>75%</th>\n",
       "      <td>0.002652</td>\n",
       "      <td>0.000410</td>\n",
       "      <td>0.001900</td>\n",
       "      <td>0.002344</td>\n",
       "    </tr>\n",
       "    <tr>\n",
       "      <th>max</th>\n",
       "      <td>0.003982</td>\n",
       "      <td>0.000793</td>\n",
       "      <td>0.002208</td>\n",
       "      <td>0.003982</td>\n",
       "    </tr>\n",
       "  </tbody>\n",
       "</table>\n",
       "</div>"
      ],
      "text/plain": [
       "         Murder   Assault  UrbanPop      Rape\n",
       "count  4.000000  4.000000  4.000000  4.000000\n",
       "mean   0.001586  0.000307  0.001200  0.001515\n",
       "std    0.001888  0.000344  0.000997  0.001824\n",
       "min    0.000000  0.000000  0.000000  0.000000\n",
       "25%    0.000116  0.000116  0.000595  0.000211\n",
       "50%    0.001181  0.000218  0.001295  0.001040\n",
       "75%    0.002652  0.000410  0.001900  0.002344\n",
       "max    0.003982  0.000793  0.002208  0.003982"
      ]
     },
     "execution_count": 293,
     "metadata": {},
     "output_type": "execute_result"
    }
   ],
   "source": [
    "((1 - df.corr())/df.corr( method = euclidean )).describe()"
   ]
  },
  {
   "cell_type": "markdown",
   "id": "cdda960b",
   "metadata": {},
   "source": [
    "> 8"
   ]
  },
  {
   "cell_type": "code",
   "execution_count": 302,
   "id": "7cf25083",
   "metadata": {},
   "outputs": [],
   "source": [
    "scaler = StandardScaler().fit(df)\n",
    "std_df = pd.DataFrame( data = pca.transform(df),\n",
    "                         index = df.index,\n",
    "                         columns = df.columns )"
   ]
  },
  {
   "cell_type": "code",
   "execution_count": 303,
   "id": "e11ee117",
   "metadata": {},
   "outputs": [],
   "source": [
    "pca = PCA().fit(std_df)"
   ]
  },
  {
   "cell_type": "code",
   "execution_count": 307,
   "id": "f3153b92",
   "metadata": {},
   "outputs": [
    {
     "data": {
      "text/plain": [
       "array([0.62006039, 0.24744129, 0.0891408 , 0.04335752])"
      ]
     },
     "execution_count": 307,
     "metadata": {},
     "output_type": "execute_result"
    }
   ],
   "source": [
    "pca.transform(std_df).var(axis=0)/pca.transform(std_df).var(axis=0).sum()"
   ]
  },
  {
   "cell_type": "markdown",
   "id": "241e62ee",
   "metadata": {},
   "source": [
    "> 9"
   ]
  },
  {
   "cell_type": "code",
   "execution_count": 333,
   "id": "fd34a83d",
   "metadata": {},
   "outputs": [],
   "source": [
    "hcomp = linkage(df, method=\"complete\")"
   ]
  },
  {
   "cell_type": "code",
   "execution_count": 334,
   "id": "af3d169b",
   "metadata": {},
   "outputs": [
    {
     "data": {
      "image/png": "[encoded data removed]",
      "text/plain": [
       "<Figure size 432x288 with 1 Axes>"
      ]
     },
     "metadata": {
      "needs_background": "light"
     },
     "output_type": "display_data"
    }
   ],
   "source": [
    "dendrogram(hcomp , labels=df.index)\n",
    "plt.show()"
   ]
  },
  {
   "cell_type": "code",
   "execution_count": 335,
   "id": "079d8511",
   "metadata": {},
   "outputs": [
    {
     "data": {
      "text/plain": [
       "array([0, 0, 0, 1, 0, 1, 2, 0, 0, 1, 2, 2, 0, 2, 2, 2, 2, 0, 2, 0, 1, 0,\n",
       "       2, 0, 1, 2, 2, 0, 2, 1, 0, 0, 0, 2, 2, 1, 1, 2, 1, 0, 2, 1, 1, 2,\n",
       "       2, 1, 1, 2, 2, 1])"
      ]
     },
     "execution_count": 335,
     "metadata": {},
     "output_type": "execute_result"
    }
   ],
   "source": [
    "cut_tree(hcomp, 3).flatten()"
   ]
  },
  {
   "cell_type": "code",
   "execution_count": 336,
   "id": "3f03c931",
   "metadata": {},
   "outputs": [],
   "source": [
    "clusters = pd.Series(index = df.index, data = cut_tree(hcomp, 3).flatten() )"
   ]
  },
  {
   "cell_type": "code",
   "execution_count": 337,
   "id": "7cc89003",
   "metadata": {},
   "outputs": [
    {
     "data": {
      "text/plain": [
       "Alabama           0\n",
       "Alaska            0\n",
       "Arizona           0\n",
       "California        0\n",
       "Delaware          0\n",
       "Florida           0\n",
       "Illinois          0\n",
       "Louisiana         0\n",
       "Maryland          0\n",
       "Michigan          0\n",
       "Mississippi       0\n",
       "Nevada            0\n",
       "New Mexico        0\n",
       "New York          0\n",
       "North Carolina    0\n",
       "South Carolina    0\n",
       "dtype: int32"
      ]
     },
     "execution_count": 337,
     "metadata": {},
     "output_type": "execute_result"
    }
   ],
   "source": [
    "clusters[clusters==0]"
   ]
  },
  {
   "cell_type": "code",
   "execution_count": 338,
   "id": "03401014",
   "metadata": {},
   "outputs": [
    {
     "data": {
      "text/plain": [
       "Arkansas         1\n",
       "Colorado         1\n",
       "Georgia          1\n",
       "Massachusetts    1\n",
       "Missouri         1\n",
       "New Jersey       1\n",
       "Oklahoma         1\n",
       "Oregon           1\n",
       "Rhode Island     1\n",
       "Tennessee        1\n",
       "Texas            1\n",
       "Virginia         1\n",
       "Washington       1\n",
       "Wyoming          1\n",
       "dtype: int32"
      ]
     },
     "execution_count": 338,
     "metadata": {},
     "output_type": "execute_result"
    }
   ],
   "source": [
    "clusters[clusters==1]"
   ]
  },
  {
   "cell_type": "code",
   "execution_count": 339,
   "id": "31a5ef5b",
   "metadata": {},
   "outputs": [
    {
     "data": {
      "text/plain": [
       "Connecticut      2\n",
       "Hawaii           2\n",
       "Idaho            2\n",
       "Indiana          2\n",
       "Iowa             2\n",
       "Kansas           2\n",
       "Kentucky         2\n",
       "Maine            2\n",
       "Minnesota        2\n",
       "Montana          2\n",
       "Nebraska         2\n",
       "New Hampshire    2\n",
       "North Dakota     2\n",
       "Ohio             2\n",
       "Pennsylvania     2\n",
       "South Dakota     2\n",
       "Utah             2\n",
       "Vermont          2\n",
       "West Virginia    2\n",
       "Wisconsin        2\n",
       "dtype: int32"
      ]
     },
     "execution_count": 339,
     "metadata": {},
     "output_type": "execute_result"
    }
   ],
   "source": [
    "clusters[clusters==2]"
   ]
  },
  {
   "cell_type": "code",
   "execution_count": 340,
   "id": "f066cd8c",
   "metadata": {},
   "outputs": [
    {
     "data": {
      "text/plain": [
       "2    20\n",
       "0    16\n",
       "1    14\n",
       "dtype: int64"
      ]
     },
     "execution_count": 340,
     "metadata": {},
     "output_type": "execute_result"
    }
   ],
   "source": [
    "clusters.value_counts()"
   ]
  },
  {
   "cell_type": "code",
   "execution_count": 341,
   "id": "3c496d2c",
   "metadata": {},
   "outputs": [
    {
     "data": {
      "image/png": "[encoded data removed]",
      "text/plain": [
       "<Figure size 432x288 with 1 Axes>"
      ]
     },
     "metadata": {
      "needs_background": "light"
     },
     "output_type": "display_data"
    }
   ],
   "source": [
    "hcomp = linkage(std_df, method=\"complete\")\n",
    "dendrogram(hcomp , labels=df.index)\n",
    "plt.show()"
   ]
  },
  {
   "cell_type": "code",
   "execution_count": 342,
   "id": "5ce62a62",
   "metadata": {},
   "outputs": [
    {
     "data": {
      "text/plain": [
       "array([0, 0, 1, 2, 1, 1, 2, 2, 1, 0, 2, 2, 1, 2, 2, 2, 2, 0, 2, 1, 2, 1,\n",
       "       2, 0, 2, 2, 2, 1, 2, 2, 1, 1, 0, 2, 2, 2, 2, 2, 2, 0, 2, 0, 1, 2,\n",
       "       2, 2, 2, 2, 2, 2])"
      ]
     },
     "execution_count": 342,
     "metadata": {},
     "output_type": "execute_result"
    }
   ],
   "source": [
    "cut_tree(hcomp, 3).flatten()"
   ]
  },
  {
   "cell_type": "code",
   "execution_count": 343,
   "id": "d31aa07d",
   "metadata": {},
   "outputs": [],
   "source": [
    "clusters = pd.Series(index = df.index, data = cut_tree(hcomp, 3).flatten() )"
   ]
  },
  {
   "cell_type": "code",
   "execution_count": 344,
   "id": "5a129d7b",
   "metadata": {},
   "outputs": [
    {
     "data": {
      "text/plain": [
       "Alabama           0\n",
       "Alaska            0\n",
       "Georgia           0\n",
       "Louisiana         0\n",
       "Mississippi       0\n",
       "North Carolina    0\n",
       "South Carolina    0\n",
       "Tennessee         0\n",
       "dtype: int32"
      ]
     },
     "execution_count": 344,
     "metadata": {},
     "output_type": "execute_result"
    }
   ],
   "source": [
    "clusters[clusters==0]"
   ]
  },
  {
   "cell_type": "code",
   "execution_count": 345,
   "id": "43524a90",
   "metadata": {},
   "outputs": [
    {
     "data": {
      "text/plain": [
       "Arizona       1\n",
       "California    1\n",
       "Colorado      1\n",
       "Florida       1\n",
       "Illinois      1\n",
       "Maryland      1\n",
       "Michigan      1\n",
       "Nevada        1\n",
       "New Mexico    1\n",
       "New York      1\n",
       "Texas         1\n",
       "dtype: int32"
      ]
     },
     "execution_count": 345,
     "metadata": {},
     "output_type": "execute_result"
    }
   ],
   "source": [
    "clusters[clusters==1]"
   ]
  },
  {
   "cell_type": "code",
   "execution_count": 346,
   "id": "7d4da7fa",
   "metadata": {},
   "outputs": [
    {
     "data": {
      "text/plain": [
       "Arkansas         2\n",
       "Connecticut      2\n",
       "Delaware         2\n",
       "Hawaii           2\n",
       "Idaho            2\n",
       "Indiana          2\n",
       "Iowa             2\n",
       "Kansas           2\n",
       "Kentucky         2\n",
       "Maine            2\n",
       "Massachusetts    2\n",
       "Minnesota        2\n",
       "Missouri         2\n",
       "Montana          2\n",
       "Nebraska         2\n",
       "New Hampshire    2\n",
       "New Jersey       2\n",
       "North Dakota     2\n",
       "Ohio             2\n",
       "Oklahoma         2\n",
       "Oregon           2\n",
       "Pennsylvania     2\n",
       "Rhode Island     2\n",
       "South Dakota     2\n",
       "Utah             2\n",
       "Vermont          2\n",
       "Virginia         2\n",
       "Washington       2\n",
       "West Virginia    2\n",
       "Wisconsin        2\n",
       "Wyoming          2\n",
       "dtype: int32"
      ]
     },
     "execution_count": 346,
     "metadata": {},
     "output_type": "execute_result"
    }
   ],
   "source": [
    "clusters[clusters==2]"
   ]
  },
  {
   "cell_type": "code",
   "execution_count": 347,
   "id": "8cbd029d",
   "metadata": {},
   "outputs": [
    {
     "data": {
      "text/plain": [
       "2    31\n",
       "1    11\n",
       "0     8\n",
       "dtype: int64"
      ]
     },
     "execution_count": 347,
     "metadata": {},
     "output_type": "execute_result"
    }
   ],
   "source": [
    "clusters.value_counts()"
   ]
  },
  {
   "cell_type": "markdown",
   "id": "a5e8465c",
   "metadata": {},
   "source": [
    "> 10"
   ]
  },
  {
   "cell_type": "code",
   "execution_count": 360,
   "id": "650b6f73",
   "metadata": {},
   "outputs": [
    {
     "data": {
      "text/plain": [
       "<matplotlib.collections.PathCollection at 0x1c5d0b8d3a0>"
      ]
     },
     "execution_count": 360,
     "metadata": {},
     "output_type": "execute_result"
    },
    {
     "data": {
      "image/png": "[encoded data removed]",
      "text/plain": [
       "<Figure size 864x288 with 2 Axes>"
      ]
     },
     "metadata": {
      "needs_background": "light"
     },
     "output_type": "display_data"
    },
    {
     "data": {
      "image/png": "[encoded data removed]",
      "text/plain": [
       "<Figure size 432x288 with 1 Axes>"
      ]
     },
     "metadata": {
      "needs_background": "light"
     },
     "output_type": "display_data"
    }
   ],
   "source": [
    "x, y = make_classification(n_samples=60,\n",
    "                   n_classes=3,\n",
    "                   n_clusters_per_class=1, \n",
    "                    n_features=50, \n",
    "                    n_redundant=0,\n",
    "                    class_sep=3)\n",
    "pca = PCA().fit(x)\n",
    "\n",
    "f,ax = plt.subplots(1,2,figsize=(12,4))\n",
    "ax[0].plot(pca.explained_variance_ratio_, \"--*\")\n",
    "ax[1].plot(np.cumsum(pca.explained_variance_ratio_), \"--*\")\n",
    "\n",
    "components = pca.transform(x)\n",
    "plt.figure()\n",
    "plt.scatter(components[:,0], components[:,1], c=y)"
   ]
  },
  {
   "cell_type": "code",
   "execution_count": 365,
   "id": "a104a6e8",
   "metadata": {},
   "outputs": [
    {
     "data": {
      "text/plain": [
       "<matplotlib.collections.PathCollection at 0x1c5d0c18730>"
      ]
     },
     "execution_count": 365,
     "metadata": {},
     "output_type": "execute_result"
    },
    {
     "data": {
      "image/png": "[encoded data removed]",
      "text/plain": [
       "<Figure size 432x288 with 1 Axes>"
      ]
     },
     "metadata": {
      "needs_background": "light"
     },
     "output_type": "display_data"
    }
   ],
   "source": [
    "centroids, classification , _ = k_means(x, 3)\n",
    "plt.scatter(components[:,0], components[:,1], c=classification)"
   ]
  },
  {
   "cell_type": "code",
   "execution_count": 367,
   "id": "ec696e7c",
   "metadata": {},
   "outputs": [
    {
     "data": {
      "text/plain": [
       "<matplotlib.collections.PathCollection at 0x1c5d0c76640>"
      ]
     },
     "execution_count": 367,
     "metadata": {},
     "output_type": "execute_result"
    },
    {
     "data": {
      "image/png": "[encoded data removed]",
      "text/plain": [
       "<Figure size 432x288 with 1 Axes>"
      ]
     },
     "metadata": {
      "needs_background": "light"
     },
     "output_type": "display_data"
    }
   ],
   "source": [
    "centroids, classification , _ = k_means(x, 2)\n",
    "plt.scatter(components[:,0], components[:,1], c=classification)"
   ]
  },
  {
   "cell_type": "code",
   "execution_count": 368,
   "id": "be095d05",
   "metadata": {},
   "outputs": [
    {
     "data": {
      "text/plain": [
       "<matplotlib.collections.PathCollection at 0x1c5d0dc98e0>"
      ]
     },
     "execution_count": 368,
     "metadata": {},
     "output_type": "execute_result"
    },
    {
     "data": {
      "image/png": "[encoded data removed]",
      "text/plain": [
       "<Figure size 432x288 with 1 Axes>"
      ]
     },
     "metadata": {
      "needs_background": "light"
     },
     "output_type": "display_data"
    }
   ],
   "source": [
    "centroids, classification , _ = k_means(x, 4)\n",
    "plt.scatter(components[:,0], components[:,1], c=classification)"
   ]
  },
  {
   "cell_type": "code",
   "execution_count": 369,
   "id": "04399b0b",
   "metadata": {},
   "outputs": [
    {
     "data": {
      "text/plain": [
       "<matplotlib.collections.PathCollection at 0x1c5d31595e0>"
      ]
     },
     "execution_count": 369,
     "metadata": {},
     "output_type": "execute_result"
    },
    {
     "data": {
      "image/png": "[encoded data removed]",
      "text/plain": [
       "<Figure size 432x288 with 1 Axes>"
      ]
     },
     "metadata": {
      "needs_background": "light"
     },
     "output_type": "display_data"
    }
   ],
   "source": [
    "centroids, classification , _ = k_means( pca.transform(x)[:, :2] , 3)\n",
    "plt.scatter(components[:,0], components[:,1], c=classification)"
   ]
  },
  {
   "cell_type": "code",
   "execution_count": 370,
   "id": "4a89eeff",
   "metadata": {},
   "outputs": [],
   "source": [
    "scaler = StandardScaler().fit(x)\n",
    "std_x = scaler.transform(x)"
   ]
  },
  {
   "cell_type": "code",
   "execution_count": 371,
   "id": "14dfb423",
   "metadata": {},
   "outputs": [
    {
     "data": {
      "text/plain": [
       "<matplotlib.collections.PathCollection at 0x1c5d0c3e220>"
      ]
     },
     "execution_count": 371,
     "metadata": {},
     "output_type": "execute_result"
    },
    {
     "data": {
      "image/png": "[encoded data removed]",
      "text/plain": [
       "<Figure size 432x288 with 1 Axes>"
      ]
     },
     "metadata": {
      "needs_background": "light"
     },
     "output_type": "display_data"
    }
   ],
   "source": [
    "centroids, classification , _ = k_means( std_x , 3)\n",
    "plt.scatter(components[:,0], components[:,1], c=classification)"
   ]
  },
  {
   "cell_type": "markdown",
   "id": "4ff077f6",
   "metadata": {},
   "source": [
    "> 11"
   ]
  },
  {
   "cell_type": "code",
   "execution_count": 2,
   "id": "5ac6aafe",
   "metadata": {},
   "outputs": [],
   "source": [
    "df = pd.read_csv(\"ALL CSV FILES/Ch10Ex11.csv\", header=None)"
   ]
  },
  {
   "cell_type": "code",
   "execution_count": 384,
   "id": "d66be816",
   "metadata": {},
   "outputs": [],
   "source": [
    "data = euclidean_distances( (1 - df.corr()) )"
   ]
  },
  {
   "cell_type": "code",
   "execution_count": 4,
   "id": "617a95bb",
   "metadata": {},
   "outputs": [
    {
     "data": {
      "image/png": "[encoded data removed]",
      "text/plain": [
       "<Figure size 432x288 with 1 Axes>"
      ]
     },
     "metadata": {
      "needs_background": "light"
     },
     "output_type": "display_data"
    }
   ],
   "source": [
    "tree = linkage(df.T, method=\"complete\", metric=\"correlation\")\n",
    "dendrogram(tree)\n",
    "plt.show()"
   ]
  },
  {
   "cell_type": "code",
   "execution_count": 5,
   "id": "2b263081",
   "metadata": {},
   "outputs": [
    {
     "data": {
      "image/png": "[encoded data removed]",
      "text/plain": [
       "<Figure size 432x288 with 1 Axes>"
      ]
     },
     "metadata": {
      "needs_background": "light"
     },
     "output_type": "display_data"
    }
   ],
   "source": [
    "tree = linkage(df.T, method=\"single\", metric=\"correlation\")\n",
    "dendrogram(tree)\n",
    "plt.show()"
   ]
  },
  {
   "cell_type": "code",
   "execution_count": 6,
   "id": "1243799e",
   "metadata": {},
   "outputs": [
    {
     "data": {
      "image/png": "[encoded data removed]",
      "text/plain": [
       "<Figure size 432x288 with 1 Axes>"
      ]
     },
     "metadata": {
      "needs_background": "light"
     },
     "output_type": "display_data"
    }
   ],
   "source": [
    "tree = linkage(df.T, method=\"average\", metric=\"correlation\")\n",
    "dendrogram(tree)\n",
    "plt.show()"
   ]
  },
  {
   "cell_type": "code",
   "execution_count": 24,
   "id": "b0b53517",
   "metadata": {},
   "outputs": [],
   "source": [
    "df.index = df.index.map(str)"
   ]
  },
  {
   "cell_type": "code",
   "execution_count": 25,
   "id": "cae10433",
   "metadata": {},
   "outputs": [],
   "source": [
    "pca = PCA().fit(df.T)"
   ]
  },
  {
   "cell_type": "code",
   "execution_count": 26,
   "id": "d9c75751",
   "metadata": {},
   "outputs": [
    {
     "data": {
      "text/plain": [
       "array([1.26676539e-01, 3.27143790e-02, 3.12916966e-02, 3.02086215e-02,\n",
       "       2.93949769e-02, 2.88682047e-02, 2.82052030e-02, 2.76352610e-02,\n",
       "       2.73601816e-02, 2.69360470e-02, 2.67628417e-02, 2.64878670e-02,\n",
       "       2.59285836e-02, 2.52810046e-02, 2.47450163e-02, 2.41705580e-02,\n",
       "       2.40230612e-02, 2.35761218e-02, 2.32532180e-02, 2.27101544e-02,\n",
       "       2.25528000e-02, 2.23769634e-02, 2.18537022e-02, 2.14526355e-02,\n",
       "       2.10185663e-02, 2.06228152e-02, 2.05385751e-02, 1.99174549e-02,\n",
       "       1.96335770e-02, 1.92566213e-02, 1.89318256e-02, 1.85330460e-02,\n",
       "       1.82338949e-02, 1.79529076e-02, 1.69275359e-02, 1.68776274e-02,\n",
       "       1.61758317e-02, 1.56925327e-02, 1.52215506e-02, 2.47013037e-32])"
      ]
     },
     "execution_count": 26,
     "metadata": {},
     "output_type": "execute_result"
    }
   ],
   "source": [
    "pca.explained_variance_ratio_"
   ]
  },
  {
   "cell_type": "code",
   "execution_count": 39,
   "id": "35dff956",
   "metadata": {},
   "outputs": [
    {
     "data": {
      "text/plain": [
       "0      0.000278\n",
       "1      0.094190\n",
       "2     -0.152352\n",
       "3      0.298541\n",
       "4     -0.273871\n",
       "         ...   \n",
       "995   -0.178136\n",
       "996   -0.114036\n",
       "997    0.389850\n",
       "998    0.052293\n",
       "999    0.243083\n",
       "Length: 1000, dtype: float64"
      ]
     },
     "execution_count": 39,
     "metadata": {},
     "output_type": "execute_result"
    }
   ],
   "source": [
    "pd.DataFrame( pca.components_,\n",
    "             columns=df.index,\n",
    "             )"
   ]
  },
  {
   "cell_type": "code",
   "execution_count": null,
   "id": "e072ac46",
   "metadata": {},
   "outputs": [],
   "source": []
  }
 ],
 "metadata": {
  "kernelspec": {
   "display_name": "Python 3 (ipykernel)",
   "language": "python",
   "name": "python3"
  },
  "language_info": {
   "codemirror_mode": {
    "name": "ipython",
    "version": 3
   },
   "file_extension": ".py",
   "mimetype": "text/x-python",
   "name": "python",
   "nbconvert_exporter": "python",
   "pygments_lexer": "ipython3",
   "version": "3.9.7"
  }
 },
 "nbformat": 4,
 "nbformat_minor": 5
}
