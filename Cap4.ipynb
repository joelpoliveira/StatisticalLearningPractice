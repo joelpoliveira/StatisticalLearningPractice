{
 "cells": [
  {
   "cell_type": "code",
   "execution_count": 3,
   "id": "assumed-strategy",
   "metadata": {},
   "outputs": [],
   "source": [
    "import pandas as pd\n",
    "import numpy as np\n",
    "import matplotlib.pyplot as plt\n",
    "import seaborn as sns\n",
    "import statsmodels as sm\n",
    "import sklearn as sk\n",
    "import scipy as sp\n",
    "\n",
    "from statsmodels.datasets import get_rdataset\n",
    "from statsmodels.regression import linear_model as lm\n",
    "from statsmodels.discrete import discrete_model as dm\n",
    "from statsmodels.tools import add_constant\n",
    "from sklearn.preprocessing import PolynomialFeatures"
   ]
  },
  {
   "cell_type": "code",
   "execution_count": 4,
   "id": "ranking-category",
   "metadata": {},
   "outputs": [],
   "source": [
    "df = get_rdataset('Auto', 'ISLR', True).data"
   ]
  },
  {
   "cell_type": "code",
   "execution_count": 5,
   "id": "great-baker",
   "metadata": {},
   "outputs": [],
   "source": [
    "train = df.sample(n = 196, random_state=2)\n",
    "test = df[~df.index.isin(train.index)]"
   ]
  },
  {
   "cell_type": "code",
   "execution_count": 6,
   "id": "entertaining-external",
   "metadata": {},
   "outputs": [],
   "source": [
    "train_index = df.index.isin(train.index)\n",
    "test_index = ~df.index.isin(train.index)"
   ]
  },
  {
   "cell_type": "code",
   "execution_count": 7,
   "id": "disturbed-screw",
   "metadata": {},
   "outputs": [
    {
     "data": {
      "text/html": [
       "<div>\n",
       "<style scoped>\n",
       "    .dataframe tbody tr th:only-of-type {\n",
       "        vertical-align: middle;\n",
       "    }\n",
       "\n",
       "    .dataframe tbody tr th {\n",
       "        vertical-align: top;\n",
       "    }\n",
       "\n",
       "    .dataframe thead th {\n",
       "        text-align: right;\n",
       "    }\n",
       "</style>\n",
       "<table border=\"1\" class=\"dataframe\">\n",
       "  <thead>\n",
       "    <tr style=\"text-align: right;\">\n",
       "      <th></th>\n",
       "      <th>mpg</th>\n",
       "      <th>cylinders</th>\n",
       "      <th>displacement</th>\n",
       "      <th>horsepower</th>\n",
       "      <th>weight</th>\n",
       "      <th>acceleration</th>\n",
       "      <th>year</th>\n",
       "      <th>origin</th>\n",
       "      <th>name</th>\n",
       "    </tr>\n",
       "  </thead>\n",
       "  <tbody>\n",
       "    <tr>\n",
       "      <th>57</th>\n",
       "      <td>26.0</td>\n",
       "      <td>4</td>\n",
       "      <td>91.0</td>\n",
       "      <td>70</td>\n",
       "      <td>1955</td>\n",
       "      <td>20.5</td>\n",
       "      <td>71</td>\n",
       "      <td>1</td>\n",
       "      <td>plymouth cricket</td>\n",
       "    </tr>\n",
       "    <tr>\n",
       "      <th>72</th>\n",
       "      <td>19.0</td>\n",
       "      <td>3</td>\n",
       "      <td>70.0</td>\n",
       "      <td>97</td>\n",
       "      <td>2330</td>\n",
       "      <td>13.5</td>\n",
       "      <td>72</td>\n",
       "      <td>3</td>\n",
       "      <td>mazda rx2 coupe</td>\n",
       "    </tr>\n",
       "    <tr>\n",
       "      <th>316</th>\n",
       "      <td>24.3</td>\n",
       "      <td>4</td>\n",
       "      <td>151.0</td>\n",
       "      <td>90</td>\n",
       "      <td>3003</td>\n",
       "      <td>20.1</td>\n",
       "      <td>80</td>\n",
       "      <td>1</td>\n",
       "      <td>amc concord</td>\n",
       "    </tr>\n",
       "    <tr>\n",
       "      <th>182</th>\n",
       "      <td>33.0</td>\n",
       "      <td>4</td>\n",
       "      <td>91.0</td>\n",
       "      <td>53</td>\n",
       "      <td>1795</td>\n",
       "      <td>17.5</td>\n",
       "      <td>75</td>\n",
       "      <td>3</td>\n",
       "      <td>honda civic cvcc</td>\n",
       "    </tr>\n",
       "    <tr>\n",
       "      <th>310</th>\n",
       "      <td>41.5</td>\n",
       "      <td>4</td>\n",
       "      <td>98.0</td>\n",
       "      <td>76</td>\n",
       "      <td>2144</td>\n",
       "      <td>14.7</td>\n",
       "      <td>80</td>\n",
       "      <td>2</td>\n",
       "      <td>vw rabbit</td>\n",
       "    </tr>\n",
       "  </tbody>\n",
       "</table>\n",
       "</div>"
      ],
      "text/plain": [
       "      mpg  cylinders  displacement  horsepower  weight  acceleration  year  \\\n",
       "57   26.0          4          91.0          70    1955          20.5    71   \n",
       "72   19.0          3          70.0          97    2330          13.5    72   \n",
       "316  24.3          4         151.0          90    3003          20.1    80   \n",
       "182  33.0          4          91.0          53    1795          17.5    75   \n",
       "310  41.5          4          98.0          76    2144          14.7    80   \n",
       "\n",
       "     origin              name  \n",
       "57        1  plymouth cricket  \n",
       "72        3   mazda rx2 coupe  \n",
       "316       1       amc concord  \n",
       "182       3  honda civic cvcc  \n",
       "310       2         vw rabbit  "
      ]
     },
     "execution_count": 7,
     "metadata": {},
     "output_type": "execute_result"
    }
   ],
   "source": [
    "train.head()"
   ]
  },
  {
   "cell_type": "code",
   "execution_count": 8,
   "id": "laden-reporter",
   "metadata": {},
   "outputs": [],
   "source": [
    "def poly(data, n):\n",
    "    pol = PolynomialFeatures(degree=n)\n",
    "    X = pol.fit_transform( np.array(data).reshape(len(data), 1))\n",
    "    return X"
   ]
  },
  {
   "cell_type": "code",
   "execution_count": 9,
   "id": "current-recall",
   "metadata": {},
   "outputs": [
    {
     "data": {
      "text/plain": [
       "25.10853905288965"
      ]
     },
     "execution_count": 9,
     "metadata": {},
     "output_type": "execute_result"
    }
   ],
   "source": [
    "X = add_constant(train.horsepower)\n",
    "model = lm.OLS(train.mpg, X).fit()\n",
    "pred = model.predict( add_constant(df.horsepower) )\n",
    "np.mean( (df.mpg - pred)[test_index]**2 )"
   ]
  },
  {
   "cell_type": "code",
   "execution_count": 10,
   "id": "continuing-device",
   "metadata": {},
   "outputs": [
    {
     "data": {
      "text/plain": [
       "19.72253347049229"
      ]
     },
     "execution_count": 10,
     "metadata": {},
     "output_type": "execute_result"
    }
   ],
   "source": [
    "pol2 = PolynomialFeatures(degree= 2)\n",
    "X = pol2.fit_transform( np.array(train.horsepower).reshape(len(train), 1))\n",
    "model = lm.OLS(train.mpg, X).fit()\n",
    "\n",
    "X = pol2.fit_transform(np.array(df.horsepower).reshape(len(df), 1))\n",
    "pred = model.predict( X )\n",
    "np.mean( (df.mpg - pred)[test_index]**2 )"
   ]
  },
  {
   "cell_type": "code",
   "execution_count": 11,
   "id": "tribal-princess",
   "metadata": {},
   "outputs": [
    {
     "data": {
      "text/plain": [
       "19.92136786002233"
      ]
     },
     "execution_count": 11,
     "metadata": {},
     "output_type": "execute_result"
    }
   ],
   "source": [
    "pol3 = PolynomialFeatures(degree= 3)\n",
    "X = pol3.fit_transform( np.array(train.horsepower).reshape(len(train), 1))\n",
    "model = lm.OLS(train.mpg, X).fit()\n",
    "\n",
    "X = pol3.fit_transform(np.array(df.horsepower).reshape(len(df), 1))\n",
    "pred = model.predict( X )\n",
    "np.mean( (df.mpg - pred)[test_index]**2 )"
   ]
  },
  {
   "cell_type": "markdown",
   "id": "heated-activation",
   "metadata": {},
   "source": [
    "## Leave one out"
   ]
  },
  {
   "cell_type": "code",
   "execution_count": 12,
   "id": "obvious-oxide",
   "metadata": {},
   "outputs": [
    {
     "data": {
      "text/plain": [
       "const         39.935861\n",
       "horsepower    -0.157845\n",
       "dtype: float64"
      ]
     },
     "execution_count": 12,
     "metadata": {},
     "output_type": "execute_result"
    }
   ],
   "source": [
    "X = add_constant(df.horsepower)\n",
    "model = lm.GLS(df.mpg, X).fit()\n",
    "model.params"
   ]
  },
  {
   "cell_type": "code",
   "execution_count": 13,
   "id": "ordered-glasgow",
   "metadata": {},
   "outputs": [
    {
     "data": {
      "text/plain": [
       "const         39.935861\n",
       "horsepower    -0.157845\n",
       "dtype: float64"
      ]
     },
     "execution_count": 13,
     "metadata": {},
     "output_type": "execute_result"
    }
   ],
   "source": [
    "X = add_constant(df.horsepower)\n",
    "model = lm.OLS(df.mpg, X).fit()\n",
    "model.params"
   ]
  },
  {
   "cell_type": "code",
   "execution_count": 14,
   "id": "atlantic-planner",
   "metadata": {},
   "outputs": [],
   "source": [
    "from sklearn.model_selection import cross_val_score, cross_validate, LeaveOneOut\n",
    "from sklearn.linear_model import LinearRegression"
   ]
  },
  {
   "cell_type": "code",
   "execution_count": 15,
   "id": "distinct-knock",
   "metadata": {},
   "outputs": [],
   "source": [
    "def root_mean_sqr_error(model, X, y):\n",
    "    ols = model.fit(X, y)\n",
    "    pred = ols.predict(X)\n",
    "    err = np.sqrt(((pred-y)**2).mean())\n",
    "    return err"
   ]
  },
  {
   "cell_type": "code",
   "execution_count": 16,
   "id": "protected-clinic",
   "metadata": {},
   "outputs": [],
   "source": [
    "X = np.array(df.horsepower).reshape(len(df), 1)\n",
    "model = LinearRegression()\n",
    "cv = LeaveOneOut()\n",
    "score = cross_val_score(model, X, df.mpg, cv = cv, scoring='neg_mean_squared_error')"
   ]
  },
  {
   "cell_type": "code",
   "execution_count": 17,
   "id": "alternate-jacksonville",
   "metadata": {},
   "outputs": [
    {
     "data": {
      "text/plain": [
       "24.231513517929226"
      ]
     },
     "execution_count": 17,
     "metadata": {},
     "output_type": "execute_result"
    }
   ],
   "source": [
    "np.abs(score).mean()"
   ]
  },
  {
   "cell_type": "code",
   "execution_count": 18,
   "id": "conditional-nursery",
   "metadata": {},
   "outputs": [
    {
     "data": {
      "text/plain": [
       "array([24.23151352, 19.24821312, 19.33498406, 19.42443031, 19.03320481])"
      ]
     },
     "execution_count": 18,
     "metadata": {},
     "output_type": "execute_result"
    }
   ],
   "source": [
    "err = np.zeros(5)\n",
    "for i in range(1,6):\n",
    "    X = poly(df.horsepower, i)\n",
    "    model = LinearRegression()\n",
    "    cv = LeaveOneOut()\n",
    "    scores = cross_val_score(model, X, df.mpg, cv = cv, scoring='neg_mean_squared_error')\n",
    "    score = np.abs(scores).mean()\n",
    "    err[i-1] = score\n",
    "err"
   ]
  },
  {
   "cell_type": "code",
   "execution_count": 19,
   "id": "particular-doctor",
   "metadata": {},
   "outputs": [
    {
     "data": {
      "text/plain": [
       "[<matplotlib.lines.Line2D at 0x258d5e4cb80>]"
      ]
     },
     "execution_count": 19,
     "metadata": {},
     "output_type": "execute_result"
    },
    {
     "data": {
      "image/png": "[encoded data removed]",
      "text/plain": [
       "<Figure size 432x288 with 1 Axes>"
      ]
     },
     "metadata": {
      "needs_background": "light"
     },
     "output_type": "display_data"
    }
   ],
   "source": [
    "plt.plot(range(1,6), err, '--*')"
   ]
  },
  {
   "cell_type": "markdown",
   "id": "suspended-amber",
   "metadata": {},
   "source": [
    "## K-FOLD CROSS VALIDATION"
   ]
  },
  {
   "cell_type": "code",
   "execution_count": 20,
   "id": "saving-beijing",
   "metadata": {},
   "outputs": [],
   "source": [
    "from sklearn.model_selection import KFold"
   ]
  },
  {
   "cell_type": "code",
   "execution_count": 21,
   "id": "indoor-fantasy",
   "metadata": {},
   "outputs": [
    {
     "data": {
      "text/plain": [
       "array([24.1823359 , 19.13758471, 19.15524723, 19.25016277, 18.89709139,\n",
       "       18.80846816, 18.94858328, 19.04507851, 18.97440063, 18.80720005])"
      ]
     },
     "execution_count": 21,
     "metadata": {},
     "output_type": "execute_result"
    }
   ],
   "source": [
    "err = np.zeros(10)\n",
    "for i in range(1,11):\n",
    "    X = poly(df.horsepower, i)\n",
    "    model = LinearRegression()\n",
    "    cv = KFold(n_splits=10, shuffle=True, random_state=17)\n",
    "    scores = cross_val_score(model, X, df.mpg, cv = cv, scoring='neg_mean_squared_error')\n",
    "    score = np.abs(scores).mean()\n",
    "    err[i-1] = score\n",
    "err"
   ]
  },
  {
   "cell_type": "code",
   "execution_count": 22,
   "id": "quarterly-monte",
   "metadata": {},
   "outputs": [
    {
     "data": {
      "text/plain": [
       "[<matplotlib.lines.Line2D at 0x258d7f943d0>]"
      ]
     },
     "execution_count": 22,
     "metadata": {},
     "output_type": "execute_result"
    },
    {
     "data": {
      "image/png": "[encoded data removed]",
      "text/plain": [
       "<Figure size 432x288 with 1 Axes>"
      ]
     },
     "metadata": {
      "needs_background": "light"
     },
     "output_type": "display_data"
    }
   ],
   "source": [
    "plt.plot(range(1,11), err, '--*')"
   ]
  },
  {
   "cell_type": "markdown",
   "id": "expanded-baker",
   "metadata": {},
   "source": [
    "## BOOTSTRAP"
   ]
  },
  {
   "cell_type": "code",
   "execution_count": 23,
   "id": "upset-tobago",
   "metadata": {},
   "outputs": [],
   "source": [
    "from sklearn.utils import resample"
   ]
  },
  {
   "cell_type": "code",
   "execution_count": 24,
   "id": "expensive-maria",
   "metadata": {},
   "outputs": [],
   "source": [
    "def alpha(X, y, index = None):\n",
    "    if index is not None:\n",
    "        X = X[index]\n",
    "        y = y[index]\n",
    "    return (np.var(y) - np.cov(X, y)[0,1]) / (np.var(X) + np.var(y) - 2*np.cov(X, y)[0,1])"
   ]
  },
  {
   "cell_type": "code",
   "execution_count": 25,
   "id": "automatic-bosnia",
   "metadata": {},
   "outputs": [],
   "source": [
    "df = get_rdataset('Portfolio', 'ISLR', cache=True).data"
   ]
  },
  {
   "cell_type": "code",
   "execution_count": 26,
   "id": "unsigned-cover",
   "metadata": {},
   "outputs": [
    {
     "data": {
      "text/plain": [
       "0.5766511516104116"
      ]
     },
     "execution_count": 26,
     "metadata": {},
     "output_type": "execute_result"
    }
   ],
   "source": [
    "alpha(df.X, df.Y, range(100))"
   ]
  },
  {
   "cell_type": "code",
   "execution_count": 27,
   "id": "normal-adventure",
   "metadata": {},
   "outputs": [],
   "source": [
    "train_idx = df.sample(n = 100, replace=True, random_state=17).index"
   ]
  },
  {
   "cell_type": "code",
   "execution_count": 28,
   "id": "shaped-skiing",
   "metadata": {},
   "outputs": [
    {
     "data": {
      "text/plain": [
       "0.6523748564391235"
      ]
     },
     "execution_count": 28,
     "metadata": {},
     "output_type": "execute_result"
    }
   ],
   "source": [
    "alpha(df.X, df.Y, train_idx)"
   ]
  },
  {
   "cell_type": "code",
   "execution_count": 29,
   "id": "seven-argument",
   "metadata": {},
   "outputs": [],
   "source": [
    "def boot(data, func, n):\n",
    "    alphas = []\n",
    "    for i in range(n):\n",
    "        index = data.sample(n = 100, replace = True).index\n",
    "        alphas.append(func(data.X, data.Y, index))\n",
    "    alphas = np.array(alphas)\n",
    "    return alphas.std()/np.sqrt(len(alphas))"
   ]
  },
  {
   "cell_type": "code",
   "execution_count": 30,
   "id": "honest-flesh",
   "metadata": {},
   "outputs": [
    {
     "data": {
      "text/plain": [
       "0.002885860071775077"
      ]
     },
     "execution_count": 30,
     "metadata": {},
     "output_type": "execute_result"
    }
   ],
   "source": [
    "boot(df, alpha, 1000)"
   ]
  },
  {
   "cell_type": "code",
   "execution_count": 31,
   "id": "settled-spider",
   "metadata": {},
   "outputs": [],
   "source": [
    "df = get_rdataset('Auto', 'ISLR', True).data"
   ]
  },
  {
   "cell_type": "code",
   "execution_count": 32,
   "id": "choice-drunk",
   "metadata": {},
   "outputs": [],
   "source": [
    "def coefficients(data, index, ind_object = True):\n",
    "    if ind_object:\n",
    "        to_use = data.loc[index]\n",
    "    else:\n",
    "        to_use = data.iloc[index]\n",
    "    X = add_constant(to_use.horsepower)\n",
    "    model = lm.OLS(to_use.mpg, X).fit()\n",
    "    \n",
    "    return model.params"
   ]
  },
  {
   "cell_type": "code",
   "execution_count": 33,
   "id": "creative-howard",
   "metadata": {},
   "outputs": [
    {
     "data": {
      "text/plain": [
       "const         39.935861\n",
       "horsepower    -0.157845\n",
       "dtype: float64"
      ]
     },
     "execution_count": 33,
     "metadata": {},
     "output_type": "execute_result"
    }
   ],
   "source": [
    "coefficients(df, range(392), False)"
   ]
  },
  {
   "cell_type": "code",
   "execution_count": 34,
   "id": "settled-tribune",
   "metadata": {},
   "outputs": [
    {
     "data": {
      "text/plain": [
       "const         40.830131\n",
       "horsepower    -0.167500\n",
       "dtype: float64"
      ]
     },
     "execution_count": 34,
     "metadata": {},
     "output_type": "execute_result"
    }
   ],
   "source": [
    "coefficients(df, np.array(df.sample(n = 392, replace=True).index))"
   ]
  },
  {
   "cell_type": "code",
   "execution_count": 35,
   "id": "linear-consultancy",
   "metadata": {},
   "outputs": [
    {
     "data": {
      "text/plain": [
       "const         40.576062\n",
       "horsepower    -0.164068\n",
       "dtype: float64"
      ]
     },
     "execution_count": 35,
     "metadata": {},
     "output_type": "execute_result"
    }
   ],
   "source": [
    "coefficients(df, np.array(df.sample(n = 392, replace=True).index))"
   ]
  },
  {
   "cell_type": "code",
   "execution_count": 36,
   "id": "corresponding-phrase",
   "metadata": {},
   "outputs": [],
   "source": [
    "def coefficients(data, index, ind_object = True):\n",
    "    if ind_object:\n",
    "        to_use = data.loc[index]\n",
    "    else:\n",
    "        to_use = data.iloc[index]\n",
    "    X = add_constant(to_use.horsepower)\n",
    "    model = lm.OLS(to_use.mpg, X).fit()\n",
    "    \n",
    "    return np.array(model.params)\n",
    "\n",
    "def boot(data, func, n):\n",
    "    coefs = []\n",
    "    for i in range(n):\n",
    "        index = np.array(df.sample(n = 392, replace=True, random_state=17).index)\n",
    "        coefs.append(func(data, index))\n",
    "    coefs = np.array(coefs)\n",
    "    return coefs[:,0].std()/len(coefs), coefs[:, 1].std()/len(coefs)"
   ]
  },
  {
   "cell_type": "code",
   "execution_count": 37,
   "id": "essential-herald",
   "metadata": {},
   "outputs": [
    {
     "data": {
      "text/plain": [
       "[40.06947354982266, -0.16186309377251312]"
      ]
     },
     "execution_count": 37,
     "metadata": {},
     "output_type": "execute_result"
    }
   ],
   "source": [
    "coefficients(df, np.array(df.sample(n = 392, replace=True).index)).tolist()"
   ]
  },
  {
   "cell_type": "code",
   "execution_count": 38,
   "id": "ordinary-luxembourg",
   "metadata": {},
   "outputs": [
    {
     "data": {
      "text/plain": [
       "(7.105427357601002e-18, 2.7755575615628914e-20)"
      ]
     },
     "execution_count": 38,
     "metadata": {},
     "output_type": "execute_result"
    }
   ],
   "source": [
    "boot(df, coefficients, 1000)"
   ]
  },
  {
   "cell_type": "markdown",
   "id": "791979b9",
   "metadata": {},
   "source": [
    "# >> LABS <<"
   ]
  },
  {
   "cell_type": "markdown",
   "id": "f057a7eb",
   "metadata": {},
   "source": [
    "## *Exercise 5*"
   ]
  },
  {
   "cell_type": "code",
   "execution_count": 40,
   "id": "7b7404cc",
   "metadata": {},
   "outputs": [],
   "source": [
    "df = get_rdataset('Default', 'ISLR', cache=True).data"
   ]
  },
  {
   "cell_type": "code",
   "execution_count": 46,
   "id": "dd518415",
   "metadata": {},
   "outputs": [
    {
     "data": {
      "text/html": [
       "<div>\n",
       "<style scoped>\n",
       "    .dataframe tbody tr th:only-of-type {\n",
       "        vertical-align: middle;\n",
       "    }\n",
       "\n",
       "    .dataframe tbody tr th {\n",
       "        vertical-align: top;\n",
       "    }\n",
       "\n",
       "    .dataframe thead th {\n",
       "        text-align: right;\n",
       "    }\n",
       "</style>\n",
       "<table border=\"1\" class=\"dataframe\">\n",
       "  <thead>\n",
       "    <tr style=\"text-align: right;\">\n",
       "      <th></th>\n",
       "      <th>balance</th>\n",
       "      <th>income</th>\n",
       "    </tr>\n",
       "  </thead>\n",
       "  <tbody>\n",
       "    <tr>\n",
       "      <th>count</th>\n",
       "      <td>10000.000000</td>\n",
       "      <td>10000.000000</td>\n",
       "    </tr>\n",
       "    <tr>\n",
       "      <th>mean</th>\n",
       "      <td>835.374886</td>\n",
       "      <td>33516.981876</td>\n",
       "    </tr>\n",
       "    <tr>\n",
       "      <th>std</th>\n",
       "      <td>483.714985</td>\n",
       "      <td>13336.639563</td>\n",
       "    </tr>\n",
       "    <tr>\n",
       "      <th>min</th>\n",
       "      <td>0.000000</td>\n",
       "      <td>771.967729</td>\n",
       "    </tr>\n",
       "    <tr>\n",
       "      <th>25%</th>\n",
       "      <td>481.731105</td>\n",
       "      <td>21340.462903</td>\n",
       "    </tr>\n",
       "    <tr>\n",
       "      <th>50%</th>\n",
       "      <td>823.636973</td>\n",
       "      <td>34552.644802</td>\n",
       "    </tr>\n",
       "    <tr>\n",
       "      <th>75%</th>\n",
       "      <td>1166.308386</td>\n",
       "      <td>43807.729272</td>\n",
       "    </tr>\n",
       "    <tr>\n",
       "      <th>max</th>\n",
       "      <td>2654.322576</td>\n",
       "      <td>73554.233495</td>\n",
       "    </tr>\n",
       "  </tbody>\n",
       "</table>\n",
       "</div>"
      ],
      "text/plain": [
       "            balance        income\n",
       "count  10000.000000  10000.000000\n",
       "mean     835.374886  33516.981876\n",
       "std      483.714985  13336.639563\n",
       "min        0.000000    771.967729\n",
       "25%      481.731105  21340.462903\n",
       "50%      823.636973  34552.644802\n",
       "75%     1166.308386  43807.729272\n",
       "max     2654.322576  73554.233495"
      ]
     },
     "execution_count": 46,
     "metadata": {},
     "output_type": "execute_result"
    }
   ],
   "source": [
    "df.describe()"
   ]
  },
  {
   "cell_type": "code",
   "execution_count": 54,
   "id": "2e5e20d1",
   "metadata": {},
   "outputs": [
    {
     "data": {
      "text/html": [
       "<div>\n",
       "<style scoped>\n",
       "    .dataframe tbody tr th:only-of-type {\n",
       "        vertical-align: middle;\n",
       "    }\n",
       "\n",
       "    .dataframe tbody tr th {\n",
       "        vertical-align: top;\n",
       "    }\n",
       "\n",
       "    .dataframe thead th {\n",
       "        text-align: right;\n",
       "    }\n",
       "</style>\n",
       "<table border=\"1\" class=\"dataframe\">\n",
       "  <thead>\n",
       "    <tr style=\"text-align: right;\">\n",
       "      <th></th>\n",
       "      <th>default</th>\n",
       "      <th>student</th>\n",
       "      <th>balance</th>\n",
       "      <th>income</th>\n",
       "    </tr>\n",
       "  </thead>\n",
       "  <tbody>\n",
       "    <tr>\n",
       "      <th>0</th>\n",
       "      <td>No</td>\n",
       "      <td>No</td>\n",
       "      <td>729.526495</td>\n",
       "      <td>44361.625074</td>\n",
       "    </tr>\n",
       "    <tr>\n",
       "      <th>1</th>\n",
       "      <td>No</td>\n",
       "      <td>Yes</td>\n",
       "      <td>817.180407</td>\n",
       "      <td>12106.134700</td>\n",
       "    </tr>\n",
       "    <tr>\n",
       "      <th>2</th>\n",
       "      <td>No</td>\n",
       "      <td>No</td>\n",
       "      <td>1073.549164</td>\n",
       "      <td>31767.138947</td>\n",
       "    </tr>\n",
       "    <tr>\n",
       "      <th>3</th>\n",
       "      <td>No</td>\n",
       "      <td>No</td>\n",
       "      <td>529.250605</td>\n",
       "      <td>35704.493935</td>\n",
       "    </tr>\n",
       "    <tr>\n",
       "      <th>4</th>\n",
       "      <td>No</td>\n",
       "      <td>No</td>\n",
       "      <td>785.655883</td>\n",
       "      <td>38463.495879</td>\n",
       "    </tr>\n",
       "  </tbody>\n",
       "</table>\n",
       "</div>"
      ],
      "text/plain": [
       "  default student      balance        income\n",
       "0      No      No   729.526495  44361.625074\n",
       "1      No     Yes   817.180407  12106.134700\n",
       "2      No      No  1073.549164  31767.138947\n",
       "3      No      No   529.250605  35704.493935\n",
       "4      No      No   785.655883  38463.495879"
      ]
     },
     "execution_count": 54,
     "metadata": {},
     "output_type": "execute_result"
    }
   ],
   "source": [
    "df.head()"
   ]
  },
  {
   "cell_type": "code",
   "execution_count": 55,
   "id": "fb441fc5",
   "metadata": {},
   "outputs": [],
   "source": [
    "df[[\"default\", \"student\"]] = df[[\"default\", \"student\"]].applymap(lambda x: 1 if x=='Yes' else 0)"
   ]
  },
  {
   "cell_type": "code",
   "execution_count": 56,
   "id": "f88b08e5",
   "metadata": {},
   "outputs": [
    {
     "data": {
      "text/html": [
       "<div>\n",
       "<style scoped>\n",
       "    .dataframe tbody tr th:only-of-type {\n",
       "        vertical-align: middle;\n",
       "    }\n",
       "\n",
       "    .dataframe tbody tr th {\n",
       "        vertical-align: top;\n",
       "    }\n",
       "\n",
       "    .dataframe thead th {\n",
       "        text-align: right;\n",
       "    }\n",
       "</style>\n",
       "<table border=\"1\" class=\"dataframe\">\n",
       "  <thead>\n",
       "    <tr style=\"text-align: right;\">\n",
       "      <th></th>\n",
       "      <th>default</th>\n",
       "      <th>student</th>\n",
       "      <th>balance</th>\n",
       "      <th>income</th>\n",
       "    </tr>\n",
       "  </thead>\n",
       "  <tbody>\n",
       "    <tr>\n",
       "      <th>0</th>\n",
       "      <td>0</td>\n",
       "      <td>0</td>\n",
       "      <td>729.526495</td>\n",
       "      <td>44361.625074</td>\n",
       "    </tr>\n",
       "    <tr>\n",
       "      <th>1</th>\n",
       "      <td>0</td>\n",
       "      <td>1</td>\n",
       "      <td>817.180407</td>\n",
       "      <td>12106.134700</td>\n",
       "    </tr>\n",
       "    <tr>\n",
       "      <th>2</th>\n",
       "      <td>0</td>\n",
       "      <td>0</td>\n",
       "      <td>1073.549164</td>\n",
       "      <td>31767.138947</td>\n",
       "    </tr>\n",
       "    <tr>\n",
       "      <th>3</th>\n",
       "      <td>0</td>\n",
       "      <td>0</td>\n",
       "      <td>529.250605</td>\n",
       "      <td>35704.493935</td>\n",
       "    </tr>\n",
       "    <tr>\n",
       "      <th>4</th>\n",
       "      <td>0</td>\n",
       "      <td>0</td>\n",
       "      <td>785.655883</td>\n",
       "      <td>38463.495879</td>\n",
       "    </tr>\n",
       "  </tbody>\n",
       "</table>\n",
       "</div>"
      ],
      "text/plain": [
       "   default  student      balance        income\n",
       "0        0        0   729.526495  44361.625074\n",
       "1        0        1   817.180407  12106.134700\n",
       "2        0        0  1073.549164  31767.138947\n",
       "3        0        0   529.250605  35704.493935\n",
       "4        0        0   785.655883  38463.495879"
      ]
     },
     "execution_count": 56,
     "metadata": {},
     "output_type": "execute_result"
    }
   ],
   "source": [
    "df.head()"
   ]
  },
  {
   "cell_type": "code",
   "execution_count": 104,
   "id": "d26fdc84",
   "metadata": {},
   "outputs": [],
   "source": [
    "np.random.seed(0)\n",
    "\n",
    "train = df.sample(frac=0.5)\n",
    "test = df.iloc[df.index.difference(train.index)]"
   ]
  },
  {
   "cell_type": "code",
   "execution_count": 105,
   "id": "24db1a92",
   "metadata": {},
   "outputs": [
    {
     "name": "stdout",
     "output_type": "stream",
     "text": [
      "Optimization terminated successfully.\n",
      "         Current function value: 0.084455\n",
      "         Iterations 10\n",
      "                           Logit Regression Results                           \n",
      "==============================================================================\n",
      "Dep. Variable:                default   No. Observations:                 5000\n",
      "Model:                          Logit   Df Residuals:                     4997\n",
      "Method:                           MLE   Df Model:                            2\n",
      "Date:                Sun, 03 Apr 2022   Pseudo R-squ.:                  0.4686\n",
      "Time:                        19:31:15   Log-Likelihood:                -422.28\n",
      "converged:                       True   LL-Null:                       -794.71\n",
      "Covariance Type:            nonrobust   LLR p-value:                1.802e-162\n",
      "==============================================================================\n",
      "                 coef    std err          z      P>|z|      [0.025      0.975]\n",
      "------------------------------------------------------------------------------\n",
      "const        -11.6902      0.599    -19.523      0.000     -12.864     -10.517\n",
      "balance        0.0057      0.000     18.244      0.000       0.005       0.006\n",
      "income      2.512e-05   6.83e-06      3.679      0.000    1.17e-05    3.85e-05\n",
      "==============================================================================\n",
      "\n",
      "Possibly complete quasi-separation: A fraction 0.14 of observations can be\n",
      "perfectly predicted. This might indicate that there is complete\n",
      "quasi-separation. In this case some parameters will not be identified.\n"
     ]
    }
   ],
   "source": [
    "X = add_constant(train[[\"balance\", \"income\"]])\n",
    "model = dm.Logit(train.default, X).fit()\n",
    "print(model.summary())"
   ]
  },
  {
   "cell_type": "code",
   "execution_count": 125,
   "id": "02a6ffb2",
   "metadata": {},
   "outputs": [],
   "source": [
    "def validate_model():\n",
    "    train = df.sample(frac=0.5)\n",
    "    test = df.iloc[df.index.difference(train.index)]\n",
    "    \n",
    "    X = add_constant(train[[\"balance\", \"income\"]])\n",
    "    model = dm.Logit(train.default, X).fit()\n",
    "    \n",
    "    pred = model.predict(add_constant(train[[\"balance\", \"income\"]]))\n",
    "    discrete_pred = pred.map(lambda x: round(x))\n",
    "    \n",
    "    mean = np.mean( discrete_pred!=train[\"default\"] )\n",
    "    print(\"test error from validation = \", np.mean( discrete_pred!=train[\"default\"] ), end = \"\\n\\n\")\n",
    "    return mean"
   ]
  },
  {
   "cell_type": "code",
   "execution_count": 126,
   "id": "fdb91aac",
   "metadata": {},
   "outputs": [
    {
     "name": "stdout",
     "output_type": "stream",
     "text": [
      "Optimization terminated successfully.\n",
      "         Current function value: 0.083025\n",
      "         Iterations 10\n",
      "test error from validation =  0.027\n",
      "\n",
      "Optimization terminated successfully.\n",
      "         Current function value: 0.079303\n",
      "         Iterations 10\n",
      "test error from validation =  0.0278\n",
      "\n",
      "Optimization terminated successfully.\n",
      "         Current function value: 0.082450\n",
      "         Iterations 10\n",
      "test error from validation =  0.0282\n",
      "\n",
      "Optimization terminated successfully.\n",
      "         Current function value: 0.077529\n",
      "         Iterations 10\n",
      "test error from validation =  0.0262\n",
      "\n",
      "Optimization terminated successfully.\n",
      "         Current function value: 0.078243\n",
      "         Iterations 10\n",
      "test error from validation =  0.0278\n",
      "\n",
      "\n",
      "\n",
      "mean validation test error = 0.0274\n"
     ]
    }
   ],
   "source": [
    "x = 0\n",
    "t = 5\n",
    "for i in range(t):\n",
    "    x+=validate_model()\n",
    "print(\"\\n\")\n",
    "print(f\"mean validation test error = {x/t}\")"
   ]
  },
  {
   "cell_type": "code",
   "execution_count": 127,
   "id": "5e3330a3",
   "metadata": {},
   "outputs": [
    {
     "name": "stdout",
     "output_type": "stream",
     "text": [
      "0    4923\n",
      "1      77\n",
      "dtype: int64\n",
      "\n",
      "test error from test = 0.024\n"
     ]
    }
   ],
   "source": [
    "pred = model.predict(add_constant(test[[\"balance\", \"income\"]]))\n",
    "discrete_pred = pred.map(lambda x: round(x))\n",
    "\n",
    "print(discrete_pred.value_counts(), \"\\n\\n\",\n",
    "      \"test error from test = \", np.mean( discrete_pred!=test[\"default\"] ), \n",
    "      sep = \"\")"
   ]
  },
  {
   "cell_type": "markdown",
   "id": "f54ba978",
   "metadata": {},
   "source": [
    "## *Exercise 6*"
   ]
  },
  {
   "cell_type": "code",
   "execution_count": null,
   "id": "7eff0cc8",
   "metadata": {},
   "outputs": [],
   "source": []
  }
 ],
 "metadata": {
  "kernelspec": {
   "display_name": "Python 3 (ipykernel)",
   "language": "python",
   "name": "python3"
  },
  "language_info": {
   "codemirror_mode": {
    "name": "ipython",
    "version": 3
   },
   "file_extension": ".py",
   "mimetype": "text/x-python",
   "name": "python",
   "nbconvert_exporter": "python",
   "pygments_lexer": "ipython3",
   "version": "3.9.7"
  }
 },
 "nbformat": 4,
 "nbformat_minor": 5
}
