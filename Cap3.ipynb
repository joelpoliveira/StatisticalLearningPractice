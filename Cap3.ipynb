{
 "cells": [
  {
   "cell_type": "code",
   "execution_count": null,
   "id": "assured-flexibility",
   "metadata": {},
   "outputs": [],
   "source": [
    "import numpy as np\n",
    "import pandas as pd\n",
    "import matplotlib.pyplot as plt\n",
    "import seaborn as sns\n",
    "import scipy as sp\n",
    "import sklearn as sk\n",
    "import statsmodels as sm\n",
    "import sympy\n",
    "from statsmodels.regression import linear_model as lm\n",
    "from statsmodels.discrete import discrete_model as dm\n",
    "from statsmodels.tools import add_constant\n",
    "from statsmodels.datasets import get_rdataset"
   ]
  },
  {
   "cell_type": "code",
   "execution_count": null,
   "id": "published-double",
   "metadata": {},
   "outputs": [],
   "source": [
    "df = get_rdataset('Default', 'ISLR', cache=True).data"
   ]
  },
  {
   "cell_type": "code",
   "execution_count": null,
   "id": "affiliated-respect",
   "metadata": {},
   "outputs": [],
   "source": [
    "df.default = df.default.apply(lambda x: 0 if x=='No' else 1)"
   ]
  },
  {
   "cell_type": "code",
   "execution_count": null,
   "id": "later-breed",
   "metadata": {},
   "outputs": [],
   "source": [
    "df.head()"
   ]
  },
  {
   "cell_type": "code",
   "execution_count": null,
   "id": "assigned-discrimination",
   "metadata": {},
   "outputs": [],
   "source": [
    "df.shape"
   ]
  },
  {
   "cell_type": "code",
   "execution_count": null,
   "id": "scenic-ladder",
   "metadata": {},
   "outputs": [],
   "source": [
    "plt.scatter(x = 'balance', y = 'income', data = df, c = 'default', marker = '+')"
   ]
  },
  {
   "cell_type": "code",
   "execution_count": null,
   "id": "induced-freight",
   "metadata": {},
   "outputs": [],
   "source": [
    "plt.subplot(121)\n",
    "sns.boxplot(x = 'default', y = 'balance', data = df)\n",
    "plt.subplot(122)\n",
    "sns.boxplot(x='default', y = 'income', data = df)\n",
    "plt.tight_layout()"
   ]
  },
  {
   "cell_type": "code",
   "execution_count": null,
   "id": "formal-princess",
   "metadata": {},
   "outputs": [],
   "source": [
    "X = add_constant(df.balance)\n",
    "mdl = lm.OLS(df.default, X).fit()\n",
    "print(mdl.summary())"
   ]
  },
  {
   "cell_type": "code",
   "execution_count": null,
   "id": "technological-collection",
   "metadata": {},
   "outputs": [],
   "source": [
    "plt.plot(df.balance, np.polyval(mdl.params.to_list()[::-1], df.balance), '-', df.balance, df.default, '.', markersize = 1)"
   ]
  },
  {
   "cell_type": "code",
   "execution_count": null,
   "id": "authentic-spine",
   "metadata": {},
   "outputs": [],
   "source": [
    "X = add_constant(df.balance)\n",
    "log_mdl = dm.Logit(df.default, X).fit()\n",
    "print(log_mdl.summary())"
   ]
  },
  {
   "cell_type": "code",
   "execution_count": null,
   "id": "animated-crown",
   "metadata": {},
   "outputs": [],
   "source": [
    "plt.plot(df.balance, log_mdl.predict(X), '.', df.balance, df.default, '.', markersize = 1)"
   ]
  },
  {
   "cell_type": "code",
   "execution_count": null,
   "id": "greek-asset",
   "metadata": {
    "scrolled": true
   },
   "outputs": [],
   "source": [
    "p_x"
   ]
  },
  {
   "cell_type": "code",
   "execution_count": null,
   "id": "unable-train",
   "metadata": {},
   "outputs": [],
   "source": [
    "sympy.plot(p_x.subs({b0:-5, b1:0.0055}), (x, 0, 2500) )"
   ]
  },
  {
   "cell_type": "code",
   "execution_count": null,
   "id": "breeding-clark",
   "metadata": {},
   "outputs": [],
   "source": [
    "sympy.simplify(p_x/(1 - p_x))"
   ]
  },
  {
   "cell_type": "code",
   "execution_count": null,
   "id": "arctic-international",
   "metadata": {},
   "outputs": [],
   "source": [
    "sympy.log(sympy.simplify(p_x/(1 - p_x)))"
   ]
  },
  {
   "cell_type": "code",
   "execution_count": null,
   "id": "incomplete-omaha",
   "metadata": {},
   "outputs": [],
   "source": [
    "df.head()"
   ]
  },
  {
   "cell_type": "code",
   "execution_count": null,
   "id": "auburn-warner",
   "metadata": {},
   "outputs": [],
   "source": [
    "df.student = df.student.apply(lambda x: 1 if x=='Yes' else 0)"
   ]
  },
  {
   "cell_type": "code",
   "execution_count": null,
   "id": "clean-perfume",
   "metadata": {},
   "outputs": [],
   "source": [
    "df.groupby('student').mean().default"
   ]
  },
  {
   "cell_type": "code",
   "execution_count": null,
   "id": "generous-positive",
   "metadata": {},
   "outputs": [],
   "source": [
    "X = add_constant(df[['student', 'balance', 'income']])\n",
    "std_model = dm.Logit(df.default, X).fit()\n",
    "print(std_model.summary())"
   ]
  },
  {
   "cell_type": "code",
   "execution_count": null,
   "id": "professional-wilson",
   "metadata": {},
   "outputs": [],
   "source": [
    "plt.scatter(df.balance, std_model.predict(X), c=df.student, s = 1)\n",
    "zeros = df.groupby('student').mean().default[0]\n",
    "ones = df.groupby('student').mean().default[1]\n",
    "plt.plot(df.balance, np.full(df.balance.shape, zeros), '--', label = 'non-students')\n",
    "plt.plot(df.balance, np.full(df.balance.shape, ones), '--', label = 'students')\n",
    "plt.legend()"
   ]
  },
  {
   "cell_type": "code",
   "execution_count": null,
   "id": "french-bundle",
   "metadata": {},
   "outputs": [],
   "source": [
    "std,u,x = sympy.symbols('std,u,x')\n",
    "normal = 1/(sympy.sqrt(sympy.pi*2)*std) * sympy.exp( (-1/(2*std**2))*(x - u)**2 )"
   ]
  },
  {
   "cell_type": "code",
   "execution_count": null,
   "id": "noted-schedule",
   "metadata": {},
   "outputs": [],
   "source": [
    "fkx = normal.subs({std: 1, u: 0})"
   ]
  },
  {
   "cell_type": "code",
   "execution_count": null,
   "id": "multiple-directory",
   "metadata": {},
   "outputs": [],
   "source": [
    "sympy.plot(fkx, (x, -5, 5))"
   ]
  },
  {
   "cell_type": "markdown",
   "id": "arctic-malaysia",
   "metadata": {},
   "source": [
    "##  -----> Labs <------"
   ]
  },
  {
   "cell_type": "markdown",
   "id": "greater-fetish",
   "metadata": {},
   "source": [
    "#### --------- Logit Regression ---------"
   ]
  },
  {
   "cell_type": "code",
   "execution_count": null,
   "id": "aggressive-armenia",
   "metadata": {},
   "outputs": [],
   "source": [
    "df = get_rdataset('Smarket', 'ISLR', cache=True).data"
   ]
  },
  {
   "cell_type": "code",
   "execution_count": null,
   "id": "south-draft",
   "metadata": {},
   "outputs": [],
   "source": [
    "df.head()"
   ]
  },
  {
   "cell_type": "code",
   "execution_count": null,
   "id": "classical-wales",
   "metadata": {},
   "outputs": [],
   "source": [
    "df.describe()"
   ]
  },
  {
   "cell_type": "code",
   "execution_count": null,
   "id": "ceramic-documentation",
   "metadata": {},
   "outputs": [],
   "source": [
    "df.corr()"
   ]
  },
  {
   "cell_type": "code",
   "execution_count": null,
   "id": "designing-error",
   "metadata": {},
   "outputs": [],
   "source": [
    "df.Direction = df.Direction.apply(lambda x: 1 if x=='Up' else 0)"
   ]
  },
  {
   "cell_type": "code",
   "execution_count": null,
   "id": "incident-orange",
   "metadata": {},
   "outputs": [],
   "source": [
    "df.head()"
   ]
  },
  {
   "cell_type": "code",
   "execution_count": null,
   "id": "manufactured-confidence",
   "metadata": {},
   "outputs": [],
   "source": [
    "df.plot(y='Volume', marker='.')"
   ]
  },
  {
   "cell_type": "code",
   "execution_count": null,
   "id": "liable-demonstration",
   "metadata": {},
   "outputs": [],
   "source": [
    "X = add_constant(df[['Lag1','Lag2','Lag3','Lag4','Lag5', 'Volume']])\n",
    "model = dm.Logit(df.Direction, X).fit()"
   ]
  },
  {
   "cell_type": "code",
   "execution_count": null,
   "id": "deluxe-casting",
   "metadata": {},
   "outputs": [],
   "source": [
    "print(model.summary())"
   ]
  },
  {
   "cell_type": "code",
   "execution_count": null,
   "id": "bulgarian-discipline",
   "metadata": {},
   "outputs": [],
   "source": [
    "pred = model.predict(X)"
   ]
  },
  {
   "cell_type": "code",
   "execution_count": null,
   "id": "behavioral-situation",
   "metadata": {},
   "outputs": [],
   "source": [
    "bool_pred = pred.map(lambda x: round(x))"
   ]
  },
  {
   "cell_type": "code",
   "execution_count": null,
   "id": "social-cigarette",
   "metadata": {},
   "outputs": [],
   "source": [
    "compare = bool_pred == df.Direction"
   ]
  },
  {
   "cell_type": "code",
   "execution_count": null,
   "id": "unsigned-accuracy",
   "metadata": {},
   "outputs": [],
   "source": [
    "from sklearn.metrics import confusion_matrix"
   ]
  },
  {
   "cell_type": "code",
   "execution_count": null,
   "id": "hidden-milan",
   "metadata": {},
   "outputs": [],
   "source": [
    "print(confusion_matrix(df.Direction, bool_pred))"
   ]
  },
  {
   "cell_type": "code",
   "execution_count": null,
   "id": "formed-greece",
   "metadata": {},
   "outputs": [],
   "source": [
    "print('TN | FP\\n--------\\nFN | TP')"
   ]
  },
  {
   "cell_type": "code",
   "execution_count": null,
   "id": "alleged-minimum",
   "metadata": {},
   "outputs": [],
   "source": [
    "compare.mean()"
   ]
  },
  {
   "cell_type": "code",
   "execution_count": null,
   "id": "olympic-employer",
   "metadata": {},
   "outputs": [],
   "source": [
    "train = df[df['Year'] < 2005]\n",
    "test = df[df['Year'] == 2005]"
   ]
  },
  {
   "cell_type": "code",
   "execution_count": null,
   "id": "metropolitan-gamma",
   "metadata": {},
   "outputs": [],
   "source": [
    "X = add_constant(train[['Lag1', 'Lag2']])\n",
    "model = dm.Logit(train.Direction, X).fit()"
   ]
  },
  {
   "cell_type": "code",
   "execution_count": null,
   "id": "younger-virtue",
   "metadata": {},
   "outputs": [],
   "source": [
    "pred = model.predict(add_constant(test[['Lag1', 'Lag2']]))"
   ]
  },
  {
   "cell_type": "code",
   "execution_count": null,
   "id": "tribal-journal",
   "metadata": {},
   "outputs": [],
   "source": [
    "results = pred.map(lambda x: round(x))"
   ]
  },
  {
   "cell_type": "code",
   "execution_count": null,
   "id": "desperate-falls",
   "metadata": {},
   "outputs": [],
   "source": [
    "print(confusion_matrix(test.Direction, results))"
   ]
  },
  {
   "cell_type": "code",
   "execution_count": null,
   "id": "floppy-fabric",
   "metadata": {},
   "outputs": [],
   "source": [
    "compare = results == test.Direction\n",
    "compare.mean()"
   ]
  },
  {
   "cell_type": "code",
   "execution_count": null,
   "id": "silver-shoot",
   "metadata": {},
   "outputs": [],
   "source": [
    "model.predict([1, 1.2, 1.1])"
   ]
  },
  {
   "cell_type": "code",
   "execution_count": null,
   "id": "opposed-backup",
   "metadata": {},
   "outputs": [],
   "source": [
    "model.predict([1, 1.5, -0.8])"
   ]
  },
  {
   "cell_type": "markdown",
   "id": "rising-photographer",
   "metadata": {},
   "source": [
    "#### ---------- LDA Regression --------------"
   ]
  },
  {
   "cell_type": "code",
   "execution_count": null,
   "id": "ordinary-figure",
   "metadata": {},
   "outputs": [],
   "source": [
    "from sklearn.discriminant_analysis import LinearDiscriminantAnalysis"
   ]
  },
  {
   "cell_type": "code",
   "execution_count": null,
   "id": "potential-return",
   "metadata": {},
   "outputs": [],
   "source": [
    "model = LinearDiscriminantAnalysis().fit(train[['Lag1','Lag2']], train.Direction)"
   ]
  },
  {
   "cell_type": "code",
   "execution_count": null,
   "id": "fitting-seminar",
   "metadata": {},
   "outputs": [],
   "source": [
    "model.scalings_[1,0]"
   ]
  },
  {
   "cell_type": "code",
   "execution_count": null,
   "id": "floating-celtic",
   "metadata": {},
   "outputs": [],
   "source": [
    "model"
   ]
  },
  {
   "cell_type": "code",
   "execution_count": null,
   "id": "junior-patrick",
   "metadata": {},
   "outputs": [],
   "source": [
    "reg_values = model.scalings_[0,0] * train.Lag1 + model.scalings_[1,0] * train.Lag2\n",
    "plt.plot(reg_values, '*')"
   ]
  },
  {
   "cell_type": "code",
   "execution_count": null,
   "id": "awful-tamil",
   "metadata": {},
   "outputs": [],
   "source": [
    "pred = model.predict(test[['Lag1','Lag2']])"
   ]
  },
  {
   "cell_type": "code",
   "execution_count": null,
   "id": "indirect-oracle",
   "metadata": {},
   "outputs": [],
   "source": [
    "confusion_matrix(test.Direction, pred)"
   ]
  },
  {
   "cell_type": "code",
   "execution_count": null,
   "id": "lesbian-nitrogen",
   "metadata": {},
   "outputs": [],
   "source": [
    "compares = test.Direction == pred\n",
    "compares.mean()"
   ]
  },
  {
   "cell_type": "markdown",
   "id": "subjective-immune",
   "metadata": {},
   "source": [
    "#### ----------- QDA Regression -------------"
   ]
  },
  {
   "cell_type": "code",
   "execution_count": null,
   "id": "partial-director",
   "metadata": {},
   "outputs": [],
   "source": [
    "from sklearn.discriminant_analysis import QuadraticDiscriminantAnalysis"
   ]
  },
  {
   "cell_type": "code",
   "execution_count": null,
   "id": "married-picture",
   "metadata": {},
   "outputs": [],
   "source": [
    "model = QuadraticDiscriminantAnalysis().fit(train[['Lag1','Lag2']], train.Direction)"
   ]
  },
  {
   "cell_type": "code",
   "execution_count": null,
   "id": "fleet-baseball",
   "metadata": {},
   "outputs": [],
   "source": [
    "model.priors_"
   ]
  },
  {
   "cell_type": "code",
   "execution_count": null,
   "id": "indirect-policy",
   "metadata": {},
   "outputs": [],
   "source": [
    "pred = model.predict(test[['Lag1','Lag2']])"
   ]
  },
  {
   "cell_type": "code",
   "execution_count": null,
   "id": "tropical-restoration",
   "metadata": {},
   "outputs": [],
   "source": [
    "print(confusion_matrix(pred, test.Direction))"
   ]
  },
  {
   "cell_type": "code",
   "execution_count": null,
   "id": "absolute-platinum",
   "metadata": {},
   "outputs": [],
   "source": [
    "compares = pred == test.Direction\n",
    "compares.mean()"
   ]
  },
  {
   "cell_type": "markdown",
   "id": "thick-yugoslavia",
   "metadata": {},
   "source": [
    "#### --------- KNN Prediction -----------"
   ]
  },
  {
   "cell_type": "code",
   "execution_count": null,
   "id": "alien-catch",
   "metadata": {},
   "outputs": [],
   "source": [
    "from sklearn.neighbors import KNeighborsClassifier"
   ]
  },
  {
   "cell_type": "code",
   "execution_count": null,
   "id": "continental-cocktail",
   "metadata": {},
   "outputs": [],
   "source": [
    "df = get_rdataset('Caravan', 'ISLR', cache = True).data"
   ]
  },
  {
   "cell_type": "code",
   "execution_count": null,
   "id": "paperback-relationship",
   "metadata": {},
   "outputs": [],
   "source": [
    "df.head()"
   ]
  },
  {
   "cell_type": "code",
   "execution_count": null,
   "id": "prostate-property",
   "metadata": {},
   "outputs": [],
   "source": [
    "df.Purchase.value_counts()"
   ]
  },
  {
   "cell_type": "code",
   "execution_count": null,
   "id": "hundred-berlin",
   "metadata": {},
   "outputs": [],
   "source": [
    "from sklearn.preprocessing import StandardScaler"
   ]
  },
  {
   "cell_type": "code",
   "execution_count": null,
   "id": "higher-april",
   "metadata": {},
   "outputs": [],
   "source": [
    "scaler = StandardScaler()"
   ]
  },
  {
   "cell_type": "code",
   "execution_count": null,
   "id": "paperback-lloyd",
   "metadata": {},
   "outputs": [],
   "source": [
    "scld_df = scaler.fit_transform()\n",
    "\n",
    "scld_df = pd.DataFrame(data = scld_df, columns=df.drop(columns=['Purchase']).columns)\n",
    "\n",
    "scld_df['Purchase'] = df.Purchase"
   ]
  },
  {
   "cell_type": "code",
   "execution_count": null,
   "id": "center-argument",
   "metadata": {},
   "outputs": [],
   "source": [
    "df.MAANTHUI.std()"
   ]
  },
  {
   "cell_type": "code",
   "execution_count": null,
   "id": "hydraulic-track",
   "metadata": {},
   "outputs": [],
   "source": [
    "scld_df.MAANTHUI.std()"
   ]
  },
  {
   "cell_type": "code",
   "execution_count": null,
   "id": "parliamentary-madrid",
   "metadata": {},
   "outputs": [],
   "source": [
    "train = scld_df.iloc[1000:]\n",
    "test = scld_df.iloc[:1000]"
   ]
  },
  {
   "cell_type": "code",
   "execution_count": null,
   "id": "accepting-torture",
   "metadata": {},
   "outputs": [],
   "source": [
    "X = train.drop('Purchase', axis=1)\n",
    "y = train.Purchase\n",
    "model = KNeighborsClassifier(n_neighbors=5).fit(X,y)"
   ]
  },
  {
   "cell_type": "code",
   "execution_count": null,
   "id": "industrial-township",
   "metadata": {},
   "outputs": [],
   "source": [
    "pred = model.predict(test.drop('Purchase', axis = 1))"
   ]
  },
  {
   "cell_type": "code",
   "execution_count": null,
   "id": "tutorial-matthew",
   "metadata": {},
   "outputs": [],
   "source": [
    "compares = pred == test.Purchase"
   ]
  },
  {
   "cell_type": "code",
   "execution_count": null,
   "id": "transparent-indonesia",
   "metadata": {},
   "outputs": [],
   "source": [
    "compares.mean()"
   ]
  },
  {
   "cell_type": "code",
   "execution_count": null,
   "id": "noticed-prairie",
   "metadata": {},
   "outputs": [],
   "source": [
    "print(confusion_matrix(test.Purchase, pred))"
   ]
  },
  {
   "cell_type": "code",
   "execution_count": null,
   "id": "wanted-accounting",
   "metadata": {},
   "outputs": [],
   "source": [
    "print('TN | FP\\n--------\\nFN | TP')"
   ]
  },
  {
   "cell_type": "markdown",
   "id": "fleet-institute",
   "metadata": {},
   "source": [
    "#### ----> Applied <----"
   ]
  },
  {
   "cell_type": "code",
   "execution_count": null,
   "id": "compound-afternoon",
   "metadata": {},
   "outputs": [],
   "source": [
    "df = get_rdataset('Weekly', 'ISLR', cache=True).data"
   ]
  },
  {
   "cell_type": "code",
   "execution_count": null,
   "id": "colonial-brake",
   "metadata": {},
   "outputs": [],
   "source": [
    "df.head()"
   ]
  },
  {
   "cell_type": "code",
   "execution_count": null,
   "id": "tested-seminar",
   "metadata": {},
   "outputs": [],
   "source": [
    "sns.pairplot(df, hue = 'Direction')"
   ]
  },
  {
   "cell_type": "code",
   "execution_count": null,
   "id": "buried-belle",
   "metadata": {},
   "outputs": [],
   "source": [
    "df.corr()"
   ]
  },
  {
   "cell_type": "code",
   "execution_count": null,
   "id": "noted-moment",
   "metadata": {},
   "outputs": [],
   "source": [
    "df.plot(y='Volume')"
   ]
  },
  {
   "cell_type": "code",
   "execution_count": null,
   "id": "identical-radio",
   "metadata": {},
   "outputs": [],
   "source": [
    "df.Direction = df.Direction.apply(lambda x: 1 if x == 'Up' else 0)"
   ]
  },
  {
   "cell_type": "code",
   "execution_count": null,
   "id": "handy-riverside",
   "metadata": {},
   "outputs": [],
   "source": [
    "X = add_constant(df[['Lag1','Lag2','Lag3','Lag4','Lag5', 'Volume']])\n",
    "model = dm.Logit(df['Direction'], X).fit()"
   ]
  },
  {
   "cell_type": "code",
   "execution_count": null,
   "id": "hispanic-genome",
   "metadata": {},
   "outputs": [],
   "source": [
    "print( model.summary() )"
   ]
  },
  {
   "cell_type": "code",
   "execution_count": null,
   "id": "removed-theory",
   "metadata": {},
   "outputs": [],
   "source": [
    "pred = model.predict(X)"
   ]
  },
  {
   "cell_type": "code",
   "execution_count": null,
   "id": "lonely-singing",
   "metadata": {},
   "outputs": [],
   "source": [
    "from sklearn.metrics import confusion_matrix\n",
    "print(confusion_matrix(df.Direction, np.round(pred)))"
   ]
  },
  {
   "cell_type": "code",
   "execution_count": null,
   "id": "smaller-luxury",
   "metadata": {},
   "outputs": [],
   "source": [
    "mat = confusion_matrix(df.Direction, np.round(pred))\n",
    "print('Positive Correct Predictions:', 557/(557+48), '\\nNegative Correct Predictions:', 54/(430 + 54))"
   ]
  },
  {
   "cell_type": "code",
   "execution_count": null,
   "id": "neural-attribute",
   "metadata": {},
   "outputs": [],
   "source": [
    "train = df[df.Year < 2009]\n",
    "test = df[df.Year >= 2009]"
   ]
  },
  {
   "cell_type": "code",
   "execution_count": null,
   "id": "authorized-yemen",
   "metadata": {},
   "outputs": [],
   "source": [
    "X = add_constant(train['Lag2'])\n",
    "model = dm.Logit(train['Direction'], X).fit()\n",
    "\n",
    "print( model.summary() )\n",
    "pred = model.predict(add_constant(test['Lag2']))"
   ]
  },
  {
   "cell_type": "code",
   "execution_count": null,
   "id": "curious-arnold",
   "metadata": {},
   "outputs": [],
   "source": [
    "print(confusion_matrix(test.Direction, np.round(pred)))"
   ]
  },
  {
   "cell_type": "code",
   "execution_count": null,
   "id": "sporting-chassis",
   "metadata": {},
   "outputs": [],
   "source": [
    "mat = confusion_matrix(test.Direction, np.round(pred))\n",
    "print('Positive Correct Predictions:', mat[1,1]/mat[:,1].sum() ,\n",
    "      '\\nNegative Correct Predictions:', mat[0,0]/mat[:,0].sum())"
   ]
  },
  {
   "cell_type": "code",
   "execution_count": null,
   "id": "geographic-paraguay",
   "metadata": {},
   "outputs": [],
   "source": [
    "from sklearn.discriminant_analysis import LinearDiscriminantAnalysis as lda, QuadraticDiscriminantAnalysis as qda"
   ]
  },
  {
   "cell_type": "code",
   "execution_count": null,
   "id": "demanding-liver",
   "metadata": {},
   "outputs": [],
   "source": [
    "model = lda().fit( np.array(train.Lag2).reshape(len(train),1) , train.Direction)\n",
    "pred = model.predict( np.array(test.Lag2).reshape(len(test), 1) )\n",
    "\n",
    "print(confusion_matrix(test.Direction, np.round(pred)))\n",
    "\n",
    "mat = confusion_matrix(test.Direction, np.round(pred))\n",
    "print('\\nPositive Correct Predictions:', mat[1,1]/mat[:,1].sum() ,\n",
    "      '\\nNegative Correct Predictions:', mat[0,0]/mat[:,0].sum())"
   ]
  },
  {
   "cell_type": "code",
   "execution_count": null,
   "id": "collaborative-motivation",
   "metadata": {},
   "outputs": [],
   "source": [
    "model = qda().fit( np.array(train.Lag2).reshape(len(train),1) , train.Direction)\n",
    "pred = model.predict( np.array(test.Lag2).reshape(len(test), 1) )\n",
    "\n",
    "print(confusion_matrix(test.Direction, np.round(pred)))\n",
    "\n",
    "mat = confusion_matrix(test.Direction, np.round(pred))\n",
    "print('\\nPositive Correct Predictions:', mat[1,1]/mat[:,1].sum() ,\n",
    "      '\\nNegative Correct Predictions:', mat[0,0]/mat[:,0].sum())"
   ]
  },
  {
   "cell_type": "code",
   "execution_count": null,
   "id": "white-orbit",
   "metadata": {},
   "outputs": [],
   "source": [
    "from sklearn.neighbors import KNeighborsClassifier as knn"
   ]
  },
  {
   "cell_type": "code",
   "execution_count": null,
   "id": "simplified-concern",
   "metadata": {},
   "outputs": [],
   "source": [
    "model = knn(n_neighbors=1).fit(np.array(train.Lag2).reshape(len(train),1) , train.Direction)\n",
    "pred = model.predict( np.array(test.Lag2).reshape(len(test), 1) )\n",
    "\n",
    "print(confusion_matrix(test.Direction, np.round(pred)))\n",
    "\n",
    "mat = confusion_matrix(test.Direction, np.round(pred))\n",
    "print('\\nPositive Correct Predictions:', mat[1,1]/mat[:,1].sum() ,\n",
    "      '\\nNegative Correct Predictions:', mat[0,0]/mat[:,0].sum())"
   ]
  },
  {
   "cell_type": "code",
   "execution_count": null,
   "id": "spatial-psychiatry",
   "metadata": {},
   "outputs": [],
   "source": [
    "df = get_rdataset('Auto', 'ISLR', cache=True).data"
   ]
  },
  {
   "cell_type": "code",
   "execution_count": null,
   "id": "under-plant",
   "metadata": {},
   "outputs": [],
   "source": [
    "df.info()"
   ]
  },
  {
   "cell_type": "code",
   "execution_count": null,
   "id": "iraqi-spell",
   "metadata": {},
   "outputs": [],
   "source": [
    "df.describe()"
   ]
  },
  {
   "cell_type": "code",
   "execution_count": null,
   "id": "numerous-request",
   "metadata": {},
   "outputs": [],
   "source": [
    "df.head()"
   ]
  },
  {
   "cell_type": "code",
   "execution_count": null,
   "id": "breathing-today",
   "metadata": {},
   "outputs": [],
   "source": [
    "df['mpg01'] = df.mpg\n",
    "df.mpg01 = df.mpg.apply(lambda x: 1 if x > df.mpg.median() else 0)"
   ]
  },
  {
   "cell_type": "code",
   "execution_count": null,
   "id": "stuck-arcade",
   "metadata": {},
   "outputs": [],
   "source": [
    "df.head()"
   ]
  },
  {
   "cell_type": "code",
   "execution_count": null,
   "id": "biblical-copyright",
   "metadata": {},
   "outputs": [],
   "source": [
    "df.mpg.median()"
   ]
  },
  {
   "cell_type": "code",
   "execution_count": null,
   "id": "criminal-runner",
   "metadata": {},
   "outputs": [],
   "source": [
    "df.drop('mpg', axis = 1, inplace = True)"
   ]
  },
  {
   "cell_type": "code",
   "execution_count": null,
   "id": "corrected-binding",
   "metadata": {},
   "outputs": [],
   "source": [
    "sns.pairplot(df, hue = 'mpg01')"
   ]
  },
  {
   "cell_type": "code",
   "execution_count": null,
   "id": "killing-arrow",
   "metadata": {},
   "outputs": [],
   "source": [
    "df.corr()"
   ]
  },
  {
   "cell_type": "code",
   "execution_count": null,
   "id": "biological-wales",
   "metadata": {},
   "outputs": [],
   "source": [
    "sns.boxplot(x = 'mpg01', y = 'weight', data = df)"
   ]
  },
  {
   "cell_type": "code",
   "execution_count": null,
   "id": "dense-sentence",
   "metadata": {},
   "outputs": [],
   "source": [
    "sns.boxplot(x = 'mpg01', y = 'acceleration', data = df)"
   ]
  },
  {
   "cell_type": "code",
   "execution_count": null,
   "id": "alive-spyware",
   "metadata": {},
   "outputs": [],
   "source": [
    "sns.boxplot(x = 'mpg01', y = 'cylinders', data = df)"
   ]
  },
  {
   "cell_type": "code",
   "execution_count": null,
   "id": "aggressive-baker",
   "metadata": {},
   "outputs": [],
   "source": [
    "sns.boxplot(x = 'mpg01', y = 'horsepower', data = df)"
   ]
  },
  {
   "cell_type": "code",
   "execution_count": null,
   "id": "mexican-kelly",
   "metadata": {},
   "outputs": [],
   "source": [
    "sns.boxplot(x = 'mpg01', y = 'displacement', data = df)"
   ]
  },
  {
   "cell_type": "code",
   "execution_count": null,
   "id": "exceptional-healing",
   "metadata": {},
   "outputs": [],
   "source": [
    "test = df.sample(frac = 0.33)"
   ]
  },
  {
   "cell_type": "code",
   "execution_count": null,
   "id": "weird-colony",
   "metadata": {},
   "outputs": [],
   "source": [
    "train = df.drop(test.index)"
   ]
  },
  {
   "cell_type": "code",
   "execution_count": null,
   "id": "dietary-cyprus",
   "metadata": {},
   "outputs": [],
   "source": [
    "from sklearn.discriminant_analysis import LinearDiscriminantAnalysis as lda"
   ]
  },
  {
   "cell_type": "code",
   "execution_count": null,
   "id": "boring-harrison",
   "metadata": {},
   "outputs": [],
   "source": [
    "train.head(1)"
   ]
  },
  {
   "cell_type": "code",
   "execution_count": null,
   "id": "roman-lying",
   "metadata": {},
   "outputs": [],
   "source": [
    "model = lda().fit(train[['cylinders', 'displacement', 'horsepower', 'weight']], train.mpg01)\n",
    "\n",
    "pred = model.predict(test[['cylinders', 'displacement', 'horsepower', 'weight']])"
   ]
  },
  {
   "cell_type": "code",
   "execution_count": null,
   "id": "eastern-conflict",
   "metadata": {},
   "outputs": [],
   "source": [
    "from sklearn.metrics import confusion_matrix\n",
    "\n",
    "mat = confusion_matrix(test.mpg01, pred)"
   ]
  },
  {
   "cell_type": "code",
   "execution_count": null,
   "id": "starting-indie",
   "metadata": {},
   "outputs": [],
   "source": [
    "print(mat)\n",
    "\n",
    "(mat[0,1] + mat[1,0])/(mat[:,0].sum()+mat[:,1].sum())"
   ]
  },
  {
   "cell_type": "code",
   "execution_count": null,
   "id": "measured-bulletin",
   "metadata": {},
   "outputs": [],
   "source": [
    "from sklearn.discriminant_analysis import QuadraticDiscriminantAnalysis as qda"
   ]
  },
  {
   "cell_type": "code",
   "execution_count": null,
   "id": "driving-elements",
   "metadata": {},
   "outputs": [],
   "source": [
    "model = qda().fit(train[['cylinders', 'displacement', 'horsepower', 'weight']], train.mpg01)\n",
    "\n",
    "pred = model.predict(test[['cylinders', 'displacement', 'horsepower', 'weight']])\n",
    "\n",
    "mat = confusion_matrix(test.mpg01, pred)"
   ]
  },
  {
   "cell_type": "code",
   "execution_count": null,
   "id": "economic-relay",
   "metadata": {},
   "outputs": [],
   "source": [
    "print(mat)\n",
    "\n",
    "(mat[0,1] + mat[1,0])/(mat[:,0].sum()+mat[:,1].sum())"
   ]
  },
  {
   "cell_type": "code",
   "execution_count": null,
   "id": "serial-feeling",
   "metadata": {},
   "outputs": [],
   "source": [
    "X = add_constant( train[['cylinders', 'displacement', 'horsepower', 'weight']] )\n",
    "model = dm.Logit(train.mpg01, X).fit()\n",
    "\n",
    "pred = model.predict(add_constant(test[['cylinders', 'displacement', 'horsepower', 'weight']]))"
   ]
  },
  {
   "cell_type": "code",
   "execution_count": null,
   "id": "worldwide-forest",
   "metadata": {},
   "outputs": [],
   "source": [
    "mat = confusion_matrix(test.mpg01, pred.round())\n",
    "print(mat)\n",
    "\n",
    "(mat[0,1] + mat[1,0])/(mat[:,0].sum()+mat[:,1].sum())"
   ]
  },
  {
   "cell_type": "code",
   "execution_count": null,
   "id": "serial-missouri",
   "metadata": {},
   "outputs": [],
   "source": [
    "from sklearn.neighbors import KNeighborsClassifier as knn\n",
    "from sklearn.preprocessing import StandardScaler"
   ]
  },
  {
   "cell_type": "code",
   "execution_count": null,
   "id": "valued-cargo",
   "metadata": {},
   "outputs": [],
   "source": [
    "scaler = StandardScaler()"
   ]
  },
  {
   "cell_type": "code",
   "execution_count": null,
   "id": "accepting-armenia",
   "metadata": {},
   "outputs": [],
   "source": [
    "scld_df = scaler.fit_transform( train[['cylinders', 'displacement', 'horsepower', 'weight']] )"
   ]
  },
  {
   "cell_type": "code",
   "execution_count": null,
   "id": "sharing-contemporary",
   "metadata": {},
   "outputs": [],
   "source": [
    "scld_df = pd.DataFrame(data = scld_df, columns = ['cylinders', 'displacement', 'horsepower', 'weight'])\n",
    "scld_df.index = train.index"
   ]
  },
  {
   "cell_type": "code",
   "execution_count": null,
   "id": "norman-easter",
   "metadata": {},
   "outputs": [],
   "source": [
    "scld_df['mpg01'] = train.mpg01\n",
    "model = knn(n_neighbors=3).fit(scld_df[['cylinders', 'displacement', 'horsepower', 'weight']], scld_df.mpg01)"
   ]
  },
  {
   "cell_type": "code",
   "execution_count": null,
   "id": "functioning-thriller",
   "metadata": {},
   "outputs": [],
   "source": [
    "scaled_test = scaler.fit_transform( test[['cylinders', 'displacement', 'horsepower', 'weight']] )\n",
    "scaled_test = pd.DataFrame(data = scaled_test, columns = ['cylinders', 'displacement', 'horsepower', 'weight'], index = test.index)\n",
    "scaled_test['mpg01'] = test.mpg01\n",
    "\n",
    "pred = model.predict(scaled_test[['cylinders', 'displacement', 'horsepower', 'weight']])"
   ]
  },
  {
   "cell_type": "code",
   "execution_count": null,
   "id": "false-modification",
   "metadata": {},
   "outputs": [],
   "source": [
    "mat = confusion_matrix(test.mpg01, pred.round())\n",
    "print(mat)\n",
    "\n",
    "(mat[0,1] + mat[1,0])/(mat[:,0].sum()+mat[:,1].sum())"
   ]
  },
  {
   "cell_type": "code",
   "execution_count": null,
   "id": "bizarre-birth",
   "metadata": {},
   "outputs": [],
   "source": []
  }
 ],
 "metadata": {
  "kernelspec": {
   "display_name": "Python 3 (ipykernel)",
   "language": "python",
   "name": "python3"
  },
  "language_info": {
   "codemirror_mode": {
    "name": "ipython",
    "version": 3
   },
   "file_extension": ".py",
   "mimetype": "text/x-python",
   "name": "python",
   "nbconvert_exporter": "python",
   "pygments_lexer": "ipython3",
   "version": "3.9.7"
  }
 },
 "nbformat": 4,
 "nbformat_minor": 5
}
